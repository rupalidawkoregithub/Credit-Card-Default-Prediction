{
  "nbformat": 4,
  "nbformat_minor": 0,
  "metadata": {
    "colab": {
      "private_outputs": true,
      "provenance": [],
      "collapsed_sections": [
        "vncDsAP0Gaoa",
        "FJNUwmbgGyua",
        "w6K7xa23Elo4",
        "yQaldy8SH6Dl",
        "mDgbUHAGgjLW",
        "O_i_v8NEhb9l",
        "HhfV-JJviCcP",
        "Y3lxredqlCYt",
        "3RnN4peoiCZX",
        "x71ZqKXriCWQ",
        "7hBIi_osiCS2",
        "JlHwYmJAmNHm",
        "35m5QtbWiB9F",
        "PoPl-ycgm1ru",
        "H0kj-8xxnORC",
        "nA9Y7ga8ng1Z",
        "PBTbrJXOngz2",
        "u3PMJOP6ngxN",
        "dauF4eBmngu3",
        "bKJF3rekwFvQ",
        "MSa1f5Uengrz",
        "GF8Ens_Soomf",
        "0wOQAZs5pc--",
        "K5QZ13OEpz2H",
        "lQ7QKXXCp7Bj",
        "448CDAPjqfQr",
        "KSlN3yHqYklG",
        "t6dVpIINYklI",
        "ijmpgYnKYklI",
        "-JiQyfWJYklI",
        "EM7whBJCYoAo",
        "fge-S5ZAYoAp",
        "85gYPyotYoAp",
        "RoGjAbkUYoAp",
        "4Of9eVA-YrdM",
        "iky9q4vBYrdO",
        "F6T5p64dYrdO",
        "y-Ehk30pYrdP",
        "bamQiAODYuh1",
        "QHF8YVU7Yuh3",
        "GwzvFGzlYuh3",
        "qYpmQ266Yuh3",
        "OH-pJp9IphqM",
        "bbFf2-_FphqN",
        "_ouA3fa0phqN",
        "Seke61FWphqN",
        "PIIx-8_IphqN",
        "t27r6nlMphqO",
        "r2jJGEOYphqO",
        "b0JNsNcRphqO",
        "BZR9WyysphqO",
        "jj7wYXLtphqO",
        "eZrbJ2SmphqO",
        "rFu4xreNphqO",
        "YJ55k-q6phqO",
        "gCFgpxoyphqP",
        "OVtJsKN_phqQ",
        "lssrdh5qphqQ",
        "U2RJ9gkRphqQ",
        "1M8mcRywphqQ",
        "tgIPom80phqQ",
        "JMzcOPDDphqR",
        "x-EpHcCOp1ci",
        "X_VqEhTip1ck",
        "8zGJKyg5p1ck",
        "PVzmfK_Ep1ck",
        "n3dbpmDWp1ck",
        "ylSl6qgtp1ck",
        "ZWILFDl5p1ck",
        "M7G43BXep1ck",
        "Ag9LCva-p1cl",
        "E6MkPsBcp1cl",
        "2cELzS2fp1cl",
        "3MPXvC8up1cl",
        "NC_X3p0fY2L0",
        "UV0SzAkaZNRQ",
        "YPEH6qLeZNRQ",
        "q29F0dvdveiT",
        "EXh0U9oCveiU",
        "22aHeOlLveiV",
        "g-ATYxFrGrvw",
        "Yfr_Vlr8HBkt",
        "8yEUt7NnHlrM",
        "tEA2Xm5dHt1r",
        "I79__PHVH19G",
        "Ou-I18pAyIpj",
        "fF3858GYyt-u",
        "4_0_7-oCpUZd",
        "hwyV_J3ipUZe",
        "3yB-zSqbpUZe",
        "dEUvejAfpUZe",
        "Fd15vwWVpUZf",
        "bn_IUdTipZyH",
        "49K5P_iCpZyH",
        "Nff-vKELpZyI",
        "kLW572S8pZyI",
        "dWbDXHzopZyI",
        "yLjJCtPM0KBk",
        "xiyOF9F70UgQ",
        "7wuGOrhz0itI",
        "id1riN9m0vUs",
        "578E2V7j08f6",
        "89xtkJwZ18nB",
        "67NQN5KX2AMe",
        "Iwf50b-R2tYG",
        "GMQiZwjn3iu7",
        "WVIkgGqN3qsr",
        "XkPnILGE3zoT",
        "Hlsf0x5436Go",
        "mT9DMSJo4nBL",
        "c49ITxTc407N",
        "OeJFEK0N496M",
        "9ExmJH0g5HBk",
        "cJNqERVU536h",
        "k5UmGsbsOxih",
        "T0VqWOYE6DLQ",
        "qBMux9mC6MCf",
        "-oLEiFgy-5Pf",
        "C74aWNz2AliB",
        "2DejudWSA-a0",
        "pEMng2IbBLp7",
        "rAdphbQ9Bhjc",
        "TNVZ9zx19K6k",
        "nqoHp30x9hH9",
        "rMDnDkt2B6du",
        "yiiVWRdJDDil",
        "1UUpS68QDMuG",
        "kexQrXU-DjzY",
        "T5CmagL3EC8N",
        "BhH2vgX9EjGr",
        "qjKvONjwE8ra",
        "P1XJ9OREExlT",
        "VFOzZv6IFROw",
        "TIqpNgepFxVj",
        "VfCC591jGiD4",
        "OB4l2ZhMeS1U",
        "ArJBuiUVfxKd",
        "4qY1EAkEfxKe",
        "PiV4Ypx8fxKe",
        "TfvqoZmBfxKf",
        "dJ2tPlVmpsJ0",
        "JWYfwnehpsJ1",
        "-jK_YjpMpsJ2",
        "HAih1iBOpsJ2",
        "zVGeBEFhpsJ2",
        "bmKjuQ-FpsJ3",
        "Fze-IPXLpx6K",
        "7AN1z2sKpx6M",
        "9PIHJqyupx6M",
        "_-qAgymDpx6N",
        "Z-hykwinpx6N",
        "h_CCil-SKHpo",
        "cBFFvTBNJzUa",
        "HvGl1hHyA_VK",
        "EyNgTHvd2WFk",
        "KH5McJBi2d8v",
        "iW_Lq9qf2h6X",
        "-Kee-DAl2viO",
        "gCX9965dhzqZ",
        "gIfDvo9L0UH2"
      ],
      "include_colab_link": true
    },
    "kernelspec": {
      "name": "python3",
      "display_name": "Python 3"
    },
    "language_info": {
      "name": "python"
    }
  },
  "cells": [
    {
      "cell_type": "markdown",
      "metadata": {
        "id": "view-in-github",
        "colab_type": "text"
      },
      "source": [
        "<a href=\"https://colab.research.google.com/github/rupalidawkoregithub/Credit-Card-Default-Prediction/blob/main/Individual_Credit_Card_Default_Prediction.ipynb\" target=\"_parent\"><img src=\"https://colab.research.google.com/assets/colab-badge.svg\" alt=\"Open In Colab\"/></a>"
      ]
    },
    {
      "cell_type": "markdown",
      "source": [
        "# **Project Name**    - Credit Card Default Prediction\n",
        "\n"
      ],
      "metadata": {
        "id": "vncDsAP0Gaoa"
      }
    },
    {
      "cell_type": "markdown",
      "source": [
        "##### **Project Type**    - Classification\n",
        "##### **Contribution**    - Individual\n",
        "##### **Team Member 1 -** Rupali Dawkore\n"
      ],
      "metadata": {
        "id": "beRrZCGUAJYm"
      }
    },
    {
      "cell_type": "markdown",
      "source": [
        "# **Project Summary -**"
      ],
      "metadata": {
        "id": "FJNUwmbgGyua"
      }
    },
    {
      "cell_type": "markdown",
      "source": [
        "This project aimed at predicting the case of customers default payment in taiwan. data is of 29999 customers with 6 months transiction history.\n",
        "\n",
        "###**Evaluation Criteria:**\n",
        "The evaluation criteria was based on Recall value , F1 SCore and Accurance percentages. Higher the score better will be the prediction\n",
        "\n",
        "###**Problem Statement:**\n",
        "The main objective of this project - credit card default prediction is to develop a model that accurately predicts the likelihood of a credit card holder defaulting on their debt payment in the near future. The model should take into account various factors such as the cardholder's credit history and other relevant financial information. The goal is to minimize false negatives (predicting a non-default when the cardholder actually defaults) and false positives (predicting a default when the cardholder is able to repay their debt) while maximizing the overall accuracy of the prediction.\n",
        "\n",
        "###**Approach:**\n",
        "The project for credit card default prediction aims to develop a model that can accurately predict the likelihood of a credit card holder defaulting on their payments. The project typically includes the following steps:\n",
        "\n",
        "**Data cleaning and preprocessing:** Removing missing or irrelevant data and transforming the data into a format suitable for analysis.\n",
        "\n",
        "**Exploratory Data Analysis (EDA):** Analyzing the distribution of the data and identifying any patterns or trends that may be relevant to the prediction model.different types of graphs by separating them into univariate, bivariate and multivariate categories as a result, We came accross some meaningful insights that helped us to make future decisions of ML model pipeline\n",
        "\n",
        "**Feature selection:** Choosing the most relevant variables to include in the prediction model based on the results of the EDA.Under the umbrella of feature engineering we have detected and treated the outliers with the help of IQR technique and capped all the outliers of continous features in 25-75 percentile. Also, we noticed that some of the features were categorical in nature and ML model can not understand the language of alphabets(strings).So, we have encoded them into numericals using One-Hot Encoding technique as they were unordered in nature.\n",
        "\n",
        "**Model development:** Training and testing different machine learning algorithms, such as decision trees, random forests, and XG Boot, to find the best model for predicting credit card default.\n",
        "\n",
        "**Model evaluation:** Evaluating the performance of the selected model using metrics such as accuracy, precision, recall, and F1 score.\n",
        "\n",
        "The successful implementation of this model can help credit card companies make informed decisions about the risk associated with lending to individual customers and can also aid customers in managing their credit card debt."
      ],
      "metadata": {
        "id": "F6v_1wHtG2nS"
      }
    },
    {
      "cell_type": "markdown",
      "source": [
        "# **GitHub Link -**"
      ],
      "metadata": {
        "id": "w6K7xa23Elo4"
      }
    },
    {
      "cell_type": "markdown",
      "source": [
        "**Rupali Dawkore Github** : https://github.com/rupalidawkoregithub/Credit-Card-Default-Prediction"
      ],
      "metadata": {
        "id": "h1o69JH3Eqqn"
      }
    },
    {
      "cell_type": "markdown",
      "source": [
        "# **Problem Statement**\n"
      ],
      "metadata": {
        "id": "yQaldy8SH6Dl"
      }
    },
    {
      "cell_type": "markdown",
      "source": [
        "The problem statement for credit card default prediction is to develop a model that accurately predicts the likelihood of a credit card holder defaulting on their debt payment in the near future. The model should take into account various factors such as the cardholder's credit history and other relevant financial information. The goal is to minimize false negatives (predicting a non-default when the cardholder actually defaults) and false positives (predicting a default when the cardholder is able to repay their debt) while maximizing the overall accuracy of the prediction."
      ],
      "metadata": {
        "id": "DpeJGUA3kjGy"
      }
    },
    {
      "cell_type": "markdown",
      "source": [
        "# **General Guidelines** : -  "
      ],
      "metadata": {
        "id": "mDgbUHAGgjLW"
      }
    },
    {
      "cell_type": "markdown",
      "source": [
        "1.   Well-structured, formatted, and commented code is required. \n",
        "2.   Exception Handling, Production Grade Code & Deployment Ready Code will be a plus. Those students will be awarded some additional credits. \n",
        "     \n",
        "     The additional credits will have advantages over other students during Star Student selection.\n",
        "       \n",
        "             [ Note: - Deployment Ready Code is defined as, the whole .ipynb notebook should be executable in one go\n",
        "                       without a single error logged. ]\n",
        "\n",
        "3.   Each and every logic should have proper comments.\n",
        "4. You may add as many number of charts you want. Make Sure for each and every chart the following format should be answered.\n",
        "        \n",
        "\n",
        "```\n",
        "# Chart visualization code\n",
        "```\n",
        "            \n",
        "\n",
        "*   Why did you pick the specific chart?\n",
        "*   What is/are the insight(s) found from the chart?\n",
        "* Will the gained insights help creating a positive business impact? \n",
        "Are there any insights that lead to negative growth? Justify with specific reason.\n",
        "\n",
        "5. You have to create at least 15 logical & meaningful charts having important insights.\n",
        "\n",
        "\n",
        "[ Hints : - Do the Vizualization in  a structured way while following \"UBM\" Rule. \n",
        "\n",
        "U - Univariate Analysis,\n",
        "\n",
        "B - Bivariate Analysis (Numerical - Categorical, Numerical - Numerical, Categorical - Categorical)\n",
        "\n",
        "M - Multivariate Analysis\n",
        " ]\n",
        "\n",
        "\n",
        "\n",
        "\n",
        "\n",
        "6. You may add more ml algorithms for model creation. Make sure for each and every algorithm, the following format should be answered.\n",
        "\n",
        "\n",
        "*   Explain the ML Model used and it's performance using Evaluation metric Score Chart.\n",
        "\n",
        "\n",
        "*   Cross- Validation & Hyperparameter Tuning\n",
        "\n",
        "*   Have you seen any improvement? Note down the improvement with updates Evaluation metric Score Chart.\n",
        "\n",
        "*   Explain each evaluation metric's indication towards business and the business impact pf the ML model used.\n",
        "\n",
        "\n",
        "\n",
        "\n",
        "\n",
        "\n",
        "\n",
        "\n",
        "\n",
        "\n",
        "\n",
        "\n",
        "\n",
        "\n",
        "\n",
        "\n",
        "\n",
        "\n"
      ],
      "metadata": {
        "id": "ZrxVaUj-hHfC"
      }
    },
    {
      "cell_type": "markdown",
      "source": [
        "# ***Let's Begin !***"
      ],
      "metadata": {
        "id": "O_i_v8NEhb9l"
      }
    },
    {
      "cell_type": "markdown",
      "source": [
        "## ***1. Know Your Data***"
      ],
      "metadata": {
        "id": "HhfV-JJviCcP"
      }
    },
    {
      "cell_type": "markdown",
      "source": [
        "### Import Libraries"
      ],
      "metadata": {
        "id": "Y3lxredqlCYt"
      }
    },
    {
      "cell_type": "code",
      "source": [
        "# Importing basic libraries for data processing\n",
        "import numpy as np\n",
        "import pandas as pd\n",
        "import math\n",
        "from datetime import datetime\n",
        "# Importing libraries for data visualization\n",
        "import matplotlib.pyplot as plt\n",
        "%matplotlib inline\n",
        "import seaborn as sns\n",
        "# Adding this to ignore future warnings\n",
        "import warnings\n",
        "warnings.filterwarnings(\"ignore\")\n",
        "# importing missingo library which helps us to visualize the missing values\n",
        "import missingno as msno\n",
        "from sklearn.preprocessing import OneHotEncoder\n",
        "from sklearn.model_selection import train_test_split, cross_val_score\n",
        "from sklearn.preprocessing import MinMaxScaler, RobustScaler, StandardScaler "
      ],
      "metadata": {
        "id": "M8Vqi-pPk-HR"
      },
      "execution_count": null,
      "outputs": []
    },
    {
      "cell_type": "code",
      "source": [
        "#pip install --upgrade xlrd         ##run the cell at every restart of runtime"
      ],
      "metadata": {
        "id": "S4HZTCNMbKqw"
      },
      "execution_count": null,
      "outputs": []
    },
    {
      "cell_type": "code",
      "source": [
        "# Mount the Google Drive for Import the Dataset\n",
        "from google.colab import drive\n",
        "drive.mount('/content/drive')"
      ],
      "metadata": {
        "id": "x6PuQc7VZXgk"
      },
      "execution_count": null,
      "outputs": []
    },
    {
      "cell_type": "markdown",
      "source": [
        "### Dataset Loading"
      ],
      "metadata": {
        "id": "3RnN4peoiCZX"
      }
    },
    {
      "cell_type": "code",
      "source": [
        "# Load Dataset\n",
        "df = pd.read_excel('/content/drive/MyDrive/Credit Card Default Prediction - Classification/default of credit card clients.xls',header=1)"
      ],
      "metadata": {
        "id": "4CkvbW_SlZ_R"
      },
      "execution_count": null,
      "outputs": []
    },
    {
      "cell_type": "markdown",
      "source": [
        "### Dataset First View"
      ],
      "metadata": {
        "id": "x71ZqKXriCWQ"
      }
    },
    {
      "cell_type": "code",
      "source": [
        "# Dataset First Look\n",
        "df.head()"
      ],
      "metadata": {
        "id": "LWNFOSvLl09H"
      },
      "execution_count": null,
      "outputs": []
    },
    {
      "cell_type": "markdown",
      "source": [
        "Checked first five rows of dataset"
      ],
      "metadata": {
        "id": "MXK4Hkp9JKpM"
      }
    },
    {
      "cell_type": "code",
      "source": [
        "df.tail()"
      ],
      "metadata": {
        "id": "_sRe1yLgpKOZ"
      },
      "execution_count": null,
      "outputs": []
    },
    {
      "cell_type": "markdown",
      "source": [
        "Checked last five rows of dataset"
      ],
      "metadata": {
        "id": "WhKmXv-3JWQA"
      }
    },
    {
      "cell_type": "markdown",
      "source": [
        "### Dataset Rows & Columns count"
      ],
      "metadata": {
        "id": "7hBIi_osiCS2"
      }
    },
    {
      "cell_type": "code",
      "source": [
        "# Get the number of rows and columns\n",
        "rows, columns = df.shape"
      ],
      "metadata": {
        "id": "Zw9fBat1D_LX"
      },
      "execution_count": null,
      "outputs": []
    },
    {
      "cell_type": "code",
      "source": [
        "# Print the number of rows and columns\n",
        "print(\"Number of rows: \", rows)\n",
        "print(\"Number of columns: \", columns)"
      ],
      "metadata": {
        "id": "3k1RWu_hED2S"
      },
      "execution_count": null,
      "outputs": []
    },
    {
      "cell_type": "markdown",
      "source": [
        "There are 30000 rows and 25 columns in the dataset."
      ],
      "metadata": {
        "id": "HcFoK03V2R3T"
      }
    },
    {
      "cell_type": "markdown",
      "source": [
        "### Dataset Information"
      ],
      "metadata": {
        "id": "JlHwYmJAmNHm"
      }
    },
    {
      "cell_type": "code",
      "source": [
        "# Dataset Info\n",
        "df.info()"
      ],
      "metadata": {
        "id": "e9hRXRi6meOf"
      },
      "execution_count": null,
      "outputs": []
    },
    {
      "cell_type": "markdown",
      "source": [
        "All types of columns dtypes are integer"
      ],
      "metadata": {
        "id": "JckJsvI2EOfb"
      }
    },
    {
      "cell_type": "markdown",
      "source": [
        "#### Duplicate Values"
      ],
      "metadata": {
        "id": "35m5QtbWiB9F"
      }
    },
    {
      "cell_type": "code",
      "source": [
        "# Dataset Duplicate Value Count\n",
        "print(f\"Number of duplicated rows in default of credit card clients dataset: {df.duplicated().sum()}\")"
      ],
      "metadata": {
        "id": "1sLdpKYkmox0"
      },
      "execution_count": null,
      "outputs": []
    },
    {
      "cell_type": "markdown",
      "source": [
        "We do not have any duplicated rows in the dataset and that is very good for us."
      ],
      "metadata": {
        "id": "5BV1D1R6GRN1"
      }
    },
    {
      "cell_type": "markdown",
      "source": [
        "#### Missing Values/Null Values"
      ],
      "metadata": {
        "id": "PoPl-ycgm1ru"
      }
    },
    {
      "cell_type": "code",
      "source": [
        "# Missing Values/Null Values \n",
        "print(f\"Null values count in default of credit card clients dataset:\\n{df.isna().sum()}\\n\")\n",
        "print(\"-\"*50)\n",
        "print(f\"Infinite values count in default of credit card clients dataset:\\n{df.isin([np.inf, -np.inf]).sum()}\\n\")"
      ],
      "metadata": {
        "id": "GgHWkxvamxVg"
      },
      "execution_count": null,
      "outputs": []
    },
    {
      "cell_type": "markdown",
      "source": [
        "We don't have null or infinite values default of credit card clients dataset."
      ],
      "metadata": {
        "id": "AH3sol0WG1ha"
      }
    },
    {
      "cell_type": "code",
      "source": [
        "# Visualizing the missing values in default of credit card clients dataset\n",
        "msno.bar(df,figsize=(10,5), color=\"tab:green\")"
      ],
      "metadata": {
        "id": "3q5wnI3om9sJ"
      },
      "execution_count": null,
      "outputs": []
    },
    {
      "cell_type": "markdown",
      "source": [
        "Dataset dose not contains any NA values, null values and duplicates."
      ],
      "metadata": {
        "id": "h3Cp1u3N3FPg"
      }
    },
    {
      "cell_type": "markdown",
      "source": [
        "### What did you know about your dataset?"
      ],
      "metadata": {
        "id": "H0kj-8xxnORC"
      }
    },
    {
      "cell_type": "markdown",
      "source": [
        "The data provided is a sample of a credit card default dataset. The first row provides the header information, with each column indicating a feature of the credit card holder. The first column (ID) is the unique identifier for each record. The second column (LIMIT_BAL) indicates the credit limit of the credit card. The third column (SEX) indicates the gender of the cardholder. The fourth column (EDUCATION) indicates the level of education of the cardholder. The fifth column (MARRIAGE) indicates the marital status of the cardholder. The sixth column (AGE) indicates the age of the cardholder. The seventh to sixteenth columns (PAY_0 to PAY_9) indicate the repayment status for the last ten months. The remaining columns (BILL_AMT1 to BILL_AMT6, PAY_AMT1 to PAY_AMT6) indicate the amount of bill statement and amount paid in the last six months. The final column (default payment next month) is the target variable and indicates whether the cardholder defaulted on their payment in the next month (1) or not (0)."
      ],
      "metadata": {
        "id": "IFexwD-0IE_K"
      }
    },
    {
      "cell_type": "markdown",
      "source": [
        "## ***2. Understanding Your Variables***"
      ],
      "metadata": {
        "id": "nA9Y7ga8ng1Z"
      }
    },
    {
      "cell_type": "code",
      "source": [
        "# Dataset Columns\n",
        "df.columns"
      ],
      "metadata": {
        "id": "j7xfkqrt5Ag5"
      },
      "execution_count": null,
      "outputs": []
    },
    {
      "cell_type": "markdown",
      "source": [
        " # Descriptive Statistics"
      ],
      "metadata": {
        "id": "S5PnxaCLMi9h"
      }
    },
    {
      "cell_type": "markdown",
      "source": [
        "Now we see the descriptive statistics such as count, mean, standard deviation, minimum,maximum, quantiles"
      ],
      "metadata": {
        "id": "HXcnnCaMp6ik"
      }
    },
    {
      "cell_type": "code",
      "source": [
        "# Dataset Describe\n",
        "df.describe().T"
      ],
      "metadata": {
        "id": "0_yQ9-7-MIMo"
      },
      "execution_count": null,
      "outputs": []
    },
    {
      "cell_type": "markdown",
      "source": [
        "**Inference:**\n",
        "\n",
        "- There are around 30000 distict credit card clients.\n",
        "- The average value of credit card Limits is Rs 1,67,484.\n",
        "- The Limited Balance has a high Standard deviation as the meadian value is Rs 1,40,000 and the extreme values as Rs 10,00,000.\n",
        "- Here the average is about 35 and meadian is 28 with a standard deviation of 9.2. This difference is explained by some very old people in the data set as given that the maximum age is 79.\n",
        "- Bill Amount and Pay Amount also shows us that there some people with extremely high bill amount which may be because for the higher Credit Limit or because of the pending dues added up. \n",
        "- Bill amount for all the months, the mean is around 40,000 to 50,000 with some extreme amount in bill amount 3 of Rs 16,64,089.\n",
        "- Pay amount for all the months, the mean is around Rs 4800 to Rs 5800, with some extreme values such as Rs 16,64,089.\n",
        "- As the value 0 for default payment means 'not default' and value 1 means 'default', the mean of 0.221 means that there are 22.1% of credit card contracts that will default next month (will verify this in the next sections of this analysis)."
      ],
      "metadata": {
        "id": "QIUShNzQMzTZ"
      }
    },
    {
      "cell_type": "markdown",
      "source": [
        "### Variables Description "
      ],
      "metadata": {
        "id": "PBTbrJXOngz2"
      }
    },
    {
      "cell_type": "markdown",
      "source": [
        "**ID:** ID of each client\n",
        "\n",
        "**LIMIT_BAL:** Amount of given credit in NT dollars (includes individual and family/supplementary credit\n",
        "\n",
        "**SEX:** Gender (1=male, 2=female)\n",
        "\n",
        "**EDUCATION:** (1=graduate school, 2=university, 3=high school, 4=others, 5=unknown, 6=unknown)\n",
        "\n",
        "**MARRIAGE:** Marital status (1=married, 2=single, 3=others)\n",
        "\n",
        "**AGE:** Age in years\n",
        "\n",
        "**PAY_0:** Repayment status in September, 2005 (-1=pay duly, 1=payment delay for\n",
        "\n",
        "one month, 2=payment delay for two months,8=payment delay for eight months,\n",
        "\n",
        "9=payment delay for nine months and above)\n",
        "\n",
        "**PAY_2:** Repayment status in August, 2005 (scale same as above)\n",
        "\n",
        "**PAY_3:** Repayment status in July, 2005 (scale same as above)\n",
        "\n",
        "**PAY_4:** Repayment status in June, 2005 (scale same as above)\n",
        "\n",
        "**PAY_5:** Repayment status in May, 2005 (scale same as above)\n",
        "\n",
        "**PAY_6:** Repayment status in April, 2005 (scale same as above)\n",
        "\n",
        "**BILL_AMT1:** Amount of bill statement in September, 2005 (NT dollar)\n",
        "\n",
        "**BILL_AMT2:** Amount of bill statement in August, 2005 (NT dollar)\n",
        "\n",
        "**BILL_AMT3:** Amount of bill statement in July, 2005 (NT dollar)\n",
        "\n",
        "**BILL_AMT4:** Amount of bill statement in June, 2005 (NT dollar)\n",
        "\n",
        "**BILL_AMT5:** Amount of bill statement in May, 2005 (NT dollar)\n",
        "\n",
        "**BILL_AMT6:** Amount of bill statement in April, 2005 (NT dollar)\n",
        "\n",
        "**PAY_AMT1:** Amount of previous payment in September, 2005 (NT dollar)\n",
        "\n",
        "**PAY_AMT2:** Amount of previous payment in August, 2005 (NT dollar)\n",
        "\n",
        "**PAY_AMT3:** Amount of previous payment in July, 2005 (NT dollar)\n",
        "\n",
        "**PAY_AMT4:** Amount of previous payment in June, 2005 (NT dollar)\n",
        "\n",
        "**PAY_AMT5:** Amount of previous payment in May, 2005 (NT dollar)\n",
        "\n",
        "**PAY_AMT6:** Amount of previous payment in April, 2005 (NT dollar)\n",
        "\n",
        "**default.payment.next.month:** Default payment (1=yes, 0=no)"
      ],
      "metadata": {
        "id": "IA2xmjFPC0-s"
      }
    },
    {
      "cell_type": "markdown",
      "source": [
        "### Check Unique Values for each variable."
      ],
      "metadata": {
        "id": "u3PMJOP6ngxN"
      }
    },
    {
      "cell_type": "code",
      "source": [
        "df.columns"
      ],
      "metadata": {
        "id": "8EEhURuJOZCZ"
      },
      "execution_count": null,
      "outputs": []
    },
    {
      "cell_type": "code",
      "source": [
        "# Check Unique Values for each variable.\n",
        "def get_all_unique_values(df):\n",
        "    for col in df.columns:\n",
        "        print(f\"Unique values in column '{col}':\")\n",
        "        print(df[col].unique())\n",
        "        print(\"-\"*50)"
      ],
      "metadata": {
        "id": "zms12Yq5n-jE"
      },
      "execution_count": null,
      "outputs": []
    },
    {
      "cell_type": "code",
      "source": [
        "# Get and print all unique values\n",
        "get_all_unique_values(df)"
      ],
      "metadata": {
        "id": "dxNjz2e-OkI1"
      },
      "execution_count": null,
      "outputs": []
    },
    {
      "cell_type": "code",
      "source": [
        "# We dont need to ID Column so we drop it\n",
        "df.drop(['ID'],axis=1,inplace=True)"
      ],
      "metadata": {
        "id": "pHb1C_GNx5xz"
      },
      "execution_count": null,
      "outputs": []
    },
    {
      "cell_type": "code",
      "source": [
        "pd.options.display.max_columns = 25\n",
        "df.head(10)\n"
      ],
      "metadata": {
        "id": "KC3tdDdJfDc3"
      },
      "execution_count": null,
      "outputs": []
    },
    {
      "cell_type": "code",
      "source": [
        "df.info()"
      ],
      "metadata": {
        "id": "AkCaOzCjHgd5"
      },
      "execution_count": null,
      "outputs": []
    },
    {
      "cell_type": "markdown",
      "source": [
        "## 3. ***Data Wrangling***"
      ],
      "metadata": {
        "id": "dauF4eBmngu3"
      }
    },
    {
      "cell_type": "markdown",
      "source": [
        "### Data Wrangling Code"
      ],
      "metadata": {
        "id": "bKJF3rekwFvQ"
      }
    },
    {
      "cell_type": "markdown",
      "source": [
        "Copied dataset for data wrangling."
      ],
      "metadata": {
        "id": "9pwN0ofircYU"
      }
    },
    {
      "cell_type": "code",
      "source": [
        "df1 = df.copy()"
      ],
      "metadata": {
        "id": "rN9dnBr4qYmf"
      },
      "execution_count": null,
      "outputs": []
    },
    {
      "cell_type": "markdown",
      "source": [
        "Some of the columns didn’t make sense to me, so I decided to rename them into more understandable terms."
      ],
      "metadata": {
        "id": "HJscieUqPXqa"
      }
    },
    {
      "cell_type": "code",
      "source": [
        "# Rename target column\n",
        "df1 = df.rename(columns={'default payment next month':'default'})"
      ],
      "metadata": {
        "id": "gJgm5bTyw4l2"
      },
      "execution_count": null,
      "outputs": []
    },
    {
      "cell_type": "code",
      "source": [
        "df1.rename(columns={'PAY_0':'PAY_SEPT','PAY_2':'PAY_AUG','PAY_3':'PAY_JUL','PAY_4':'PAY_JUN','PAY_5':'PAY_MAY','PAY_6':'PAY_APR'},inplace=True)\n",
        "df1.rename(columns={'BILL_AMT1':'BILL_AMT_SEPT','BILL_AMT2':'BILL_AMT_AUG','BILL_AMT3':'BILL_AMT_JUL','BILL_AMT4':'BILL_AMT_JUN','BILL_AMT5':'BILL_AMT_MAY','BILL_AMT6':'BILL_AMT_APR'}, inplace = True)\n",
        "df1.rename(columns={'PAY_AMT1':'PAY_AMT_SEPT','PAY_AMT2':'PAY_AMT_AUG','PAY_AMT3':'PAY_AMT_JUL','PAY_AMT4':'PAY_AMT_JUN','PAY_AMT5':'PAY_AMT_MAY','PAY_AMT6':'PAY_AMT_APR'},inplace=True)"
      ],
      "metadata": {
        "id": "qT-NmuO_31fj"
      },
      "execution_count": null,
      "outputs": []
    },
    {
      "cell_type": "code",
      "source": [
        "#replacing values with there labels\n",
        "df1.replace({'SEX': {1 : 'Male', 2 : 'Female'}}, inplace=True)\n",
        "df1.replace({'EDUCATION' : {1 : 'Graduate School', 2 : 'University', 3 : 'High School', 4 : 'Others'}}, inplace=True)\n",
        "df1.replace({'MARRIAGE' : {1 : 'Married', 2 : 'Single', 3 : 'Others'}}, inplace = True)\n",
        "df1.replace({'default' : {1 : 'Yes', 0 : 'No'}}, inplace = True)"
      ],
      "metadata": {
        "id": "8kELTtNPqOnd"
      },
      "execution_count": null,
      "outputs": []
    },
    {
      "cell_type": "code",
      "source": [
        "# After renamed look of dataset\n",
        "df1.head(10)"
      ],
      "metadata": {
        "id": "Eo6gnaWuczht"
      },
      "execution_count": null,
      "outputs": []
    },
    {
      "cell_type": "code",
      "source": [
        "#category wise values\n",
        "df1['EDUCATION'].value_counts()"
      ],
      "metadata": {
        "id": "2Z9nUqL3vTiR"
      },
      "execution_count": null,
      "outputs": []
    },
    {
      "cell_type": "markdown",
      "source": [
        "In education column, values such as 5,6 and 0 are unknown. Let's combine those values as others."
      ],
      "metadata": {
        "id": "vnfBwXBNvpk0"
      }
    },
    {
      "cell_type": "code",
      "source": [
        "#replcae values with 5, 6 and 0 to Others\n",
        "df1.EDUCATION = df1.EDUCATION.replace({5: \"Others\", 6: \"Others\",0: \"Others\"})"
      ],
      "metadata": {
        "id": "hYi4t4jkvzGb"
      },
      "execution_count": null,
      "outputs": []
    },
    {
      "cell_type": "code",
      "source": [
        "# Rechecking value count of education column after combine others values\n",
        "df1['EDUCATION'].value_counts()"
      ],
      "metadata": {
        "id": "_wkOtdzev6ST"
      },
      "execution_count": null,
      "outputs": []
    },
    {
      "cell_type": "code",
      "source": [
        "#category wise values\n",
        "df1['MARRIAGE'].value_counts()"
      ],
      "metadata": {
        "id": "IzHawr0AzbZp"
      },
      "execution_count": null,
      "outputs": []
    },
    {
      "cell_type": "markdown",
      "source": [
        "In marriage column, 0 values are not known. Combine those values in others category."
      ],
      "metadata": {
        "id": "KeznT5KHzfFA"
      }
    },
    {
      "cell_type": "code",
      "source": [
        "#replace 0 with Others\n",
        "df1.MARRIAGE = df1.MARRIAGE.replace({0: \"Others\"})"
      ],
      "metadata": {
        "id": "5VgPP9eQzjz6"
      },
      "execution_count": null,
      "outputs": []
    },
    {
      "cell_type": "code",
      "source": [
        "# Rechecking\n",
        "df1['MARRIAGE'].value_counts()"
      ],
      "metadata": {
        "id": "M2Fpju3jzx89"
      },
      "execution_count": null,
      "outputs": []
    },
    {
      "cell_type": "markdown",
      "source": [
        "**Checking Distribution of default or non-default case**\n",
        "\n"
      ],
      "metadata": {
        "id": "vm1_Wc7CFOOs"
      }
    },
    {
      "cell_type": "code",
      "source": [
        "mi0 = df[df['default payment next month']==0]\n",
        "mi1 = df[df['default payment next month']==1]"
      ],
      "metadata": {
        "id": "v8gaQHwvDaR3"
      },
      "execution_count": null,
      "outputs": []
    },
    {
      "cell_type": "code",
      "source": [
        "mi0.value_counts().sum()  # Non-Default => 0 or NO"
      ],
      "metadata": {
        "id": "5Pt0d8Tr6935"
      },
      "execution_count": null,
      "outputs": []
    },
    {
      "cell_type": "code",
      "source": [
        "mi1.value_counts().sum()  # Default => 1 or YES"
      ],
      "metadata": {
        "id": "nGWkw9g87TXz"
      },
      "execution_count": null,
      "outputs": []
    },
    {
      "cell_type": "code",
      "source": [
        "df.columns"
      ],
      "metadata": {
        "id": "Dbm8Ozgi5nnI"
      },
      "execution_count": null,
      "outputs": []
    },
    {
      "cell_type": "code",
      "source": [
        "con_col=['LIMIT_BAL', 'SEX', 'EDUCATION', 'MARRIAGE', 'AGE', 'PAY_0', 'PAY_2',\n",
        "       'PAY_3', 'PAY_4', 'PAY_5', 'PAY_6', 'BILL_AMT1', 'BILL_AMT2',\n",
        "       'BILL_AMT3', 'BILL_AMT4', 'BILL_AMT5', 'BILL_AMT6', 'PAY_AMT1',\n",
        "       'PAY_AMT2', 'PAY_AMT3', 'PAY_AMT4', 'PAY_AMT5', 'PAY_AMT6']\n",
        "# Checking Distribution of Non - Default \n",
        "plt.figure(figsize=(20,20))\n",
        "for num,i in enumerate(con_col):\n",
        "    plt.subplot(6,5,num+1)\n",
        "    sns.distplot(mi0[i],color='g')\n",
        "    plt.tight_layout()\n",
        "plt.show()"
      ],
      "metadata": {
        "id": "-3dgG4bZEibT"
      },
      "execution_count": null,
      "outputs": []
    },
    {
      "cell_type": "code",
      "source": [
        "# Checking Distribution of Default Case \n",
        "plt.figure(figsize=(20,20))\n",
        "for num,i in enumerate(con_col):\n",
        "    plt.subplot(6,5,num+1)\n",
        "    sns.distplot(mi1[i],color='r')\n",
        "    plt.tight_layout()\n",
        "plt.show()"
      ],
      "metadata": {
        "id": "TMXxsGfR8rj1"
      },
      "execution_count": null,
      "outputs": []
    },
    {
      "cell_type": "markdown",
      "source": [
        "### What all manipulations have you done and insights you found?"
      ],
      "metadata": {
        "id": "wBU2X5xmQfma"
      }
    },
    {
      "cell_type": "markdown",
      "source": [
        "1. I have Changed the Name of a columns with its meaningfull name\n",
        "\n",
        "2. Grouped unknown EDUCATIONcategories (0,5,6) and re-assigned them to 4 (others)\n",
        "\n",
        "3. Grouped unknown MARRIAGEcategories (0) and re-assigned them to 3 (others)\n",
        "\n",
        "4. Checking Distribution of default or non-default case"
      ],
      "metadata": {
        "id": "a1mm8yqSQd__"
      }
    },
    {
      "cell_type": "markdown",
      "source": [
        "## ***4. Data Vizualization, Storytelling & Experimenting with charts : Understand the relationships between variables***"
      ],
      "metadata": {
        "id": "GF8Ens_Soomf"
      }
    },
    {
      "cell_type": "markdown",
      "source": [
        "# **Univariate**"
      ],
      "metadata": {
        "id": "3ITwYZhn2xfF"
      }
    },
    {
      "cell_type": "code",
      "source": [
        "df1.columns"
      ],
      "metadata": {
        "id": "RBp5zjWutAU2"
      },
      "execution_count": null,
      "outputs": []
    },
    {
      "cell_type": "markdown",
      "source": [
        "## Chart - 1"
      ],
      "metadata": {
        "id": "irXXTAQ9XXtN"
      }
    },
    {
      "cell_type": "code",
      "source": [
        "#Plotting payment staus using countplot\n",
        "pay_col = ['PAY_SEPT',\t'PAY_AUG',\t'PAY_JUL',\t'PAY_JUN',\t'PAY_MAY',\t'PAY_APR']\n",
        "plt.figure(figsize=(20,20))\n",
        "for num,i in enumerate(pay_col):\n",
        "    plt.subplot(4,3,num+1)\n",
        "    sns.countplot(df1[i])\n",
        "    plt.tight_layout()\n",
        "plt.show()"
      ],
      "metadata": {
        "id": "47BbyFnw7x7s"
      },
      "execution_count": null,
      "outputs": []
    },
    {
      "cell_type": "markdown",
      "source": [
        "Each column represents the status of payment for a given month:\n",
        "\n",
        "**1.'PAY_SEPT':** Represents the payment status in September.\n",
        "\n",
        "**2.'PAY_AUG':** Represents the payment status in August.\n",
        "\n",
        "**3.'PAY_JUL':** Represents the payment status in July.\n",
        "\n",
        "**4.'PAY_JUN':** Represents the payment status in June.\n",
        "\n",
        "**5.'PAY_MAY':** Represents the payment status in May.\n",
        "\n",
        "**6.'PAY_APR':** Represents the payment status in April.\n",
        "\n",
        "The countplot is used to visualize the distribution of the values in each of these columns. It shows the count of each unique value in the column, creating a histogram-like representation. The goal of this visualization is to see the frequency of each payment status, which can help understand the overall payment behavior of credit card customers in the data.\n",
        "\n",
        "\n",
        "\n",
        "\n"
      ],
      "metadata": {
        "id": "cnpUeZe4SHqP"
      }
    },
    {
      "cell_type": "markdown",
      "source": [
        "## Chart - 2"
      ],
      "metadata": {
        "id": "Ieq9ExSuXfIm"
      }
    },
    {
      "cell_type": "markdown",
      "source": [
        "###**Distribution of balance limit of credit card of customer**"
      ],
      "metadata": {
        "id": "5wpAXVI8TYl6"
      }
    },
    {
      "cell_type": "code",
      "source": [
        "import plotly.express as px\n",
        "fig1 = px.histogram(df1, x = 'LIMIT_BAL', marginal = 'box',\n",
        "                    title = 'Distribution of balance limit of card', \n",
        "                    labels = {'x': 'Dollar($)', 'y': 'Number of card'},\n",
        "                   color_discrete_sequence=px.colors.qualitative.Antique)\n",
        "fig1.update_layout(width=900, height=700)\n",
        "fig1.show()"
      ],
      "metadata": {
        "id": "XETY9KJGOk2e"
      },
      "execution_count": null,
      "outputs": []
    },
    {
      "cell_type": "markdown",
      "source": [
        "It is found that limit balance feature is **right skewed, middle 50% of value lie between 50K to 240k. few of limit goes beyond 530k taiwan dollar.**"
      ],
      "metadata": {
        "id": "qTFQKTN96BKj"
      }
    },
    {
      "cell_type": "markdown",
      "source": [
        "##### 1. Why did you pick the specific chart?"
      ],
      "metadata": {
        "id": "ZqjUzsL8Yd8V"
      }
    },
    {
      "cell_type": "markdown",
      "source": [
        "The Histogram chart was picked because it is well-suited for visualizing the distribution of a single variable and provides useful information about the **shape and properties of the data**."
      ],
      "metadata": {
        "id": "-flDDX3uYejf"
      }
    },
    {
      "cell_type": "markdown",
      "source": [
        "##### 2. What is/are the insight(s) found from the chart?"
      ],
      "metadata": {
        "id": "64jfLvyaY7tx"
      }
    },
    {
      "cell_type": "markdown",
      "source": [
        "The purpose of using this specific chart is to visualize the distribution of the balance limit of credit cards. The histogram provides a visual representation of the frequency of each balance limit range, while the box plot summarizes the distribution by showing the median, quartiles, and outliers."
      ],
      "metadata": {
        "id": "oj1eS8EeY-oh"
      }
    },
    {
      "cell_type": "markdown",
      "source": [
        "##### 3. Will the gained insights help creating a positive business impact? "
      ],
      "metadata": {
        "id": "peoZwIBtY_jL"
      }
    },
    {
      "cell_type": "markdown",
      "source": [
        "Yes, Insights can help the business to better understand their customers and make informed decisions about credit risk."
      ],
      "metadata": {
        "id": "5_6ZFnYLZAOc"
      }
    },
    {
      "cell_type": "markdown",
      "source": [
        "### **Distribution of Target column on the basis of Percentage**"
      ],
      "metadata": {
        "id": "uY7bzcgIqKU-"
      }
    },
    {
      "cell_type": "code",
      "source": [
        "# Distribution of Target column on the basis of Percentage\n",
        "plt.figure(figsize = [10, 5])\n",
        "plt.title(\"Default payment next month\")\n",
        "df1[\"default\"].value_counts().plot.pie(explode = [0, 0.10], autopct = '%1.3f%%', shadow = True)"
      ],
      "metadata": {
        "id": "0zBKHlrlb3Go"
      },
      "execution_count": null,
      "outputs": []
    },
    {
      "cell_type": "markdown",
      "source": [
        "##### 1. Why did you pick the specific chart?"
      ],
      "metadata": {
        "id": "r34AoUog97MW"
      }
    },
    {
      "cell_type": "markdown",
      "source": [
        "Bar charts are typically used to compare the values of categorical data and show the distribution of data over time. They are good for visualizing data for a small number of categories and allow for easy comparison of values."
      ],
      "metadata": {
        "id": "tA-hSfPE97MW"
      }
    },
    {
      "cell_type": "markdown",
      "source": [
        "##### 2. What is/are the insight(s) found from the chart?"
      ],
      "metadata": {
        "id": "XlLWYNiZ97MW"
      }
    },
    {
      "cell_type": "markdown",
      "source": [
        "We can say that Number of not default cardholders have higher % then Defaulters"
      ],
      "metadata": {
        "id": "NEpbfqh997MW"
      }
    },
    {
      "cell_type": "markdown",
      "source": [
        "##### 3. Will the gained insights help creating a positive business impact? \n",
        "Are there any insights that lead to negative growth? Justify with specific reason."
      ],
      "metadata": {
        "id": "hvDcEpMy97MW"
      }
    },
    {
      "cell_type": "markdown",
      "source": [
        "This is the positive impact that less number of cardholders are defaulters"
      ],
      "metadata": {
        "id": "eBKh87tk97MW"
      }
    },
    {
      "cell_type": "code",
      "source": [
        "# values count plot of Default\n",
        "plt.figure(figsize=(5,5))\n",
        "sns.countplot(x = 'default', data = df1)"
      ],
      "metadata": {
        "id": "R4YgtaqtYklH"
      },
      "execution_count": null,
      "outputs": []
    },
    {
      "cell_type": "markdown",
      "source": [
        "This plot gives us an insight into the class distribution in the target variable. It is observed that the classes are not proportionate, indicating an imbalanced dataset. The data shows that there are **23,000 non-defaulters and 6,000 defaulters** , which means that this is a case of **imbalanced data**."
      ],
      "metadata": {
        "id": "4ToPhUdDwSvZ"
      }
    },
    {
      "cell_type": "markdown",
      "source": [
        "## Chart - 3"
      ],
      "metadata": {
        "id": "e03a4pAFXnHQ"
      }
    },
    {
      "cell_type": "code",
      "source": [
        "# values count plot of Marriage\n",
        "plt.figure(figsize=(5,5))\n",
        "sns.countplot(x = 'MARRIAGE', data = df1)"
      ],
      "metadata": {
        "id": "C6I0OP9Gz-uS"
      },
      "execution_count": null,
      "outputs": []
    },
    {
      "cell_type": "markdown",
      "source": [
        "##### 1. Why did you pick the specific chart?"
      ],
      "metadata": {
        "id": "K5QZ13OEpz2H"
      }
    },
    {
      "cell_type": "markdown",
      "source": [
        "The countplot was chosen because it is a straightforward and effective way to visualize the distribution of categorical data."
      ],
      "metadata": {
        "id": "XESiWehPqBRc"
      }
    },
    {
      "cell_type": "markdown",
      "source": [
        "##### 2. What is/are the insight(s) found from the chart?"
      ],
      "metadata": {
        "id": "lQ7QKXXCp7Bj"
      }
    },
    {
      "cell_type": "markdown",
      "source": [
        "We have more counts for single than other two "
      ],
      "metadata": {
        "id": "C_j1G7yiqdRP"
      }
    },
    {
      "cell_type": "markdown",
      "source": [
        "# **Bivariate**"
      ],
      "metadata": {
        "id": "dg6v7vC4C7fF"
      }
    },
    {
      "cell_type": "markdown",
      "source": [
        "## Chart - 4"
      ],
      "metadata": {
        "id": "KSlN3yHqYklG"
      }
    },
    {
      "cell_type": "markdown",
      "source": [
        "###**What is a qualification of the card holder**"
      ],
      "metadata": {
        "id": "dNIk-rF5cQ6D"
      }
    },
    {
      "cell_type": "code",
      "source": [
        "df_vis = df1['EDUCATION'].value_counts().reset_index()\n",
        "df_vis.columns = ['Education', 'No of people']\n",
        "fig1 = px.pie(df_vis, values = 'No of people', names = 'Education',color_discrete_sequence =  px.colors.sequential.Plasma,\n",
        "             title = 'Education qualification of credit card holder')\n",
        "fig1.update_layout(width=500, height=400)\n",
        "fig1.show()"
      ],
      "metadata": {
        "id": "acVZm9LrbEy3"
      },
      "execution_count": null,
      "outputs": []
    },
    {
      "cell_type": "markdown",
      "source": [
        "Here,\n",
        " 2: **University**\n",
        " 1: **Graduate School**\n",
        " 3: **High School**\n",
        " 4: **Others** \n",
        "\n",
        "*   47% of them have university qualification\n",
        "*   35% of them have graduate school qualification \n",
        "*   16% of them have high school qualification \n",
        "*   2% of them qualification are unknown\n"
      ],
      "metadata": {
        "id": "tLtCDT1WcjO7"
      }
    },
    {
      "cell_type": "markdown",
      "source": [
        "##### 1. Why did you pick the specific chart?"
      ],
      "metadata": {
        "id": "cituyOWl6m1L"
      }
    },
    {
      "cell_type": "markdown",
      "source": [
        "Pie Chart : It is suitable for visualizing the distribution of categorical data, such as education levels in this case. Pie charts are effective in showing how each category contributes to the total and are easy to understand for most people. The use of a pie chart allows for a quick and clear representation of the distribution of education levels among credit card holders in the dataset."
      ],
      "metadata": {
        "id": "9tXcuc2j6ni2"
      }
    },
    {
      "cell_type": "markdown",
      "source": [
        "##### 2. What is/are the insight(s) found from the chart?"
      ],
      "metadata": {
        "id": "M5vzSpvs6oCD"
      }
    },
    {
      "cell_type": "markdown",
      "source": [
        "The insights found from the chart can be determined by looking at the proportions of the different education levels in the pie chart. Example If the majority of the credit card holders have a certain education level, this may suggest a trend or pattern in terms of who is more likely to have a credit card."
      ],
      "metadata": {
        "id": "dYOrzbms6o0G"
      }
    },
    {
      "cell_type": "markdown",
      "source": [
        "##### 3. Will the gained insights help creating a positive business impact?"
      ],
      "metadata": {
        "id": "QZmk3Hzd6pTS"
      }
    },
    {
      "cell_type": "markdown",
      "source": [
        "If the goal of the business is to target certain segments of the population with marketing campaigns, the information from this insight could be used to identify education levels that are overrepresented or underrepresented among credit card holders."
      ],
      "metadata": {
        "id": "upmlvtur6p4z"
      }
    },
    {
      "cell_type": "markdown",
      "source": [
        "## Chart - 5"
      ],
      "metadata": {
        "id": "BGlm3QTC_L6W"
      }
    },
    {
      "cell_type": "markdown",
      "source": [
        "###**Distribution of default customers whose age is below 40**"
      ],
      "metadata": {
        "id": "m8Xim16u1rN0"
      }
    },
    {
      "cell_type": "code",
      "source": [
        "# violin plot using the Seaborn library that visualizes the distribution of ages of the credit card holders who are less than 40 years old\n",
        "sns.violinplot(x='default', y='AGE', data=df1[df1['AGE']<40], palette='cool')"
      ],
      "metadata": {
        "id": "GZusKtkk1qP-"
      },
      "execution_count": null,
      "outputs": []
    },
    {
      "cell_type": "markdown",
      "source": [
        "violinplot : That visualizes the distribution of ages of credit card holders who are less than 40 years old, split by their payment default status."
      ],
      "metadata": {
        "id": "LYVn_Xet331_"
      }
    },
    {
      "cell_type": "markdown",
      "source": [
        "##### 1. Why did you pick the specific chart?"
      ],
      "metadata": {
        "id": "ayM3-Ysq4Qeh"
      }
    },
    {
      "cell_type": "markdown",
      "source": [
        "This plot specifically used to compare the distribution of ages for credit card holders who defaulted on their payments and those who did not. The violin plot allows us to visualize the distribution of ages for each category and identify any potential differences or similarities in the age distribution between the two categories. This information can be useful in understanding the relationship between age and payment default status."
      ],
      "metadata": {
        "id": "1LUMswBA4lQR"
      }
    },
    {
      "cell_type": "markdown",
      "source": [
        "##### 2. What is/are the insight(s) found from the chart?"
      ],
      "metadata": {
        "id": "2Oeh3s3h45FK"
      }
    },
    {
      "cell_type": "markdown",
      "source": [
        "The insights that can be found from this violin plot are based on the comparison of the distributions of the ages of credit card holders who defaulted on their payments and those who did not.\n",
        "Some potential insights that could be gained from this chart include:\n",
        "    \n",
        "    \n",
        "   \n",
        "    \n",
        "\n",
        "*   **Distribution Shape :** The shape of the violin plot can provide information about the distribution of the data.\n",
        "\n",
        "*   **Central Tendency:** The box inside the violin plot shows the median and quartiles of the data, which give an indication of the central tendency of the distribution.\n",
        "*    **Spread:** The width of the violin plot represents the density of the data, giving an indication of the spread of the distribution.\n",
        "\n",
        "\n",
        "*   **Outliers:** The violin plot can also show any outliers in the data, which are values that fall outside of the distribution.\n",
        "\n"
      ],
      "metadata": {
        "id": "p4X3sgkB45r1"
      }
    },
    {
      "cell_type": "markdown",
      "source": [
        "## Chart - 6"
      ],
      "metadata": {
        "id": "YjZFrlcaYHlD"
      }
    },
    {
      "cell_type": "markdown",
      "source": [
        "###**Distribution of Age of credit card holder**"
      ],
      "metadata": {
        "id": "VE7zhSO_ewU7"
      }
    },
    {
      "cell_type": "code",
      "source": [
        "fig2 = px.histogram(df1, x = 'AGE', marginal = 'box',\n",
        "                    title = 'Distribution of Age of card holder', \n",
        "                    labels = {'x': 'Dollar($)', 'y': 'Noumber of card'},\n",
        "                   color_discrete_sequence=px.colors.qualitative.D3,\n",
        "                   nbins = 75)\n",
        "fig2.update_layout(width=500, height=400)\n",
        "fig2.update_traces(marker_line_width=1,marker_line_color=\"white\")"
      ],
      "metadata": {
        "id": "WU8qiyN9c5g7"
      },
      "execution_count": null,
      "outputs": []
    },
    {
      "cell_type": "markdown",
      "source": [
        "The ages of the credit card holders are taken from the**\"AGE\"**column in the DataFrame.The histogram has a **box plot** on the right side that shows the **distribution of the ages**.\n"
      ],
      "metadata": {
        "id": "zkGW83l6wN8k"
      }
    },
    {
      "cell_type": "markdown",
      "source": [
        "##### 1. Why did you pick the specific chart?"
      ],
      "metadata": {
        "id": "OTnVXw9zwOel"
      }
    },
    {
      "cell_type": "markdown",
      "source": [
        "Histogram is used to visualize the distribution of numerical data.It can provide an understanding of the distribution of ages among the credit card holders in the dataset."
      ],
      "metadata": {
        "id": "L7JUzGYcwO_w"
      }
    },
    {
      "cell_type": "markdown",
      "source": [
        "##### 2. What is/are the insight(s) found from the chart?"
      ],
      "metadata": {
        "id": "QyEZlLGqwQAU"
      }
    },
    {
      "cell_type": "markdown",
      "source": [
        "The insights found the distribution of ages in the histogram.It's shows the frequency of credit card holders within different age intervals, which can give us a general understanding of the age distribution among credit card holders. **Example**, If the histogram shows a concentration of credit card holders in a certain age range, this may suggest that people within that age range are more likely to have a credit card."
      ],
      "metadata": {
        "id": "_PoFClZHwQvn"
      }
    },
    {
      "cell_type": "markdown",
      "source": [
        "## Chart - 7"
      ],
      "metadata": {
        "id": "wrgG6mz3YM0f"
      }
    },
    {
      "cell_type": "markdown",
      "source": [
        "###**Distribution of credit limit for default and non-default cases with limit balance**"
      ],
      "metadata": {
        "id": "iYkzFXWPxE4Q"
      }
    },
    {
      "cell_type": "code",
      "source": [
        "sns.boxplot(x=\"default\", y=\"LIMIT_BAL\", data=df1)\n",
        "plt.show()"
      ],
      "metadata": {
        "id": "sAOmTqkfvsEa"
      },
      "execution_count": null,
      "outputs": []
    },
    {
      "cell_type": "markdown",
      "source": [
        "We have more limit balance for Non-Defaluters than Defaulters."
      ],
      "metadata": {
        "id": "TE1o61up7L4C"
      }
    },
    {
      "cell_type": "markdown",
      "source": [
        "###**Sex With Respective to Default** \n",
        "\n",
        "**or** \n",
        "\n",
        "###**How many male and female are credit card defaulter.**"
      ],
      "metadata": {
        "id": "L4_gY-gnuWY4"
      }
    },
    {
      "cell_type": "code",
      "source": [
        "# count plot for Sex and with respect to Default\n",
        "fig, axes = plt.subplots(ncols=2,figsize=(10,5))\n",
        "sns.countplot(x = 'SEX', ax = axes[0], data = df1)\n",
        "sns.countplot(x = 'SEX', hue = 'default',ax = axes[1], data = df1)"
      ],
      "metadata": {
        "id": "2CXJUzo6uB6s"
      },
      "execution_count": null,
      "outputs": []
    },
    {
      "cell_type": "markdown",
      "source": [
        "First we have observe that female have more counts than males and in second observeration females are more defaluters than male."
      ],
      "metadata": {
        "id": "7owq8rdv8NmN"
      }
    },
    {
      "cell_type": "markdown",
      "source": [
        "###**Education With Respective to Default**"
      ],
      "metadata": {
        "id": "4WwqcyhAy5ha"
      }
    },
    {
      "cell_type": "code",
      "source": [
        "# count plot for EDUCATION and with respect to Default\n",
        "fig, axes = plt.subplots(ncols=2,figsize=(18,5))\n",
        "sns.countplot(x = 'EDUCATION', ax = axes[0], data = df1)\n",
        "sns.countplot(x = 'EDUCATION', hue = 'default',ax = axes[1], data = df1)"
      ],
      "metadata": {
        "id": "fyhz1Y_zxaYL"
      },
      "execution_count": null,
      "outputs": []
    },
    {
      "cell_type": "markdown",
      "source": [
        "First we have observe that university have more counts than other education and in second observeration university are more defaluters than others 3 categories."
      ],
      "metadata": {
        "id": "jXRV7KB_8m-M"
      }
    },
    {
      "cell_type": "markdown",
      "source": [
        "###**Marriage With Respective to Default**"
      ],
      "metadata": {
        "id": "xxXhCvlF0XKq"
      }
    },
    {
      "cell_type": "code",
      "source": [
        "#count plot for MARRIAGE and with respect to IsDefaulter\n",
        "fig, axes = plt.subplots(ncols=2,figsize=(10,5))\n",
        "sns.countplot(x = 'MARRIAGE', ax = axes[0], data = df1)\n",
        "sns.countplot(x = 'MARRIAGE', hue = 'default',ax = axes[1], data = df1)"
      ],
      "metadata": {
        "id": "1IoQSuvB0V6A"
      },
      "execution_count": null,
      "outputs": []
    },
    {
      "cell_type": "markdown",
      "source": [
        "First we have observe that single status have more counts than other 2 status and in second observeration Married or Single status have same counts defaluters."
      ],
      "metadata": {
        "id": "u6gGi2MW8_Z5"
      }
    },
    {
      "cell_type": "markdown",
      "source": [
        "# **Multivariate**"
      ],
      "metadata": {
        "id": "OlZxmcf4B0OG"
      }
    },
    {
      "cell_type": "markdown",
      "source": [
        "## Chart - 8"
      ],
      "metadata": {
        "id": "EM7whBJCYoAo"
      }
    },
    {
      "cell_type": "code",
      "source": [
        "# Chart - 3 visualization code\n",
        "#Creating new variables\n",
        "var = df1[['SEX', 'LIMIT_BAL','AGE']].copy()\n",
        "var['default'] = df1['default']\n",
        "\n",
        "#replace values in varibles with original names\n",
        "var.replace({'SEX': {1 : 'MALE', 2 : 'FEMALE'}},inplace = True)\n"
      ],
      "metadata": {
        "id": "t6GMdE67YoAp"
      },
      "execution_count": null,
      "outputs": []
    },
    {
      "cell_type": "code",
      "source": [
        "#taking catplot for the given variable\n",
        "sns.catplot(x = \"SEX\",\n",
        "            y = \"LIMIT_BAL\",\n",
        "            kind = \"box\",\n",
        "            hue = \"default\",\n",
        "            color = '#0c4f4e',\n",
        "            data = var, saturation = 2,\n",
        "            margin_titles = True).set(title = \"limit balance by sex and default payments\");"
      ],
      "metadata": {
        "id": "EhQYGVFCZxx8"
      },
      "execution_count": null,
      "outputs": []
    },
    {
      "cell_type": "markdown",
      "source": [
        "##### 1. Why did you pick the specific chart?"
      ],
      "metadata": {
        "id": "QHF8YVU7Yuh3"
      }
    },
    {
      "cell_type": "markdown",
      "source": [
        "Catplot is used in Seaborn to create categorical plots, which are plots that show the relationship between a categorical variable i.e SEX and one continuous variables i.e LIMIT_BAL. These plots are useful for visualizing the distribution and spread of data."
      ],
      "metadata": {
        "id": "dcxuIMRPYuh3"
      }
    },
    {
      "cell_type": "markdown",
      "source": [
        "##### 2. What is/are the insight(s) found from the chart?\n",
        "\n",
        "There are **more Female defaulters than men** ,female have more ouliers in Limit Balance Variable"
      ],
      "metadata": {
        "id": "GwzvFGzlYuh3"
      }
    },
    {
      "cell_type": "markdown",
      "source": [
        "## Chart - 9 \n",
        "\n",
        "### **Correlation Heatmap**"
      ],
      "metadata": {
        "id": "NC_X3p0fY2L0"
      }
    },
    {
      "cell_type": "code",
      "source": [
        "df1.columns"
      ],
      "metadata": {
        "id": "H5qsID3VgPxR"
      },
      "execution_count": null,
      "outputs": []
    },
    {
      "cell_type": "code",
      "source": [
        "df1.info()"
      ],
      "metadata": {
        "id": "XDE5hyWjJnNy"
      },
      "execution_count": null,
      "outputs": []
    },
    {
      "cell_type": "markdown",
      "source": [
        "**Label Encoding**"
      ],
      "metadata": {
        "id": "P_QAC5IL9dlo"
      }
    },
    {
      "cell_type": "code",
      "source": [
        "# Importing LabelEncoder library\n",
        "from sklearn.preprocessing import LabelEncoder\n",
        "\n",
        "# Initialize LabelEncoder\n",
        "le = LabelEncoder()\n",
        "\n",
        "# Convert categorical columns to numerical values using label encoding\n",
        "df1['SEX'] = le.fit_transform(df1['SEX'])\n",
        "df1['EDUCATION'] = le.fit_transform(df1['EDUCATION'])\n",
        "df1['MARRIAGE'] = le.fit_transform(df1['MARRIAGE'])\n",
        "df1['default'] = le.fit_transform(df1['default'])\n",
        "\n",
        "# Convert the columns to int data type\n",
        "df_copy = df1.astype({\"SEX\":\"int\",\"EDUCATION\":\"int\",\"MARRIAGE\":\"int\",\"default\":\"int\"})"
      ],
      "metadata": {
        "id": "CcN5fQ1BJwsB"
      },
      "execution_count": null,
      "outputs": []
    },
    {
      "cell_type": "code",
      "source": [
        "df_copy.info()"
      ],
      "metadata": {
        "id": "sqD_6I6qNW7U"
      },
      "execution_count": null,
      "outputs": []
    },
    {
      "cell_type": "code",
      "source": [
        "# Correlation Heatmap visualization code\n",
        "plt.figure(figsize = [25, 15])\n",
        "corr_matrix = df_copy.corr()\n",
        "sns.heatmap(corr_matrix, annot=True)\n",
        "plt.show()\n"
      ],
      "metadata": {
        "id": "xyC9zolEZNRQ"
      },
      "execution_count": null,
      "outputs": []
    },
    {
      "cell_type": "markdown",
      "source": [
        "##### 1. Why did you pick the specific chart?"
      ],
      "metadata": {
        "id": "UV0SzAkaZNRQ"
      }
    },
    {
      "cell_type": "markdown",
      "source": [
        "This chart is use to find the corelation between different pararmentrs in the dataset."
      ],
      "metadata": {
        "id": "DVPuT8LYZNRQ"
      }
    },
    {
      "cell_type": "markdown",
      "source": [
        "##### 2. What is/are the insight(s) found from the chart?"
      ],
      "metadata": {
        "id": "YPEH6qLeZNRQ"
      }
    },
    {
      "cell_type": "markdown",
      "source": [
        "From the correlation matrix there no any clear picture but we can say that Pay and Bill amt are positively correlated and Pay negatively correlated with Pay amt."
      ],
      "metadata": {
        "id": "bfSqtnDqZNRR"
      }
    },
    {
      "cell_type": "markdown",
      "source": [
        "## ***5. Hypothesis Testing***"
      ],
      "metadata": {
        "id": "g-ATYxFrGrvw"
      }
    },
    {
      "cell_type": "markdown",
      "source": [
        "### Based on your chart experiments, define three hypothetical statements from the dataset. In the next three questions, perform hypothesis testing to obtain final conclusion about the statements through your code and statistical testing."
      ],
      "metadata": {
        "id": "Yfr_Vlr8HBkt"
      }
    },
    {
      "cell_type": "markdown",
      "source": [
        "1. Null Hypothesis - There is no relation between Categorical Variables and Default\n",
        "\n",
        "   Alternate Hypothesis - There is a relationship between Categorical Variables and Default\n",
        "\n",
        "2. Null Hypothesis - There is no relation between Numeric Variable and Default\n",
        "\n",
        "   Alternate Hypothesis - There is a relation between Numeric Variable and Default"
      ],
      "metadata": {
        "id": "-7MS06SUHkB-"
      }
    },
    {
      "cell_type": "markdown",
      "source": [
        "### Hypothetical Statement - 1"
      ],
      "metadata": {
        "id": "8yEUt7NnHlrM"
      }
    },
    {
      "cell_type": "markdown",
      "source": [
        "#### 1. State Your research hypothesis as a null hypothesis and alternate hypothesis."
      ],
      "metadata": {
        "id": "tEA2Xm5dHt1r"
      }
    },
    {
      "cell_type": "markdown",
      "source": [
        "1- Null Hypothesis - There is no relation between Categorical Variables and Default\n",
        "\n",
        "Alternate Hypothesis - There is a relationship between Categorical Variables and Default"
      ],
      "metadata": {
        "id": "HI9ZP0laH0D-"
      }
    },
    {
      "cell_type": "markdown",
      "source": [
        "#### 2. Perform an appropriate statistical test."
      ],
      "metadata": {
        "id": "I79__PHVH19G"
      }
    },
    {
      "cell_type": "code",
      "source": [
        "df_copy.columns"
      ],
      "metadata": {
        "id": "dQy5WiM2hTRr"
      },
      "execution_count": null,
      "outputs": []
    },
    {
      "cell_type": "code",
      "source": [
        "# Perform Statistical Test to obtain P-Value\n",
        "from scipy.stats import chi2_contingency\n",
        "\n",
        "def hypothesis_test_chi2(df_copy, categorical_variable, alpha=0.05):\n",
        "    # Split the data into default and non-default groups\n",
        "    default = df_copy[df_copy['default'] == 1]\n",
        "    non_default = df_copy[df_copy['default'] == 0]\n",
        "\n",
        "    # Conduct a chi-square test for the independence of the categorical variable and default\n",
        "    cont = pd.crosstab(df_copy['default'], df_copy[categorical_variable])\n",
        "    chi2, p_value, dof, expected = chi2_contingency(cont)\n",
        "\n",
        "    # Make a decision based on the p-value and alpha\n",
        "    if p_value < alpha:\n",
        "        return f\"Reject the null hypothesis. There is a significant association between {categorical_variable} and default.\"\n",
        "    else:\n",
        "        return f\"Fail to reject the null hypothesis. There is no significant association between {categorical_variable} and default.\""
      ],
      "metadata": {
        "id": "oZrfquKtyian"
      },
      "execution_count": null,
      "outputs": []
    },
    {
      "cell_type": "code",
      "source": [
        "# Define a list of categorical variables\n",
        "categorical = ['SEX', 'EDUCATION', 'MARRIAGE','PAY_SEPT',\n",
        "       'PAY_AUG', 'PAY_JUL', 'PAY_JUN', 'PAY_MAY', 'PAY_APR']\n",
        "# Loop through the list of categorical variables\n",
        "for categorical_variable in categorical:\n",
        "    result = hypothesis_test_chi2(df_copy, categorical_variable)\n",
        "    print(result)"
      ],
      "metadata": {
        "id": "6yMoSKluczCx"
      },
      "execution_count": null,
      "outputs": []
    },
    {
      "cell_type": "markdown",
      "source": [
        "##### Which statistical test have you done to obtain P-Value?"
      ],
      "metadata": {
        "id": "Ou-I18pAyIpj"
      }
    },
    {
      "cell_type": "markdown",
      "source": [
        "The function hypothesis_test_chi2 performs a chi-square test for independence to obtain the p-value. The chi2_contingency function from the scipy.stats library is used to calculate the chi-square statistic and the p-value."
      ],
      "metadata": {
        "id": "s2U0kk00ygSB"
      }
    },
    {
      "cell_type": "markdown",
      "source": [
        "##### Why did you choose the specific statistical test?"
      ],
      "metadata": {
        "id": "fF3858GYyt-u"
      }
    },
    {
      "cell_type": "markdown",
      "source": [
        "The chi-square test for independence is a common test for determining if there is a significant association between two categorical variables. In this case, the categorical variable of interest and the binary outcome variable \"default\" are being tested for independence. The choice of the chi-square test for independence is appropriate for this type of analysis."
      ],
      "metadata": {
        "id": "HO4K0gP5y3B4"
      }
    },
    {
      "cell_type": "markdown",
      "source": [
        "### Hypothetical Statement - 2"
      ],
      "metadata": {
        "id": "4_0_7-oCpUZd"
      }
    },
    {
      "cell_type": "markdown",
      "source": [
        "#### 1. State Your research hypothesis as a null hypothesis and alternate hypothesis."
      ],
      "metadata": {
        "id": "hwyV_J3ipUZe"
      }
    },
    {
      "cell_type": "markdown",
      "source": [
        "2- Null Hypothesis - There is no relation between Numeric Variable and Default\n",
        "\n",
        "Alternate Hypothesis - There is a relation between Numeric Variable and Default"
      ],
      "metadata": {
        "id": "FnpLGJ-4pUZe"
      }
    },
    {
      "cell_type": "markdown",
      "source": [
        "#### 2. Perform an appropriate statistical test."
      ],
      "metadata": {
        "id": "3yB-zSqbpUZe"
      }
    },
    {
      "cell_type": "code",
      "source": [
        "# Perform Statistical Test to obtain P-Value\n",
        "from scipy.stats import ttest_ind\n",
        "\n",
        "def hypothesis_test_t(df_copy, numerical_variable, alpha=0.05):\n",
        "    # Split the data into default and non-default groups\n",
        "    default = df_copy[df_copy['default'] == 1][numerical_variable]\n",
        "    non_default = df_copy[df_copy['default'] == 0][numerical_variable]\n",
        "\n",
        "    # Conduct a two-sample t-test for the means of the numerical variable for default and non-default groups\n",
        "    t, p_value = ttest_ind(default, non_default)\n",
        "\n",
        "    # Make a decision based on the p-value and alpha\n",
        "    if p_value < alpha:\n",
        "        return f\"Reject the null hypothesis. There is a significant difference in the means of {numerical_variable} between default and non-default groups.\"\n",
        "    else:\n",
        "        return f\"Fail to reject the null hypothesis. There is no significant difference in the means of {numerical_variable} between default and non-default groups.\""
      ],
      "metadata": {
        "id": "sWxdNTXNpUZe"
      },
      "execution_count": null,
      "outputs": []
    },
    {
      "cell_type": "code",
      "source": [
        "numerical_columns = ['LIMIT_BAL','AGE','BILL_AMT_SEPT',\n",
        "       'BILL_AMT_AUG', 'BILL_AMT_JUL', 'BILL_AMT_JUN', 'BILL_AMT_MAY',\n",
        "       'BILL_AMT_APR', 'PAY_AMT_SEPT', 'PAY_AMT_AUG', 'PAY_AMT_JUL',\n",
        "       'PAY_AMT_JUN', 'PAY_AMT_MAY', 'PAY_AMT_APR']\n",
        "for col in numerical_columns:\n",
        "    result = hypothesis_test_t(df_copy, col, alpha=0.05)\n",
        "    print(result)"
      ],
      "metadata": {
        "id": "usSw4V8ddQ4h"
      },
      "execution_count": null,
      "outputs": []
    },
    {
      "cell_type": "markdown",
      "source": [
        "##### Which statistical test have you done to obtain P-Value?"
      ],
      "metadata": {
        "id": "dEUvejAfpUZe"
      }
    },
    {
      "cell_type": "markdown",
      "source": [
        "The function hypothesis_test_t performs a two-sample t-test to obtain the p-value. The ttest_ind function from the scipy.stats library is used to calculate the t-statistic and the p-value"
      ],
      "metadata": {
        "id": "oLDrPz7HpUZf"
      }
    },
    {
      "cell_type": "markdown",
      "source": [
        "##### Why did you choose the specific statistical test?"
      ],
      "metadata": {
        "id": "Fd15vwWVpUZf"
      }
    },
    {
      "cell_type": "markdown",
      "source": [
        "The two-sample t-test is a common test for determining if there is a significant difference in means between two groups. In this case, the two groups are the default and non-default groups for a numerical variable. The choice of the two-sample t-test is appropriate for this type of analysis when the numerical variable is continuous and the sample size is relatively small."
      ],
      "metadata": {
        "id": "4xOGYyiBpUZf"
      }
    },
    {
      "cell_type": "markdown",
      "source": [
        "## ***6. Feature Engineering & Data Pre-processing***"
      ],
      "metadata": {
        "id": "yLjJCtPM0KBk"
      }
    },
    {
      "cell_type": "markdown",
      "source": [
        "#### To identify the categorical, numerical columns, and input and target columns"
      ],
      "metadata": {
        "id": "Ykqtm8fJoUb_"
      }
    },
    {
      "cell_type": "code",
      "source": [
        "df_copy.columns"
      ],
      "metadata": {
        "id": "q65VtquKusBY"
      },
      "execution_count": null,
      "outputs": []
    },
    {
      "cell_type": "code",
      "source": [
        "# independant variable\n",
        "Input_columns=[ 'LIMIT_BAL', 'SEX', 'EDUCATION', 'MARRIAGE', 'AGE', 'PAY_SEPT',\n",
        "       'PAY_AUG', 'PAY_JUL', 'PAY_JUN', 'PAY_MAY', 'PAY_APR', 'BILL_AMT_SEPT',\n",
        "       'BILL_AMT_AUG', 'BILL_AMT_JUL', 'BILL_AMT_JUN', 'BILL_AMT_MAY',\n",
        "       'BILL_AMT_APR', 'PAY_AMT_SEPT', 'PAY_AMT_AUG', 'PAY_AMT_JUL',\n",
        "       'PAY_AMT_JUN', 'PAY_AMT_MAY', 'PAY_AMT_APR']\n",
        "# dependent variable\n",
        "Target_column=[\"default\"]"
      ],
      "metadata": {
        "id": "E8hv2sVflkVP"
      },
      "execution_count": null,
      "outputs": []
    },
    {
      "cell_type": "code",
      "source": [
        "categorical_columns = ['SEX','EDUCATION','MARRIAGE','PAY_SEPT', 'PAY_AUG',\n",
        "       'PAY_JUL', 'PAY_JUN', 'PAY_MAY', 'PAY_APR']"
      ],
      "metadata": {
        "id": "QcG-5RMWv0B6"
      },
      "execution_count": null,
      "outputs": []
    },
    {
      "cell_type": "code",
      "source": [
        "numerical_columns = ['LIMIT_BAL','AGE','BILL_AMT_SEPT',\n",
        "       'BILL_AMT_AUG', 'BILL_AMT_JUL', 'BILL_AMT_JUN', 'BILL_AMT_MAY',\n",
        "       'BILL_AMT_APR', 'PAY_AMT_SEPT', 'PAY_AMT_AUG', 'PAY_AMT_JUL',\n",
        "       'PAY_AMT_JUN', 'PAY_AMT_MAY', 'PAY_AMT_APR']"
      ],
      "metadata": {
        "id": "5reteQ9fCCOZ"
      },
      "execution_count": null,
      "outputs": []
    },
    {
      "cell_type": "markdown",
      "source": [
        "### 1. Handling Missing Values"
      ],
      "metadata": {
        "id": "rQp32GBNkf9N"
      }
    },
    {
      "cell_type": "code",
      "source": [
        "# Looking for null value by using .info\n",
        "df_copy.info()"
      ],
      "metadata": {
        "id": "y2kP_7mfkVDa"
      },
      "execution_count": null,
      "outputs": []
    },
    {
      "cell_type": "markdown",
      "source": [
        "### 2. Handling Outliers"
      ],
      "metadata": {
        "id": "id1riN9m0vUs"
      }
    },
    {
      "cell_type": "code",
      "source": [
        "# Checking skewness for numerical columns\n",
        "import scipy.stats as stats\n",
        "for col in numerical_columns:\n",
        "    skewness = stats.skew(df_copy[col])\n",
        "    print(\"Skewness of column {}: {:.2f}\".format(col, skewness))"
      ],
      "metadata": {
        "id": "CRMmstBAGX-B"
      },
      "execution_count": null,
      "outputs": []
    },
    {
      "cell_type": "code",
      "source": [
        "plt.figure(figsize=(15,15))\n",
        "for num,cols in enumerate(numerical_columns):\n",
        "    plt.subplot(5,3,num+1)\n",
        "    sns.boxplot(df_copy[cols])\n",
        "    plt.title(f'{cols.title()}',weight='bold')\n",
        "    plt.tight_layout()\n",
        "    #print(' Box Plot of',cols)\n",
        "plt.show()"
      ],
      "metadata": {
        "id": "UuCI52wyDRo8"
      },
      "execution_count": null,
      "outputs": []
    },
    {
      "cell_type": "markdown",
      "source": [
        "From the boxplot, it can be observed that the columns: LIMIT_BAL , AGE ,  BILL_AMT_SEPT , BILL_AMT_AUG , BILL_AMT_JUL , BILL_AMT_JUN , BILL_AMT_MAY , BILL_AMT_APR , PAY_AMT_SEPT , PAY_AMT_AUG , PAY_AMT_JUL , PAY_AMT_JUN , PAY_AMT_MAY , and  PAY_AMT_APR contain outliers.\n"
      ],
      "metadata": {
        "id": "AdoZ4EyGFB7V"
      }
    },
    {
      "cell_type": "code",
      "source": [
        "print(\"Number of Outlier Records:\")\n",
        "\n",
        "for col in numerical_columns:\n",
        "    upper = df_copy[col].quantile(0.75) + 1.5 * (df_copy[col].quantile(0.75) - df_copy[col].quantile(0.25))\n",
        "    outliers = df_copy[df_copy[col] > upper][col].count()\n",
        "    print(\"{}: {}\".format(col, outliers))\n"
      ],
      "metadata": {
        "id": "SpMaCYfZIYlF"
      },
      "execution_count": null,
      "outputs": []
    },
    {
      "cell_type": "markdown",
      "source": [
        "Calculates the upper bound of outliers using the interquartile range (IQR) and then counts the number of values in each column that are greater than this upper bound."
      ],
      "metadata": {
        "id": "FV5PCr_HKa11"
      }
    },
    {
      "cell_type": "markdown",
      "source": [
        "# Capping"
      ],
      "metadata": {
        "id": "CVH9KsLiKLjm"
      }
    },
    {
      "cell_type": "code",
      "source": [
        "for col in numerical_columns:\n",
        "    upper = df_copy[col].quantile(0.75) + 1.5 * (df_copy[col].quantile(0.75) - df_copy[col].quantile(0.25))\n",
        "    df_copy[col] = np.where(df_copy[col] > upper, upper, df_copy[col])\n",
        "    print(\"{}: {}\".format(col, outliers))\n"
      ],
      "metadata": {
        "id": "0tBnGRp7Jf5X"
      },
      "execution_count": null,
      "outputs": []
    },
    {
      "cell_type": "markdown",
      "source": [
        "The upper bound of outliers is calculated using the interquartile range (IQR) as in the previous code. Then, using np.where, the values in each column that are greater than the upper bound are replaced with the upper bound. And performs the capping of the outliers."
      ],
      "metadata": {
        "id": "pBxGs61fKjYB"
      }
    },
    {
      "cell_type": "code",
      "source": [
        "# Rechecking outliers for numerical columns\n",
        "plt.figure(figsize=(15,15))\n",
        "for num,cols in enumerate(numerical_columns):\n",
        "    plt.subplot(5,3,num+1)\n",
        "    sns.boxplot(df_copy[cols])\n",
        "    plt.title(f'{cols.title()}',weight='bold')\n",
        "    plt.tight_layout()\n",
        "    #print(' Box Plot of',cols)\n",
        "plt.show()"
      ],
      "metadata": {
        "id": "jeeqnOWaKBeJ"
      },
      "execution_count": null,
      "outputs": []
    },
    {
      "cell_type": "markdown",
      "source": [
        "##### What all outlier treatment techniques have you used and why did you use those techniques?"
      ],
      "metadata": {
        "id": "578E2V7j08f6"
      }
    },
    {
      "cell_type": "markdown",
      "source": [
        "The **Interquartile Range (IQR)** is a robust measure of variability that is often used to identify outliers in skewed (non-normal) data. The IQR is calculated as the difference between the 75th and 25th percentiles of a dataset and provides a summary of the spread of the middle 50% of the data. Outliers are defined as observations that fall outside of the range of Q1 - 1.5 * IQR to Q3 + 1.5 * IQR, where Q1 is the 25th percentile and Q3 is the 75th percentile.\n",
        "\n",
        "the IQR techniques are used to handle right or left skewed data and it is efficient to use IQR."
      ],
      "metadata": {
        "id": "uGZz5OrT1HH-"
      }
    },
    {
      "cell_type": "code",
      "source": [
        "df_copy.head()"
      ],
      "metadata": {
        "id": "3O8m71yuiuB7"
      },
      "execution_count": null,
      "outputs": []
    },
    {
      "cell_type": "code",
      "source": [
        "df_copy.info()"
      ],
      "metadata": {
        "id": "b0tU1oUoQhNC"
      },
      "execution_count": null,
      "outputs": []
    },
    {
      "cell_type": "markdown",
      "source": [
        "### 3. Feature Manipulation & Selection"
      ],
      "metadata": {
        "id": "-oLEiFgy-5Pf"
      }
    },
    {
      "cell_type": "markdown",
      "source": [
        "#### 1. Feature Manipulation"
      ],
      "metadata": {
        "id": "C74aWNz2AliB"
      }
    },
    {
      "cell_type": "code",
      "source": [
        "# Manipulate Features to minimize feature correlation and create new features\n",
        "def replace_values(df_copy, col, values):\n",
        "    # This code is replacing all values of -2, -1, and 0 in the specified columns with 0.\n",
        "    fil = (df_copy[col] == -2) | (df_copy[col] == -1) | (df_copy[col] == 0)\n",
        "    df_copy.loc[fil, col] = values\n",
        "\n",
        "columns = ['PAY_SEPT', 'PAY_AUG', 'PAY_JUL', 'PAY_JUN', 'PAY_MAY', 'PAY_APR']\t\t\t\t\n",
        "values = 0\n",
        "\n",
        "for col in columns:\n",
        "    replace_values(df_copy, col, values)"
      ],
      "metadata": {
        "id": "eb54Qr7qzotf"
      },
      "execution_count": null,
      "outputs": []
    },
    {
      "cell_type": "markdown",
      "source": [
        "This code is replacing all values of -2, -1, and 0 in the specified columns with 0."
      ],
      "metadata": {
        "id": "bUCFBPhunRmy"
      }
    },
    {
      "cell_type": "code",
      "source": [
        "def replace_values(df_copy, col, values):\n",
        "    #  This code is replacing all values greater then 0 in the specified columns with 0.\n",
        "    fil = (df_copy[col] < 0)\n",
        "    df_copy.loc[fil, col] = values\n",
        "\n",
        "columns = ['BILL_AMT_SEPT', 'BILL_AMT_AUG', 'BILL_AMT_JUL', 'BILL_AMT_JUN', 'BILL_AMT_MAY', 'BILL_AMT_APR']\t\t\t\t\t\t\n",
        "values = 0\n",
        "\n",
        "for col in columns:\n",
        "    replace_values(df_copy, col, values)"
      ],
      "metadata": {
        "id": "DIC53I2czu33"
      },
      "execution_count": null,
      "outputs": []
    },
    {
      "cell_type": "markdown",
      "source": [
        "As negative Bill Amount paid indicates that the person has paid his due payment already. Hence, we transform the data as above"
      ],
      "metadata": {
        "id": "M9DuJZL3nvOR"
      }
    },
    {
      "cell_type": "markdown",
      "source": [
        "#### 2. Feature Selection"
      ],
      "metadata": {
        "id": "2DejudWSA-a0"
      }
    },
    {
      "cell_type": "code",
      "source": [
        "# Select your features wisely to avoid overfitting\n",
        "fil = (df_copy.PAY_SEPT == 0) & (df_copy.PAY_AUG == 0) & (df_copy.PAY_JUL == 0) & (df_copy.PAY_JUN == 0) & (df_copy.PAY_MAY == 0) & (df_copy.PAY_APR == 0) & (df_copy['default'] == 1)\n",
        "df_copy.loc[fil,'default'] = 0\n"
      ],
      "metadata": {
        "id": "Tv9i8Ke9zyzD"
      },
      "execution_count": null,
      "outputs": []
    },
    {
      "cell_type": "markdown",
      "source": [
        "As customers who have not defaulted in any month cannot be potential defaulters hence, we have transformed the data as above."
      ],
      "metadata": {
        "id": "ngs9P5sBoPGZ"
      }
    },
    {
      "cell_type": "code",
      "source": [
        "# Select your features wisely to avoid overfitting\n",
        "fil = (df_copy.PAY_SEPT > 0) & (df_copy.PAY_AUG > 0) & (df_copy.PAY_JUL > 0) & (df_copy.PAY_JUN > 0) & (df_copy.PAY_MAY > 0) & (df_copy.PAY_APR > 0) & (df_copy['default'] == 0)\n",
        "df_copy.loc[fil,'default'] = 1"
      ],
      "metadata": {
        "id": "b83Af-zqz2wH"
      },
      "execution_count": null,
      "outputs": []
    },
    {
      "cell_type": "markdown",
      "source": [
        "As customers who have defaulted in every month are the potential defaulters hence, we have transformed the data as above."
      ],
      "metadata": {
        "id": "SIW4N34WoZiy"
      }
    },
    {
      "cell_type": "code",
      "source": [
        "df_copy.info()"
      ],
      "metadata": {
        "id": "ZYruea35FbiT"
      },
      "execution_count": null,
      "outputs": []
    },
    {
      "cell_type": "markdown",
      "source": [
        "**Binning the 'AGE' column**"
      ],
      "metadata": {
        "id": "KgEt62cfwDOg"
      }
    },
    {
      "cell_type": "code",
      "source": [
        "print(df_copy['AGE'].min())\n",
        "print(df_copy['AGE'].max())"
      ],
      "metadata": {
        "id": "685bpuFjuoWH"
      },
      "execution_count": null,
      "outputs": []
    },
    {
      "cell_type": "markdown",
      "source": [
        "we can see here min age is 21.0 and maximum age is 60.5 in our dataset"
      ],
      "metadata": {
        "id": "t2Szng5vr315"
      }
    },
    {
      "cell_type": "code",
      "source": [
        "# creating function to create the cohort for age group\n",
        "def age(x):\n",
        "    if x in range(21,41):\n",
        "        return 1\n",
        "    elif x in range(41,61):\n",
        "        return 2\n",
        "    elif x in range(61,80):\n",
        "        return 3\n",
        "\n",
        "df_copy['AGE']=df_copy['AGE'].apply(age)"
      ],
      "metadata": {
        "id": "6bx2d3HevP5P"
      },
      "execution_count": null,
      "outputs": []
    },
    {
      "cell_type": "code",
      "source": [
        "df_copy.info()"
      ],
      "metadata": {
        "id": "kCLxkFJ7Rm64"
      },
      "execution_count": null,
      "outputs": []
    },
    {
      "cell_type": "code",
      "source": [
        "df_copy.isnull().sum()"
      ],
      "metadata": {
        "id": "nzWolLq_T8vx"
      },
      "execution_count": null,
      "outputs": []
    },
    {
      "cell_type": "code",
      "source": [
        "#Replacing the Null values with suitable value\n",
        "df_copy['AGE'].fillna(df_copy['AGE'].mode()[0],inplace=True)"
      ],
      "metadata": {
        "id": "mpHqXgZHUaU0"
      },
      "execution_count": null,
      "outputs": []
    },
    {
      "cell_type": "markdown",
      "source": [
        "the ages are into three categories, By applying the categorize_age function to the AGE column of the dataframe, the original ages in the column are transformed into categorical values."
      ],
      "metadata": {
        "id": "6olGOX3xsmol"
      }
    },
    {
      "cell_type": "code",
      "source": [
        "#visualizing age group\n",
        "plt.figure(figsize=(10,8),dpi=60)\n",
        "sns.countplot(x=df_copy['AGE'].sort_values(),data=df_copy,hue='default')"
      ],
      "metadata": {
        "id": "cVlKqw3Ys3fl"
      },
      "execution_count": null,
      "outputs": []
    },
    {
      "cell_type": "code",
      "source": [
        "df_copy.head()"
      ],
      "metadata": {
        "id": "r9WyYbtJ0A4v"
      },
      "execution_count": null,
      "outputs": []
    },
    {
      "cell_type": "markdown",
      "source": [
        "**obsevation:**\n",
        "In aur dataset we can clearly see that most of the credit card holder are of age between 21 to 41 , so we can say that company's target customer are mostly youngster."
      ],
      "metadata": {
        "id": "A2SBiAIFtEjA"
      }
    },
    {
      "cell_type": "markdown",
      "source": [
        "**Binning the 'PAY' column**"
      ],
      "metadata": {
        "id": "nX_f50l4lSlJ"
      }
    },
    {
      "cell_type": "code",
      "source": [
        "def bins(x):\n",
        "    if x == -2:\n",
        "        return 'Paid Duly'\n",
        "    if x == 0:\n",
        "        return 'Paid Duly'\n",
        "    if x == -1:\n",
        "        return 'Paid Duly'\n",
        "    if x in range(1,4):\n",
        "        return '1 to 3'\n",
        "    if x in range(4,7):\n",
        "        return '4 to 6'\n",
        "    if x in range(7,9):\n",
        "        return '7 to 9'\n",
        "\n",
        "for i in df_copy[['PAY_SEPT','PAY_AUG','PAY_JUL','PAY_JUN','PAY_MAY','PAY_APR']]:\t\t\t\t\t\t\n",
        "    df_copy[i]=df_copy[i].apply(bins)"
      ],
      "metadata": {
        "id": "BuAUa4jWjYm7"
      },
      "execution_count": null,
      "outputs": []
    },
    {
      "cell_type": "markdown",
      "source": [
        "The values of the columns 'PAY_SEPT', 'PAY_AUG', 'PAY_JUL', 'PAY_JUN', 'PAY_MAY', and 'PAY_APR' in the DataFrame 'df_copy'.\n",
        "\n",
        "For each value of these columns, the 'bins' function is being applied, which maps the values to one of four categorical bins:\n",
        "\n",
        "Paid Duly (for values of -2, 0, or -1)\n",
        "\n",
        "1 to 3 (for values in the range 1 to 3)\n",
        "\n",
        "4 to 6 (for values in the range 4 to 6)\n",
        "\n",
        "7 to 9 (for values in the range 7 to 9)"
      ],
      "metadata": {
        "id": "E7Qu8Ux6ssjV"
      }
    },
    {
      "cell_type": "code",
      "source": [
        "df_copy.head()"
      ],
      "metadata": {
        "id": "U_KGE_hdje_i"
      },
      "execution_count": null,
      "outputs": []
    },
    {
      "cell_type": "markdown",
      "source": [
        "### 4. Categorical Encoding"
      ],
      "metadata": {
        "id": "89xtkJwZ18nB"
      }
    },
    {
      "cell_type": "markdown",
      "source": [
        "**One Hot Encoding**"
      ],
      "metadata": {
        "id": "8fr9JHJXW4po"
      }
    },
    {
      "cell_type": "code",
      "source": [
        "df_copy.info()"
      ],
      "metadata": {
        "id": "Z_zLB5zJVbHm"
      },
      "execution_count": null,
      "outputs": []
    },
    {
      "cell_type": "code",
      "source": [
        "# Encode your categorical columns\n",
        "# Importing\n",
        "from sklearn.preprocessing import OneHotEncoder"
      ],
      "metadata": {
        "id": "21JmIYMG2hEo"
      },
      "execution_count": null,
      "outputs": []
    },
    {
      "cell_type": "code",
      "source": [
        "#categorical features\n",
        "categorical_cols_to_encode = ['EDUCATION', 'MARRIAGE','PAY_SEPT','PAY_AUG','PAY_JUL','PAY_JUN','PAY_MAY','PAY_APR']"
      ],
      "metadata": {
        "id": "UUMrxpSUUxA3"
      },
      "execution_count": null,
      "outputs": []
    },
    {
      "cell_type": "code",
      "source": [
        "encoder = OneHotEncoder(sparse=False, handle_unknown='ignore').fit(df_copy[categorical_cols_to_encode])\n",
        "encoded_cols = list(encoder.get_feature_names(categorical_cols_to_encode))\n",
        "df_copy[encoded_cols] = encoder.transform(df_copy[categorical_cols_to_encode])"
      ],
      "metadata": {
        "id": "VyALwAq3U0Rd"
      },
      "execution_count": null,
      "outputs": []
    },
    {
      "cell_type": "code",
      "source": [
        "encoded_cols"
      ],
      "metadata": {
        "id": "LmrnFav7U3Ym"
      },
      "execution_count": null,
      "outputs": []
    },
    {
      "cell_type": "code",
      "source": [
        "df_copy.drop(['EDUCATION', 'MARRIAGE','PAY_SEPT','PAY_AUG','PAY_JUL','PAY_JUN','PAY_MAY','PAY_APR'],axis=1,inplace=True)"
      ],
      "metadata": {
        "id": "Jry5caNMU6-d"
      },
      "execution_count": null,
      "outputs": []
    },
    {
      "cell_type": "code",
      "source": [
        "df_copy.shape"
      ],
      "metadata": {
        "id": "NhKaCBcmU-K0"
      },
      "execution_count": null,
      "outputs": []
    },
    {
      "cell_type": "markdown",
      "source": [
        "#### What all categorical encoding techniques have you used & why did you use those techniques?"
      ],
      "metadata": {
        "id": "67NQN5KX2AMe"
      }
    },
    {
      "cell_type": "markdown",
      "source": [
        "Binning and One Hot Encoding.\n",
        "\n",
        "*   Binning because the values of the columns 'PAY_SEPT', 'PAY_AUG', 'PAY_JUL', 'PAY_JUN', 'PAY_MAY', and 'PAY_APR' For each value of these columns, the 'bins' function is being applied, which maps the values to one of four categorical bins:\n",
        "*   Paid Duly (for values of -2, 0, or -1)\n",
        "*   1 to 3 (for values in the range 1 to 3)\n",
        "*   4 to 6 (for values in the range 4 to 6)\n",
        "*   7 to 9 (for values in the range 7 to 9)\n",
        "*   One Hot Encoding because 'EDUCATION','MARRIAGE','PAY_APR','PAY_MAY','PAY_JUN','PAY_JUL','PAY_AUG','PAY_SEPT' this all columns are categoricals so we have to change this in numerical columns.\n",
        "\n",
        "\n",
        "\n",
        "\n",
        "\n",
        "\n",
        "\n",
        "\n",
        "\n",
        "\n",
        "\n",
        "\n",
        "\n",
        "\n"
      ],
      "metadata": {
        "id": "UDaue5h32n_G"
      }
    },
    {
      "cell_type": "code",
      "source": [
        "pd.options.display.max_columns = 47\n",
        "df_copy.head()"
      ],
      "metadata": {
        "id": "Ky4dZJ6zk0RL"
      },
      "execution_count": null,
      "outputs": []
    },
    {
      "cell_type": "code",
      "source": [
        "df_copy.columns"
      ],
      "metadata": {
        "id": "uS5AyIxV-yaF"
      },
      "execution_count": null,
      "outputs": []
    },
    {
      "cell_type": "code",
      "source": [
        "df_copy.info()"
      ],
      "metadata": {
        "id": "EcrnNEXJV4ds"
      },
      "execution_count": null,
      "outputs": []
    },
    {
      "cell_type": "code",
      "source": [
        "df_copy = df_copy.astype(int)"
      ],
      "metadata": {
        "id": "DrvhPrAPWejs"
      },
      "execution_count": null,
      "outputs": []
    },
    {
      "cell_type": "code",
      "source": [
        "df_copy.info()"
      ],
      "metadata": {
        "id": "zlD8pk2HWhji"
      },
      "execution_count": null,
      "outputs": []
    },
    {
      "cell_type": "markdown",
      "source": [
        "### 5. Data Splitting"
      ],
      "metadata": {
        "id": "BhH2vgX9EjGr"
      }
    },
    {
      "cell_type": "code",
      "source": [
        "# independent variable (estimator)\n",
        "X = df_copy.drop(\"default\", axis = 1)\n",
        "\n",
        "# dependent variable (label)\n",
        "y = df_copy[\"default\"]"
      ],
      "metadata": {
        "id": "0CTyd2UwEyNM"
      },
      "execution_count": null,
      "outputs": []
    },
    {
      "cell_type": "code",
      "source": [
        "# Split your data to train and test\n",
        "X_train, X_test, y_train, y_test = train_test_split(X, y, test_size = 0.3,shuffle=True, stratify=y, random_state = 42)"
      ],
      "metadata": {
        "id": "vXWCRT4XeV_h"
      },
      "execution_count": null,
      "outputs": []
    },
    {
      "cell_type": "markdown",
      "source": [
        "##### What data splitting ratio have you used and why? "
      ],
      "metadata": {
        "id": "qjKvONjwE8ra"
      }
    },
    {
      "cell_type": "markdown",
      "source": [
        "**0.3 for test set**"
      ],
      "metadata": {
        "id": "Y2lJ8cobFDb_"
      }
    },
    {
      "cell_type": "markdown",
      "source": [
        "### 6. Data Scaling"
      ],
      "metadata": {
        "id": "rMDnDkt2B6du"
      }
    },
    {
      "cell_type": "code",
      "source": [
        "# Scaling your data\n",
        "scaler = StandardScaler()\n",
        "X_train_scale = scaler.fit_transform(X_train)\n",
        "X_test_scale = scaler.transform(X_test)\n",
        "\n",
        "X_train = pd.DataFrame(X_train_scale, columns = X_train.columns)\n",
        "X_test = pd.DataFrame(X_test_scale, columns = X_test.columns)"
      ],
      "metadata": {
        "id": "dL9LWpySC6x_"
      },
      "execution_count": null,
      "outputs": []
    },
    {
      "cell_type": "markdown",
      "source": [
        "##### Which method have you used to scale you data and why?"
      ],
      "metadata": {
        "id": "yiiVWRdJDDil"
      }
    },
    {
      "cell_type": "markdown",
      "source": [
        "The method used to scale the data is \"Standard Scaling\" and it's used to **standardize the data by subtracting the mean and dividing by the standard deviation so that the transformed data has a mean of 0 and a standard deviation of 1**. This is important when working with algorithms that assume normally distributed data or algorithms that are sensitive to the scale of the input features. Scaling the data can also help prevent over-dominance of any single feature in the model and can improve the overall performance of many machine learning algorithms."
      ],
      "metadata": {
        "id": "--bOWNvRlyRH"
      }
    },
    {
      "cell_type": "markdown",
      "source": [
        "### 7. Handling Imbalanced Dataset"
      ],
      "metadata": {
        "id": "P1XJ9OREExlT"
      }
    },
    {
      "cell_type": "markdown",
      "source": [
        "##### **Checking if Data is Imbalance**"
      ],
      "metadata": {
        "id": "YyAiJYzUwYMc"
      }
    },
    {
      "cell_type": "markdown",
      "source": [
        "##### Do you think the dataset is imbalanced? Explain Why."
      ],
      "metadata": {
        "id": "6dS7X-y0BDD4"
      }
    },
    {
      "cell_type": "markdown",
      "source": [
        "0    25300\n",
        "\n",
        "1     4700\n",
        "\n",
        "by looking at count we can directly say that our data is imbalanced"
      ],
      "metadata": {
        "id": "aX7-_BsfBDD4"
      }
    },
    {
      "cell_type": "code",
      "source": [
        "print((df_copy['default'].value_counts()/df_copy['default'].shape)*100)\n",
        "sns.countplot(df_copy['default'])\n",
        "plt.show()"
      ],
      "metadata": {
        "id": "JIv2vxXKwe5I"
      },
      "execution_count": null,
      "outputs": []
    },
    {
      "cell_type": "code",
      "source": [
        "df_copy.default.value_counts() "
      ],
      "metadata": {
        "id": "7_bJM98Vz3-J"
      },
      "execution_count": null,
      "outputs": []
    },
    {
      "cell_type": "markdown",
      "source": [
        "##### Do you think the dataset is imbalanced? Explain Why."
      ],
      "metadata": {
        "id": "VFOzZv6IFROw"
      }
    },
    {
      "cell_type": "markdown",
      "source": [
        " Yes, Here we can see that the data is imbalanced. bcoz the Based on the values **84.333% for 0 and 15.666% for 1**), it appears that the dataset is imbalanced. An imbalanced dataset refers to a situation where the distribution of classes (in this case, 0s and 1s) is not equal. In the given code, the class distribution is heavily skewed towards class 0, with 84.333% of the observations being class 0 and only 15.666% being class 1. This imbalance can lead to difficulties in training machine learning models, as the model may be biased towards predicting the majority class. As a result, the model's performance on the minority class may be poor."
      ],
      "metadata": {
        "id": "GeKDIv7pFgcC"
      }
    },
    {
      "cell_type": "code",
      "source": [
        "#importing SMOTE to handle class imbalance\n",
        "from imblearn.over_sampling import SMOTE\n",
        "smote = SMOTE()"
      ],
      "metadata": {
        "id": "v2kI1n6m32Kh"
      },
      "execution_count": null,
      "outputs": []
    },
    {
      "cell_type": "code",
      "source": [
        "X_train_smote, y_train_smote = smote.fit_resample(X,y)\n",
        "from collections import Counter\n",
        "print(\"Before SMOTE :\" , Counter(y_train))\n",
        "print(\"After SMOTE :\" , Counter(y_train_smote))"
      ],
      "metadata": {
        "id": "BTtEZsjr49A3"
      },
      "execution_count": null,
      "outputs": []
    },
    {
      "cell_type": "code",
      "source": [
        "print('Original dataset shape', len(df_copy))\n",
        "print('Resampled dataset shape', len(y_train_smote))"
      ],
      "metadata": {
        "id": "JMiJf0J-0Jpl"
      },
      "execution_count": null,
      "outputs": []
    },
    {
      "cell_type": "code",
      "source": [
        "columns = list(df_copy.columns)\n",
        "columns"
      ],
      "metadata": {
        "id": "-nQidmkryvfs"
      },
      "execution_count": null,
      "outputs": []
    },
    {
      "cell_type": "code",
      "source": [
        "# droping orignal columns\n",
        "df_copy.drop(['default'],axis=1,inplace=True)"
      ],
      "metadata": {
        "id": "098NIxs1JNU-"
      },
      "execution_count": null,
      "outputs": []
    },
    {
      "cell_type": "code",
      "source": [
        "#Create a new Dataframe with balanced data\n",
        "balanced_df = pd.DataFrame(X_train_smote, columns=columns)"
      ],
      "metadata": {
        "id": "ma2oOSCzQcf8"
      },
      "execution_count": null,
      "outputs": []
    },
    {
      "cell_type": "code",
      "source": [
        "balanced_df['default'] = y_train_smote"
      ],
      "metadata": {
        "id": "1bJ2CYFKRUNY"
      },
      "execution_count": null,
      "outputs": []
    },
    {
      "cell_type": "code",
      "source": [
        "#check shape of new daatframe\n",
        "balanced_df.shape"
      ],
      "metadata": {
        "id": "-4g8jhTnReRj"
      },
      "execution_count": null,
      "outputs": []
    },
    {
      "cell_type": "code",
      "source": [
        "#plotting balanced data using countplot\n",
        "ax = sns.countplot('default', data = balanced_df)\n",
        "ax.set_xticklabels(('Not Defaulted','Defaulted'),rotation=0)\n",
        "plt.show()"
      ],
      "metadata": {
        "id": "PBJWMAf-RisG"
      },
      "execution_count": null,
      "outputs": []
    },
    {
      "cell_type": "markdown",
      "source": [
        "#### **Now Our dataset is balanced**"
      ],
      "metadata": {
        "id": "aX88x2LfnNuT"
      }
    },
    {
      "cell_type": "markdown",
      "source": [
        "X,y on the basis of Balanced dataset"
      ],
      "metadata": {
        "id": "-jybHqlHnekF"
      }
    },
    {
      "cell_type": "code",
      "source": [
        "# independent variable (estimator)\n",
        "X = balanced_df.drop(\"default\", axis = 1)\n",
        "\n",
        "# dependent variable (label)\n",
        "y = balanced_df[\"default\"]"
      ],
      "metadata": {
        "id": "UmFg4yCyZ7AG"
      },
      "execution_count": null,
      "outputs": []
    },
    {
      "cell_type": "code",
      "source": [
        "# Split your data to train and test\n",
        "X_train, X_test, y_train, y_test = train_test_split(X, y, test_size = 0.3, shuffle=True, stratify=y, random_state = 42)"
      ],
      "metadata": {
        "id": "aLCb9FWGaBc6"
      },
      "execution_count": null,
      "outputs": []
    },
    {
      "cell_type": "markdown",
      "source": [
        "##### What technique did you use to handle the imbalance dataset and why? (If needed to be balanced)"
      ],
      "metadata": {
        "id": "TIqpNgepFxVj"
      }
    },
    {
      "cell_type": "markdown",
      "source": [
        "The technique used to handle the imbalanced dataset is Synthetic Minority Over-sampling Technique (**SMOTE**). SMOTE is a commonly used oversampling technique for imbalanced datasets, which creates synthetic samples of the minority class instead of simply duplicating existing samples. This helps to balance the class distribution and reduce overfitting, which can occur when a model is trained on a highly imbalanced dataset. The reason for choosing SMOTE in this case is because it is effective in handling class imbalance by generating new samples of the minority class, while still preserving the characteristics of the original data."
      ],
      "metadata": {
        "id": "qbet1HwdGDTz"
      }
    },
    {
      "cell_type": "markdown",
      "source": [
        "## ***7. ML Model Implementation***"
      ],
      "metadata": {
        "id": "VfCC591jGiD4"
      }
    },
    {
      "cell_type": "code",
      "source": [
        "# Importing all needed libraries\n",
        "# Get the confusion matrix for both train and test\n",
        "from sklearn.metrics import accuracy_score, confusion_matrix, classification_report, roc_auc_score, plot_precision_recall_curve\n",
        "from sklearn.metrics import precision_score,recall_score,f1_score\n",
        "# Importing for model implementation\n",
        "from sklearn.linear_model import LogisticRegression\n",
        "from sklearn.ensemble import RandomForestClassifier\n",
        "from xgboost import XGBClassifier\n",
        "import lightgbm as lgb\n",
        "# Importing for hyperparamerter tunning\n",
        "from sklearn.model_selection import GridSearchCV,RandomizedSearchCV\n",
        "import math\n",
        "import time"
      ],
      "metadata": {
        "id": "f7k2UwD08gUO"
      },
      "execution_count": null,
      "outputs": []
    },
    {
      "cell_type": "markdown",
      "source": [
        "#### **Creating Function**"
      ],
      "metadata": {
        "id": "ixuWvBE97yGz"
      }
    },
    {
      "cell_type": "code",
      "source": [
        "model_accuracy=[]\n",
        "model_precision=[]\n",
        "model_recall=[]\n",
        "model_f1_score=[]\n",
        "model_roc_auc_score=[]"
      ],
      "metadata": {
        "id": "8kmv1ipdblJy"
      },
      "execution_count": null,
      "outputs": []
    },
    {
      "cell_type": "code",
      "source": [
        "# Creating Function to run diferent models\n",
        "def run_and_evaluate_model(model,X_train,X_test,y_train,y_test, best_parameter=True, best_score=True):\n",
        "  '''\n",
        "  train the model and gives mse,rmse,r2,adj r2 score of the model\n",
        "  can be used for any model where y is not transformed \n",
        "  '''\n",
        "  # Start trainning time\n",
        "  start=time.time()\n",
        "  #training the model\n",
        "  model.fit(X_train,y_train)\n",
        "  # Stop trainning time\n",
        "  stop = time.time()\n",
        "  time_min=round((stop - start)/60,4)\n",
        "  print(f\"Training time: {time_min}min\",'\\n')\n",
        "\n",
        "  #predicting the values of y from x via model\n",
        "  y_pred_test = model.predict(X_test)\n",
        "  y_pred_train = model.predict(X_train)\n",
        "\n",
        "  def score (model,X,actual,predicted,append=True):\n",
        "    accuracy = accuracy_score(actual,predicted)\n",
        "    precision = precision_score(actual,predicted)\n",
        "    recall = recall_score(actual,predicted)\n",
        "    f1 = f1_score(actual,predicted)\n",
        "    roc= roc_auc_score(actual,predicted)\n",
        "    confusion_mat=confusion_matrix(actual,predicted)\n",
        "    print(\"The accuracy is \", accuracy)\n",
        "    print(\"The precision is \", precision)\n",
        "    print(\"The recall is \", recall)\n",
        "    print(\"The f1 is \", f1)\n",
        "    print('the auc  is ',roc)\n",
        "    print('\\nconfusion_matrix \\n ',confusion_mat)\n",
        "    \n",
        "    if append==True:\n",
        "      model_accuracy.append(accuracy)\n",
        "      model_precision.append(precision)\n",
        "      model_recall.append(recall)\n",
        "      model_f1_score.append(f1)\n",
        "      model_roc_auc_score.append(roc)\n",
        "    else:\n",
        "      pass\n",
        "\n",
        "  print('score matrix for train')\n",
        "  print('-'*40)\n",
        "  score(model=model,X=X_train,actual=y_train,predicted=y_pred_train,append=False)\n",
        "  print('\\nClassification Report\\n')\n",
        "  print(classification_report(y_train, y_pred_train))\n",
        "  print('\\n')\n",
        "  print('score matrix for test')\n",
        "  print('-'*40)\n",
        "  score(model=model,X=X_test,actual=y_test,predicted=y_pred_test)\n",
        "  print('\\nClassification Report\\n')\n",
        "  print(classification_report(y_test, y_pred_test))"
      ],
      "metadata": {
        "id": "W_fsYiwgbmr7"
      },
      "execution_count": null,
      "outputs": []
    },
    {
      "cell_type": "markdown",
      "source": [
        "'Train Accuracy': It is the ratio of correct predictions to the total number of predictions made on the training dataset. A higher accuracy indicates that the model is better at making correct predictions on the training data.\n",
        "\n",
        "'Test Accuracy': It is the ratio of correct predictions to the total number of predictions made on the test dataset. A higher accuracy indicates that the model is better at generalizing to unseen data.\n",
        "\n",
        "'Train Precision': It is the ratio of true positive predictions to the sum of true positive and false positive predictions. Precision measures the model's ability to correctly identify positive instances.\n",
        "\n",
        "'Test Precision': It is the ratio of true positive predictions to the sum of true positive and false positive predictions, evaluated on the test dataset.\n",
        "\n",
        "'Train Recall': It is the ratio of true positive predictions to the sum of true positive and false negative predictions. Recall measures the model's ability to find all positive instances.\n",
        "\n",
        "'Test Recall': It is the ratio of true positive predictions to the sum of true positive and false negative predictions, evaluated on the test dataset.\n",
        "\n",
        "'Train F1 Score': It is the harmonic mean of precision and recall. It provides a single number that balances both precision and recall.\n",
        "\n",
        "'Test F1 Score': It is the harmonic mean of precision and recall, evaluated on the test dataset.\n",
        "\n",
        "'Train ROC-AUC': It is the area under the Receiver Operating Characteristic (ROC) curve. It is a graphical representation of the performance of a binary classifier. The ROC-AUC is a single number that summarizes the overall performance of a classifier.\n",
        "\n",
        "'Test ROC-AUC': It is the area under the Receiver Operating Characteristic (ROC) curve, evaluated on the test dataset.\n",
        "\n",
        "\n",
        "\n"
      ],
      "metadata": {
        "id": "iLzdAhPwqjxn"
      }
    },
    {
      "cell_type": "markdown",
      "source": [
        "**creating function to get feature importances**\n"
      ],
      "metadata": {
        "id": "oen646_eXUMv"
      }
    },
    {
      "cell_type": "code",
      "source": [
        "#creating function to get features importance of all the tree based model\n",
        "def get_features_importance(optimal_model,X_train):\n",
        "  imp_feat=pd.DataFrame(index=X.columns,data=optimal_model.feature_importances_,columns=['importance'])\n",
        "  imp_feat=imp_feat[imp_feat['importance']>0]\n",
        "  imp_feat=imp_feat.sort_values('importance')\n",
        "  plt.figure(figsize=(15,5))\n",
        "  print(f'---------------------Features Importance------------------------\\n\\n {optimal_model}\\\n",
        "  \\n-------------------------------------------------------------------\\n') \n",
        "  sns.barplot(data=imp_feat,x=imp_feat.index,y='importance')\n",
        "  plt.xticks(rotation=90);"
      ],
      "metadata": {
        "id": "CPpTNgRuMHuH"
      },
      "execution_count": null,
      "outputs": []
    },
    {
      "cell_type": "markdown",
      "source": [
        "### ML Model - 1"
      ],
      "metadata": {
        "id": "OB4l2ZhMeS1U"
      }
    },
    {
      "cell_type": "markdown",
      "source": [
        "### **Logistic Regression**"
      ],
      "metadata": {
        "id": "wff_dQO1_Msv"
      }
    },
    {
      "cell_type": "code",
      "source": [
        "#creating Instance of Logistic Regression\n",
        "LR= LogisticRegression()\n",
        "run_and_evaluate_model(LR, X_train,X_test,y_train,y_test)"
      ],
      "metadata": {
        "id": "eGbEWgLzNVjb"
      },
      "execution_count": null,
      "outputs": []
    },
    {
      "cell_type": "markdown",
      "source": [
        "#### **Cross- Validation & Hyperparameter Tuning**"
      ],
      "metadata": {
        "id": "4qY1EAkEfxKe"
      }
    },
    {
      "cell_type": "markdown",
      "source": [
        "**Implementing GridSearchCV for hyperparameter tuning in Logistics Regreesion**"
      ],
      "metadata": {
        "id": "Y_G8RFjQW7WO"
      }
    },
    {
      "cell_type": "code",
      "source": [
        "# creating param dict for hyperparameter tuning\n",
        "param_dict= {'C': [0.001,0.01,0.1,1,10,100],'penalty': ['l1', 'l2'],'max_iter':[1000]} "
      ],
      "metadata": {
        "id": "_HttsZOmSV-c"
      },
      "execution_count": null,
      "outputs": []
    },
    {
      "cell_type": "code",
      "source": [
        "#creating Grid model to perform grid search\n",
        "grid_log_model = GridSearchCV(LR, param_dict,n_jobs=-1, cv=5, verbose = 5,scoring='recall') "
      ],
      "metadata": {
        "id": "jd3jS7ZgSiZg"
      },
      "execution_count": null,
      "outputs": []
    },
    {
      "cell_type": "code",
      "source": [
        "#running and evaluating grid_log_model using function ccreated\n",
        "run_and_evaluate_model(grid_log_model,X_train,X_test,y_train,y_test)"
      ],
      "metadata": {
        "id": "oxMSuV6PSsUE"
      },
      "execution_count": null,
      "outputs": []
    },
    {
      "cell_type": "markdown",
      "source": [
        "#### **Explain the ML Model used and it's performance using Evaluation metric Score Chart.**"
      ],
      "metadata": {
        "id": "ArJBuiUVfxKd"
      }
    },
    {
      "cell_type": "markdown",
      "source": [
        "This is an evaluation report for a logistic regression model. The model has an accuracy of 64% both on the training set and the test set. Precision is defined as the number of true positive predictions over the number of true positive and false positive predictions, and it is also 69% on both training and test sets. Recall is defined as the number of true positive predictions over the number of true positive and false negative predictions and it is 50% on the training set and 49% on the test set. The F1 score is the harmonic mean of precision and recall, and it is 58% on both the training and test sets. The AUC (Area Under the Curve) for the ROC (Receiver Operating Characteristic) curve is a measure of model performance, and it is also 64% on both the training and test sets."
      ],
      "metadata": {
        "id": "JZzcnJSswrsH"
      }
    },
    {
      "cell_type": "markdown",
      "source": [
        "###**Features Importance Of Logistics Regression**"
      ],
      "metadata": {
        "id": "nKQZlHIzUotQ"
      }
    },
    {
      "cell_type": "code",
      "source": [
        "optimal_log_model=grid_log_model.best_estimator_.coef_"
      ],
      "metadata": {
        "id": "FDv-rUBqTeB0"
      },
      "execution_count": null,
      "outputs": []
    },
    {
      "cell_type": "code",
      "source": [
        "# Creating dataframe for feature imp\n",
        "feature_importance = pd.DataFrame({'Features':X.columns, 'Importance':np.abs(optimal_log_model).ravel() })"
      ],
      "metadata": {
        "id": "MrgfMszAT6rl"
      },
      "execution_count": null,
      "outputs": []
    },
    {
      "cell_type": "code",
      "source": [
        "# Sorting the feat impt df by importance\n",
        "imp_feat = feature_importance.sort_values(by = 'Importance', ascending=False)[:10]"
      ],
      "metadata": {
        "id": "oNv54MSDUMvI"
      },
      "execution_count": null,
      "outputs": []
    },
    {
      "cell_type": "code",
      "source": [
        "imp_feat"
      ],
      "metadata": {
        "id": "JdYFV7HvUPs5"
      },
      "execution_count": null,
      "outputs": []
    },
    {
      "cell_type": "code",
      "source": [
        "# Visualizing the feature importance\n",
        "imp_feat=imp_feat[imp_feat['Importance']>0]\n",
        "imp_feat=imp_feat.sort_values('Importance')\n",
        "plt.figure(figsize=(15,5))\n",
        "print(f'---------------------Features Importance------------------------\\n\\n {optimal_log_model}\\\n",
        "\\n---------------------------Plot-----------------------------\\n') \n",
        "sns.barplot(data=imp_feat,x=imp_feat.Features,y='Importance')\n",
        "plt.xticks(rotation=90);"
      ],
      "metadata": {
        "id": "5CGHKPRjTqbS"
      },
      "execution_count": null,
      "outputs": []
    },
    {
      "cell_type": "markdown",
      "source": [
        "### ML Model - 2"
      ],
      "metadata": {
        "id": "dJ2tPlVmpsJ0"
      }
    },
    {
      "cell_type": "markdown",
      "source": [
        "### **Random Forest**"
      ],
      "metadata": {
        "id": "Yu1JJBcApTjS"
      }
    },
    {
      "cell_type": "code",
      "source": [
        "#creating Instance of Random Forest\n",
        "Rf = RandomForestClassifier(n_estimators=50,random_state=12)\n",
        "run_and_evaluate_model(Rf, X_train,X_test,y_train,y_test)"
      ],
      "metadata": {
        "id": "hZaNWNTZEFly"
      },
      "execution_count": null,
      "outputs": []
    },
    {
      "cell_type": "markdown",
      "source": [
        "#### **Cross- Validation & Hyperparameter Tuning**"
      ],
      "metadata": {
        "id": "-jK_YjpMpsJ2"
      }
    },
    {
      "cell_type": "markdown",
      "source": [
        "**Implementing RandomizedSearchCV for hyperparameter tuning in Random Forest**"
      ],
      "metadata": {
        "id": "5uGwoy4Ft-xD"
      }
    },
    {
      "cell_type": "code",
      "source": [
        "# Creating parameter grid  \n",
        "param_grid = {\n",
        "    'max_depth': [10,20,30],\n",
        "    'min_samples_leaf': [3, 4, 5],\n",
        "    'min_samples_split': [5, 8, 10],\n",
        "    'n_estimators': [100, 150, 200]\n",
        "}"
      ],
      "metadata": {
        "id": "N6enFEb1sodD"
      },
      "execution_count": null,
      "outputs": []
    },
    {
      "cell_type": "code",
      "source": [
        "# Instantiate grid search model\n",
        "random_search = RandomizedSearchCV(estimator = Rf,param_distributions= param_grid,  scoring = 'accuracy',  \n",
        "                                   cv = 3, n_jobs = -1, verbose = 1)"
      ],
      "metadata": {
        "id": "guzP2q8WssMe"
      },
      "execution_count": null,
      "outputs": []
    },
    {
      "cell_type": "code",
      "source": [
        "# Fit grid search to the data\n",
        "random_search.fit(X_train, y_train)"
      ],
      "metadata": {
        "id": "25JGMa-8j9n3"
      },
      "execution_count": null,
      "outputs": []
    },
    {
      "cell_type": "code",
      "source": [
        "#get best parameters\n",
        "random_search.best_params_"
      ],
      "metadata": {
        "id": "iF1MzFOukTd3"
      },
      "execution_count": null,
      "outputs": []
    },
    {
      "cell_type": "code",
      "source": [
        "#get best score\n",
        "random_search.best_score_"
      ],
      "metadata": {
        "id": "Z_AMjU_1kf6i"
      },
      "execution_count": null,
      "outputs": []
    },
    {
      "cell_type": "code",
      "source": [
        "run_and_evaluate_model(random_search, X_train,X_test,y_train,y_test)"
      ],
      "metadata": {
        "id": "DBRJJMuqklCW"
      },
      "execution_count": null,
      "outputs": []
    },
    {
      "cell_type": "markdown",
      "source": [
        "####  **Explain the ML Model used and it's performance using Evaluation metric Score Chart.**"
      ],
      "metadata": {
        "id": "JWYfwnehpsJ1"
      }
    },
    {
      "cell_type": "markdown",
      "source": [
        "The model has an accuracy of 0.97 on the training set and 0.94 on the test set, which means that it correctly classifies 97% and 94% of the samples in the training and test set, respectively. The precision of the model is 0.96 and 0.92 on the training and test set, respectively. Precision measures the proportion of true positive predictions among all positive predictions made by the model. The recall of the model is 0.98 and 0.96 on the training and test set, respectively. Recall measures the proportion of true positive predictions among all actual positive samples. The F1 Score is the harmonic mean of precision and recall, and it is 0.97 and 0.94 on the training and test set, respectively. Finally, the AUC is the area under the ROC curve and it measures the model's ability to distinguish between positive and negative samples. The AUC is 0.97 and 0.94 on the training and test set, respectively."
      ],
      "metadata": {
        "id": "ECDAhJdZzCDi"
      }
    },
    {
      "cell_type": "markdown",
      "source": [
        "###**Features Importance Of Random Forest Classifier**"
      ],
      "metadata": {
        "id": "A_1OstGWWU_U"
      }
    },
    {
      "cell_type": "code",
      "source": [
        "#storing best estimator in varibale\n",
        "optimal__rfc_model=random_search.best_estimator_"
      ],
      "metadata": {
        "id": "H8G2sElLWXRD"
      },
      "execution_count": null,
      "outputs": []
    },
    {
      "cell_type": "code",
      "source": [
        "#visualizing the feature importance of variable for random forest classifier\n",
        "get_features_importance(optimal__rfc_model,X_train)"
      ],
      "metadata": {
        "id": "QERODx3OWbDt"
      },
      "execution_count": null,
      "outputs": []
    },
    {
      "cell_type": "markdown",
      "source": [
        "### ML Model - 3"
      ],
      "metadata": {
        "id": "Fze-IPXLpx6K"
      }
    },
    {
      "cell_type": "markdown",
      "source": [
        "### **XG Boost**"
      ],
      "metadata": {
        "id": "Nz2odMAqotR7"
      }
    },
    {
      "cell_type": "code",
      "source": [
        "#fitting data into XG Boosting Classifier\n",
        "xgb = XGBClassifier()\n",
        "run_and_evaluate_model(xgb, X_train,X_test,y_train,y_test)"
      ],
      "metadata": {
        "id": "07mUsBSLjjhh"
      },
      "execution_count": null,
      "outputs": []
    },
    {
      "cell_type": "markdown",
      "source": [
        "###  **Cross- Validation & Hyperparameter Tuning**"
      ],
      "metadata": {
        "id": "9PIHJqyupx6M"
      }
    },
    {
      "cell_type": "markdown",
      "source": [
        "**Implementing GridSearchCV for hyperparameter tuning in XGBoostClassifier**"
      ],
      "metadata": {
        "id": "AzzifaM7X2z-"
      }
    },
    {
      "cell_type": "code",
      "source": [
        "# finding the best parameters for XGBRegressor by gridsearchcv\n",
        "params={'n_estimators': [50,100,150],'max_depth': [3,5,9]}\n",
        "grid_xgboost_model=GridSearchCV(estimator=xgb,param_grid=params,cv=5,scoring='recall',verbose=5,n_jobs=-1)"
      ],
      "metadata": {
        "id": "eSVXuaSKpx6M"
      },
      "execution_count": null,
      "outputs": []
    },
    {
      "cell_type": "code",
      "source": [
        "# training and evaluating the xgb_grid\n",
        "run_and_evaluate_model(grid_xgboost_model,X_train,X_test,y_train,y_test)"
      ],
      "metadata": {
        "id": "hJsW2GXpm_FF"
      },
      "execution_count": null,
      "outputs": []
    },
    {
      "cell_type": "markdown",
      "source": [
        "#### **Explain the ML Model used and it's performance using Evaluation metric Score Chart.**"
      ],
      "metadata": {
        "id": "7AN1z2sKpx6M"
      }
    },
    {
      "cell_type": "markdown",
      "source": [
        "The accuracy of the model on the training set is 0.92 and on the test set is 0.92. This means that the model correctly predicts 92% of the classes in both training and test sets.\n",
        "\n",
        "The precision of the model on the training set is 0.89 and on the test set is 0.89. Precision measures the proportion of true positive predictions among the positive predictions. In this case, 89% of the positive predictions made by the model are correct.\n",
        "\n",
        "The recall of the model on the training set is 0.96 and on the test set is 0.96. Recall measures the proportion of true positive predictions among all actual positive cases. In this case, the model correctly identifies 96% of the actual positive cases.\n",
        "\n",
        "The F1 score of the model on the training set is 0.92 and on the test set is 0.92. The F1 score is the harmonic mean of precision and recall. A high F1 score indicates a balance between precision and recall.\n",
        "\n",
        "The AUC (Area Under the Curve) of the model on the training set is 0.92 and on the test set is 0.92. AUC measures the performance of a binary classifier by plotting the true positive rate against the false positive rate. An AUC of 1 indicates a perfect classifier, while an AUC of 0.5 indicates a random classifier. In this case, the model has an AUC of 0.92 on both the training and test sets."
      ],
      "metadata": {
        "id": "luyD72U8ziVt"
      }
    },
    {
      "cell_type": "markdown",
      "source": [
        "###**Features Importance Of XG Boost Classifier**"
      ],
      "metadata": {
        "id": "nHVaNmCyYOtP"
      }
    },
    {
      "cell_type": "code",
      "source": [
        "# Storing best estimator in varibale\n",
        "optimal__xg_model=grid_xgboost_model.best_estimator_"
      ],
      "metadata": {
        "id": "0hFrcJAhOFfw"
      },
      "execution_count": null,
      "outputs": []
    },
    {
      "cell_type": "code",
      "source": [
        "# Visualizing the feature importance of variable for XG Boost Classifier\n",
        "get_features_importance(optimal__xg_model,X_train)"
      ],
      "metadata": {
        "id": "OvyJYUfcORRF"
      },
      "execution_count": null,
      "outputs": []
    },
    {
      "cell_type": "markdown",
      "source": [
        "### ML Model - 4"
      ],
      "metadata": {
        "id": "tQPfSnGQEK9j"
      }
    },
    {
      "cell_type": "markdown",
      "source": [
        "###**LightGBM**"
      ],
      "metadata": {
        "id": "kF5YnpN7ELmF"
      }
    },
    {
      "cell_type": "code",
      "source": [
        "#creating Instance of LightGBM\n",
        "lgbc=lgb.LGBMClassifier()"
      ],
      "metadata": {
        "id": "Nb_88VlyPSS-"
      },
      "execution_count": null,
      "outputs": []
    },
    {
      "cell_type": "code",
      "source": [
        "# training and evaluating the lgbr_grid\n",
        "run_and_evaluate_model(lgbc,X_train,X_test,y_train,y_test)"
      ],
      "metadata": {
        "id": "Lh8eq6FHPXFQ"
      },
      "execution_count": null,
      "outputs": []
    },
    {
      "cell_type": "markdown",
      "source": [
        "#### **Cross- Validation & Hyperparameter Tuning**"
      ],
      "metadata": {
        "id": "foEpv8RRZS7s"
      }
    },
    {
      "cell_type": "markdown",
      "source": [
        "**Implementing GridSearchCV for hyperparameter tuning in LightGBM Classifier**"
      ],
      "metadata": {
        "id": "StmJJN8XaA_D"
      }
    },
    {
      "cell_type": "code",
      "source": [
        "# finding the best parameters for LightGBM by gridsearchcv\n",
        "lgbc_para={'n_estimators': [100,125,150],'max_depth': [7,10,15]}\n",
        "lgbc_grid=GridSearchCV(estimator=lgbc,param_grid=lgbc_para,cv=3,scoring='recall',verbose=5,n_jobs=-1)"
      ],
      "metadata": {
        "id": "96rHJ4C2Pgnz"
      },
      "execution_count": null,
      "outputs": []
    },
    {
      "cell_type": "code",
      "source": [
        "# training and evaluating the lgbr_grid\n",
        "run_and_evaluate_model(lgbc_grid,X_train,X_test,y_train,y_test)"
      ],
      "metadata": {
        "id": "7XbdVbGyPlol"
      },
      "execution_count": null,
      "outputs": []
    },
    {
      "cell_type": "markdown",
      "source": [
        "###**Features Importance Of LightGBM Classifier**"
      ],
      "metadata": {
        "id": "dd6oprWRacTu"
      }
    },
    {
      "cell_type": "code",
      "source": [
        "#storing best estimator in varibale\n",
        "optimal__rfc_model=lgbc_grid.best_estimator_"
      ],
      "metadata": {
        "id": "1CMJ28k3P4nR"
      },
      "execution_count": null,
      "outputs": []
    },
    {
      "cell_type": "code",
      "source": [
        "#visualizing the feature importance of variable for LightGBM \n",
        "get_features_importance(optimal__rfc_model,X_train)"
      ],
      "metadata": {
        "id": "UKV7owteP9T5"
      },
      "execution_count": null,
      "outputs": []
    },
    {
      "cell_type": "markdown",
      "source": [
        "###**Comparison Table**"
      ],
      "metadata": {
        "id": "StytEvynOxIu"
      }
    },
    {
      "cell_type": "code",
      "source": [
        "# list of dictionaries representing evaluation metrics for different models\n",
        "models_eval = [{'Model': 'LogisticRegression', 'Accuracy Train': 0.64, 'Accuracy Test': 0.64, 'Precision Train': 0.69,'Precision Test': 0.69,'Recall Train': 0.50,'Recall Test': 0.49,'F1 Train':0.58,'F1 Test': 0.58,'Auc Train': 0.64,'Auc Test':0.64},\n",
        "               {'Model': 'RandomForestClassifier', 'Accuracy Train': 0.97, 'Accuracy Test': 0.94, 'Precision Train': 0.96,'Precision Test': 0.92,'Recall Train': 0.98,'Recall Test': 0.96,'F1 Train':0.97,'F1 Test': 0.94,'Auc Train': 0.97,'Auc Test':0.94},\n",
        "               {'Model': 'XGBClassifier', 'Accuracy Train': 0.92, 'Accuracy Test': 0.92, 'Precision Train': 0.89,'Precision Test': 0.89,'Recall Train': 0.96,'Recall Test': 0.96,'F1 Train':0.92,'F1 Test': 0.92,'Auc Train': 0.92,'Auc Test':0.92},\n",
        "               {'Model': 'LightGBMClassifier', 'Accuracy Train': 0.95, 'Accuracy Test': 0.94, 'Precision Train': 0.95,'Precision Test': 0.93,'Recall Train': 0.96,'Recall Test': 0.94,'F1 Train':0.96,'F1 Test': 0.94,'Auc Train': 0.95,'Auc Test':0.94}]\n",
        "\n",
        "# function to create comparison table\n",
        "def create_comparison_table(models_eval):\n",
        "    comparison_table = pd.DataFrame(models_eval)\n",
        "    return comparison_table\n",
        "\n",
        "# create comparison table\n",
        "comparison_table = create_comparison_table(models_eval)\n",
        "comparison_table"
      ],
      "metadata": {
        "id": "NuyjtI2frgWc"
      },
      "execution_count": null,
      "outputs": []
    },
    {
      "cell_type": "markdown",
      "source": [
        "# We have Selected Random Forest as a best Classification Model"
      ],
      "metadata": {
        "id": "s6-TQ5fhIKDX"
      }
    },
    {
      "cell_type": "markdown",
      "source": [
        "# **Conclusion**"
      ],
      "metadata": {
        "id": "gCX9965dhzqZ"
      }
    },
    {
      "cell_type": "markdown",
      "source": [
        "**Conclusions drawn from EDA**\n",
        "\n",
        "\n",
        "**Exploratory Data Analysis (EDA)**  is an important step because it allows for the initial investigation of a dataset. It helps to identify patterns, anomalies, and relationships in the data, as well as to detect any potential issues such as missing values or outliers. EDA also helps to generate hypotheses and inform the development of more advanced modeling techniques, such as machine learning. Additionally, it is a good way to understand the data, which is crucial for good decision making. EDA also helps to provide a deeper understanding of the data and helps to guide the direction of further analysis. \n",
        "\n",
        "**Conclusions drawn from ML Model Implementation**\n",
        "\n",
        "Close predictions of any ML model highly impacts the business growth. Before going to further model deployment one should have to check how accurately the model is predicting and performing with the real life data.\n",
        "\n",
        "Conclusions drawn from any model are very helpful to identify wheather the model is fully baked and good to go for deployment process or needs further refinement. In this section first we will talk about some general points that are essential for every ML model and then will talk about the project oriented conclusions we made:\n",
        "\n",
        "**General conclusions:**\n",
        "\n",
        "The implementation of an ML model can greatly\n",
        "improve the performance and accuracy of a system or application.\n",
        "\n",
        "It is important to carefully select and preprocess the data used for training and testing the model.\n",
        "Regular evaluation and tuning of the model is necessary to ensure optimal performance.\n",
        "The use of appropriate evaluation metrics can help to measure the performance of the model.\n",
        "The integration of the model into the system or application should be done in a way that allows for easy maintenance and updates.\n",
        "The ethical and legal considerations of the model's use should also be taken into account.\n",
        "\n",
        "**Project conclusions:**\n",
        "\n",
        "We have implemented various Classification model started with RandomForestClassifier and then we have tried other XGBClassifier\t& LightGBMClassifier models too. For each of the model we have tried to tune the hyperparameters as well in order to minimize the errors and drawn following conclusions"
      ],
      "metadata": {
        "id": "Fjb1IsQkh3yE"
      }
    },
    {
      "cell_type": "markdown",
      "source": [
        "![image.png](data:image/png;base64,iVBORw0KGgoAAAANSUhEUgAABk4AAADtCAYAAAD5l4keAAAgAElEQVR4nOzdf1yVZZ74/9eu7tyzzHh2nYUZZ4VtH0DtALohOnOEqRNWiDuCrgOxiVlBlJiN2BpkJEMGEgOaYZHYEMcisQ95ckRqRTIRW/HMJNIa0Bac3Rb8rA18Pu7gY9nuvvHp+8d9HzgcDngOv8X38/HgkcH5cd/3dd3Xj/u6rvf1R9988803CCGEEEIIIYQQQgghhBBCCP54qg9ACCGEEEIIIYQQQgghhBBiupCBEyGEEEIIIYQQQgghhBBCCJ0MnAghhBBCCCGEEEIIIYQQQuhk4EQIIYQQQgghhBBCCCGEEEInAydCCCGEEEIIIYQQQgghhBA6GTgRQgghhBBCCCGEEEIIIYTQycCJEEIIIYQQQgghhBBCCCGETgZOhBBCCCGEEEIIIYQQQgghdDJwIoQQQgghhBBCCCGEEEIIoZOBEyGEEEIIIYQQQgghhBBCCJ0MnAghhBBCCCGEEEIIIYQQQuhk4EQIIYQQQgghhBBCCCGEEEInAydCCCGEEEIIIYQQQgghhBA6GTgRQgghhBBCCCGEEEIIIYTQycCJEEIIIYQQQgghhBBCCCGETgZOhBBCCCGEEEIIIYQQQgghdDJwIoQQQgghhBBCCCGEEEIIoZOBEyGEEEIIIYQQQgghhBBCCJ0MnAghhBBCCCGEEEIIIYQQQuhk4EQIIYQQQgghhBBCCCGEEEInAydCCCGEEEIIIYQQQgghhBA6GTgRYjq7XEmyvz/+/slUXvb87V2Hk/H39x/0k3y4a/yPUwiA3kZ2xwThv3gd5e1TfTBCiGFNwL2qfrib2AX+hN5fTlvf+HzmTNNxZCOh/kHE5tbRM9UHc52aiHwm6SI85Xb7+sO8Ia/zz2+c/AMeb30dVD0Wiv+CWPLq5K7xTCN5znnCP4+huaKLymTn142uPyhubFLHCeEmqdvEMGTgRIhRaMy3N2CzqVP1X/Y1krdA/31yJTf68MSgTuWCPBrlQdoEcdWxGvqT9+HEH4n626MUt6hwpYHst6bZg4H+QUh//P2DJuV63KhcPVCa/AdHPTQf3s2W+5dTPAlp7eqcgyJi2ZhfSeM0fMgx/veqSsPRYpp7oeeDbCovjMNHjhdXDy6dfyalzu6g7o0aelBpLnud49MiX7iqP4Iwxmwk73AjXdOu3p6IfDYd00UjZaljWVpFszzDmCZ5Auis4/V3e6C3mdLXj0+TPo+rAYlQlt+/hdIPpscRTq3p0V9QO+soz9pIbFrVpOSbEe8ZV/dKTxt1L64jdKwDVdL2GNGNnS6TW6/2m8594WmRLkzTum1AY37QJJcf7nJV/07+wP9E1i8ycCKEx1R6/tv+70rOXtT/2dJATe8UHdIwfOLLsNls2GxW8iMn85t7aKirAwwY5gK9NTS0TOb3i6mg/GQ1m4IVmBtO5qqQqT6cQXp+d4o6wDDXAKjUNDRP9SGJCdXG0Yxiqj5o4w9TdATq5WZqXtlG/N3JVHZO0UEMY/zvVYXw1ZsI8QLDbZmsXjgOHznj+BF5XzQGFELu/QeWzZvq4xmOSldLDaUZ8ZhSK+mYVoMnE5HPrpd0mSrTpSzdQmzcbhrVa79+Mrjdvl6Sqb/OxuFHJu3wJp5vJPf/zABeIST8wzJ8pvp4htVD2wdV5N1vIvnIdHnEFEamnidslSkjvM6HhDL9dWfzmdRu3ATqOfc62QdraL765VQfymBqBw0vJmOMWE7ynoYZtDLjOq/jZmS6TE29Kn1hN0znuq2vmYZ3VfAyYPAC6k7RcGWqD2p6mcj6Zfa4f6IQM14Pv78EoKB4qdT8rpnMJSE0f1BJh68ffp0ddEz1IU61ngbefxdYuJXMFaVsK+yg8oNmNi2cXg/TZwatY5Wg/1/X4WSMGXVACodtmYRN5qF4hbG1upWtk/mdbumh4b0aIIStT62gNGM3HW/V0fyLECRHjj+f+DJs8fr/XK4kOWIbdUBKpY3MJVN5ZJMgMh9rWQI+gPp5HXkpyZS317GtsIYVRdEYpvr47CbgXlWWbOXYx9Pv7tceXGbq/9NInn88pUBkgZWy+MntEvmt2UfTmkn9Srf1X48+lY66PB56uJy2k9vYXbOCF342bXLuhOSz6ZouUpYm4NOn0tWwm3X3l9LWXszRhscIi1Sm+uimzLTJE7P8WPVSE6sm8Ss90X89etuoTItl20mVugPHaVuznsCpPrgpM436C1PBoX3mSs+JPNbt0Sb9hd0VSNfJxrH156Xt4Z4bOF0m1zTvC0+XdJnOddu/1mkT8dZlktmzjW3Hani/oYdV06KNrk0I6E/BfH/iX+Ga9/f1RFacCDFaC7eyY4MfHccbaaONxuMdhG3IJGUhUNc2UKn39dB8LI+NUaGDl403uJj5dLmB0q3rWL5YD0+wMo+GYb6+64NStiQYCbJ/5sY8qlqmxzwMtfEsVYDfijASfhyNAvp1cqGnjbpXthAfoS89XLycjS82DA0R0tdD20nncy6mwWHJX/+y30FLFweWpg/En7b/7g6KW6DjWDbxi/UQJQnZ1DjODnexdNQeNqLN1Qqjy41U5m8cSMOIeLIPN9PTB6DSsEM/z6w6nCdOdhyM1/4WVz5xg2/280mroaenkdKH9eu5eDkbX2l2OCYXSy4XGIndmEfVp4OP3N1Y3/YQd3kNXTS8aL9GLq75eFMbOXsM8F1B2Jpwor2AzuM0utrbwY18Ztf1YSV5G5fry8a186h0vAf7887g2NX9of4clqLbr+Ed+5rh8yqy40IH8s+7jrnB/XRx53z689zq8iH3p/pBtvaeBdk0TOQsX+cycoGR+K2lQ695XxeNh/PYGGM/lyCMDw8u9wbyotbgBihNcLxeruKITwzlpkge26DPET35sX59PSh7AHqaqXIqT7a84qJ8BLfKUo/2vertoO6VLaxzqLuGpouHMdgvN1C6NR7jghHKUvt9k99AV0Nxf74Yei9MBPfTx9W1DI1a5yJ93Ixnbw+hkFxJ26eVZCcMVzZPsFkKfnc9RoqedWv+1V4y2M9jCzVXemh8JVlPx1CWbyyl2bk+dErr0KiN5B2z14WDXbMs9TCfdV2oJG9jrEM+S3bx3e7uM4Db7bgpq+OGO86ZUJbOUvC5bUX/bPuOK4PbuZ60ha+dzzysX6c99+9Zt8szd/dsmS7lmVcgy6LDtX+3/37wbPVJqF9d1wnXEXfL8Wu2FwbuLW2wBqjbhtGdtsgkMdz2dyTctpWDZ5s4nJNAwKR++wTcq9db22MYU5suuF+vcu22x5TWq271hQfyzKAwXsP0Z4FrPPeYKDdm3db2u+N0AKvCV7Dsdq1VVNXQ6PCdrp55MfKeye4+h5sIbtYv6ud1g56P+i92rqsnp36RgRMhRusvDCy7KwG/i6do/LCRUxcjSbgrDOUvHF7T10FVmonYtFJq2u3NdX3Z+LrBy8bVD3cTe/c68o400KYvu1Ov9LgsgDsOJ2O6P4+qD7v0v/fQVlPKlph4dl+Y6iaOSuPpSkAh+schsDBCm9108SgNnzu9tLOKjcuWk5xfReNl/bivtFGzZx2/doxdrl/H5Q87n/Nu1h0YSxOjg45D2SxPK6fxinbsXR+WszFt5IGL/rART9UM6oRpaRjPtldqBtLwciPlGbs53gWgEP7zx/ADOPgbBu851kHd29q5RD+4WnvNROo+y+6kePJO6tfzShs1+fHkfTBC/untormmlC0/f5KaMSwNLX/YxLo99mvk3jUfC/V3p6gElJ+FEzIrhIg1AM0cPef0jW7nM5XGPbGYErZRWtOm5wHtPLbtGls81I5/qyR75RbKL+ifermR8scep9z53nE0XLq4cT5+P7ufaICLpdQMCqen0niyEhXw25BA+IRN8FVpLIwfXEb2dtF4JI91dydT1d/A66HmH03EZ5RS02I/F5Wuk6VsiXlp0gZDPPXl1/r9FPB9p9UmbpQ9vY3kxcWyxak8qcpfhynVKXaru2Wpu/qaKV59B8n5VTQ41F2NR/JYlzm6mLoDdVwjXb3289HK0uWrXYTgeSMZ07rd/fnCrXth3Iyubuhpb6Aqfx3rXhlD+IPfZhO7YhvlH3pQNo+7L7E3PgK/5zyTrYuzzycTn1+np2MPbTV5xBc2DLRXOitJdkrrnvYaStNiid/r2Mkb/7K0590tmOK2UVrT7JDP6ihNi+WlUd0L7rfj7Ca7jtPM0LK0T6Xj5FG0rnAYy8IG5i263xYeQz4bp3bP1HLjnnVhJpRnalczx2u0KWjKPREDM6snqX4dl2s4VdwtxyegvTAl5q4i//VNhE9pKKsb914d1pSmi7v16gS0PcaZ231hTz7zms89JtqNdL900FDVDEQSEWbAZ9EyrT47cmr0IUzHu+/o0Xe7Wb+0FBO7LHnQ81GuaHX1k5McflMGToTwWAdt+mAmfxNOtFcdx18+Tt3CZYQ5Veo97xXz5Ls9QCAprzdpcWpbT1P2QCCgUpf1a33T9A4qn9M2PFXu2sGx83pM21M7CHf++itV5GXUofquZ199q/a6z1o5kRMJtFF8oG5q43/2NXPqLRVIIGIhoIQREQvQyKnfORZwPVTlb9E6ogEJ5B/Vr89nTZz49VYCZzm88t08tujXMaHgGE2fadenqbaMrWNcc195sBy/Rw5qn1mdqVVCF05xwX6oDvGp7T+tR7XXqcf+iQb7xe5rpvQf9TRcsomD9rRpPc3hnAi+bz+fhatIWQRQxW9OO6TUxSpKLwBe67l/+SQsuWwop/xfI8k/pV3zffEAKpW/szciHGIw239aj5G5EOit4p8aBo7d07101F4ISz+sXXPLJm2Q6MIpl7N3xkPzB9oAQMLSEEAhLFxbgNt4smFQh87tfHaxlMdfbEZFIewXBzndqueL+sPsuO37YzvYw+WU/zCFg002bJ/p15tGTjXaj9T9dHHrfOZGc/8DCtBB5UmHBuSVGl5/TQXCSJnI/WoulvL4K20QmTlQ7rVaKUv2g946dh+xH1Mb549pzahVRdaBe/HUYXbcO3DNB/LiYeyRw1MqHa/X5IWj6LlYTnau9sDG7+6wIeFBrlX2NL/6OKXtELl9IO1arWWk+IJ6cjeV/QNd7pelbt+rXc2cbwcIZJNloJ6x1pax9ZZvO7zQ3RjsbZQ/Za/j8jmh3zNNR3cQ6QW0F/PSMacGcK8KS7ZyuMmG7bPDbPKFofXIxLlW+gxcy4Gfppe0IChth+oYuJvcjWev61VRAxJ44ZQN22dWXvgZgEr5B5P04K2vh+bXssluAPBjRZhzzm2g/GAzkXmntXPep52z+tZZ/Zx7qMrfRl2vH+v3nabVnneP7yASaHvx9YFJA26Xpe7H+m/7lyqtwxX7Alb9u20fn+ZwTsJAPQy4my7ut+MGTHYdB8y8stQ+W/DmIO54uJw2rxASXtrD+pv0v3vSFnY7n7lfv15frnXPelCeebpnyxSVZ/ZZ3EHGWLJPqhhuy+Rwejj2OSATW79eq064HnhQjrvVXhi4t6wFegkemY/V4VpNeDgepxnI02GVy1DjeK9eL22P6Zwubter7rU9prJedbcv7DZ3n3tMqBuobrvcwKkLgP15Y0AYK3yB3kpOXbzGe11yv24bf+7XL10t57WIDbds4nDrwD144tdbCeyf1Dk59YvscSLEWMwKZPFdUHqsjpDsTAJBn633e7p6VHr0Sop1mWy9TX8YrvgR+VAK4a9to6G3hoZ/zSTM0MDxCwAhZG5bT8hc/fMVBeeJ3j0N71MD0FnORlP50GM6dp62ouipi1Xb0kBNLxAbQZgCYCA4PByONVBX10BP/Cpt5nVXHb95F0BhffYOEhbqZzrLQOBdmxweMnZRV1UDgPLADnbEh/RfE0NAJJvGuGZXuSufV9PDMcwCglM4ZhvauOxpqeKlF3/N0TMDs0j0v/CHXsAA/MtxXuoECCOzcCvhvvYv8CNsneNn+rH6wWiyL9RQU1NHT6x2PRrfeYkOIHDTRM7udxRIyoF9JNwEYCC6wIatwOklPc1UvfwSv66qo/ny4OkMPb2jn1Hhl1zGwY1hWjouWkY0xf1LlsedfSM1VhGhZUgMfxtBOFU01J2i4UoCq+aCJ/ms8T0trViUyZ7Hw/tXBym+YaxPHuPxekWSb84k3AAQQspRG0NypFvp4u756KugXtNj3T4aQsgs6Dr5G2oAJfZhVt/EhGn+oFK7lnV5xC7OG/L3jt8107UxBB988FsEXICqtCi6fruVf1gdTvjCMNbnTaPI3HXbMPpvG/y7gBT2PDR08GnksqeZure0WWB1ubGE5jq/u4PzLV0Q7ONBWeqBuX74eQG9bRSvj6fjofX8/d3hhAdHsmnbNd89VHsDR9tBq+MS+hu7hoXrefjebOrKoO5MIz3xDvvA+KZQdmATYV4AYSz7GRS/MpqTGR136oauD0rZ+UoldR+0DZ6w0PmHMSzXjyTfnM8qXwAfwiMj4d26a71pzOoyjPhnDP5d4CN7tPCjOP/+IPvu1Uo+Q3Q+Nlv+wB/te5zRQfnGOxjaSqni/KcvEL1kYspSH78woBGObSHqynm23rOa8KUhhK3LH0W7SKXR3XZc8MC7JrWO0824snQQP1Y99zL5PxtYi+tJW9ijfDZB7Z6pNuI9q5tJ5dkgi7ZysCSFEC/7Lyaufp2YazgFPCjHx729cIO7oe/Vacb9enW82x7jzO2+sAfcfu4xsW6U+6Xnd6eoQwuDr9U7IYQtB8pUahq0/ZY9MhF9R3d5UL8Y5vmhAOqnxayL6yDlwb9nxY/DCblrU/9+KpNFVpwIMSYGwm6PBPxY8WPHIqaHP/TaN5GHyFtDBg+A/NBPXy7eoT14v9ym72USTuBfj/yNau/0nvFmb2SEhwf3PwDz+9sIraP67vsOKzS+1P8RTkjgyCMFX+qzOcNDAocMJI1VePQy/EYYVe86kowxZsugpbcu9al65RtGyDUeNBuW3896L+Ddf6LuCqA2cPQNFYjmsXsna4u2SFYsGeFqXq4iOUILY+D88GCsAn40/uk4LPtGauERBNszpG8IEb4A2qZqdm7nM1W/Hj8OGf+Qaj9ZwTLfEf7uQbq4fT72VVCdldS1AHRw/FAd4MdjKRO7obn6B3eXiPuxvuQgW+/yQaGHhoPZbElYjjEolPisGjqmYfxwQ0A4q7YdxHo8U3/4P9jIZY/KH9zdE8GDstRtSjiZb+ezfpEBepupenEbyavvIOhWI8mjieF7pUOf1RVOiNNgt2+gvq7yqlMHJjCQQBfXbbJcK30a9yzHeH8eVc4dsTELJHCkMmDCGQi8bRWZr1s5sS3MZdkRebfr3wPQ+wf3r8cElKV+9+7j4OOR+HhBzwflZKfFs9wYRGjcaPYZ8aAd52BS6zjdjCtLI/OxftbKibxIFDqoSsseFJvbo7awu/lsAts9U23Ee3YGlmcplTZs5w+SEgBc2M2jTiECx79+nchrOAU8KcfHu70wUZxmIE/KKpdRuNHu1emcLu7Xq+Pd9hhnHvSF3ebBc4+JdGPcLz00vKdNhowOHXhOFBKmrRrqeGsUKxonou/oLg/qF+W2TI4VrCdsLqgtVRRnJBO7LIigiGRKL05u7SIDJ0J4qqeL3zv8r7YE8DSb9NmG3+5/0GLg+/O1f9V95NRw/Hf7QEkIfnMBrz/TO3NtdP1fh9ep6vANzvB8TjuHFJjkUDRDtdF4XGtkNGTeMbDsNma3Htu7irNDAjE20NzmXsHX0NzmeQO87w/0/B9P32TXTOUebRP3wEcOYrUvERwxVEgjzdeKwa+Ek7DBD6jhNye76Dn5vyjvBeWB+4n2dMbHBGk+spu6XiAghYPWVo9CcU0n9o3UaNjGHf3LwGPZrTdiB2+qpnE7n/2ueRQx61V6/u+1XzWc0aTLtc9HWwUFHbz0TiO06GHjFqWwysVs8wmRfNBFWWbDVpZAf/fJJ5xNv7bS2trE6cp8NsWGoNBD48GNPP7mRG8a7iaHDmBT7UFeeCQcnzEud0456Kqcd9WxdL8sdYdySwI7LE3YPrZy4tc7WH+bAXq7qBtNDN+59ofMDTQP2ohSpb1Zqw2Z77wPzDTWU8frL7YBCpF5J/qXmbsVDmOaiiywh21q4sTrL5By21gfXISTX+8672YucXrpqMrSYczyIfwXZVg/aqXp1GHyf7GKEC/ouTCafUY8aMdNFzOlLAWYpRB47w4yFwHUUXxgaH3tUVv4GvlsprR7PDYDyzMA5oazNXs9CtDxykscdREqb9zq15l6Dd0sx8e1vSCGN2Pz2TTnTr06rm2P8TWavrAj9Q8jPeZ247nHVJkp94vayNlj2j9L1zlscv9YlfbLzuM0tg//dnp6RgjHNr59R8+4U78oBMbv4PB5G61nT1CWs57wudr+QXlr82iYxEOXgRMhPGUfJZ3zZy5GuH3wDQDoQv1vhZBb9d7WwTx2f6BXOmoblfl52shwwGrCA4CAEP1BfB2/OaFXrZfryE7J1jvmDt8QvFgbZGnIJvu1ZrqmU3u0vYHKa8RZLD+pb9g1L4yIAACV8h3ZVF7Ur09fD20ni8nrj3fvQ9hSbTWP+lo22Yeb6dFnRPa011GcP7CJo89f66t+fttMcw/Q00x5Wjx5o4r9qB2bfVaar58vPgpwpZnK50sZshjzlsUkeAE0kpe+m4ZOPWHUDhoPbtMeRDsIiUzAD6jbu5NfHq4C/Hjs5+GTPkt1OP2zbPz88P2eosW9P7yb0utq1XYbDW9fYw7GwVN6pet+PgtclKCl04U8Ht/TQIc9qTsbKc8sHdhc1zdQv68bafwU6OuiLjeejYdHf0bup4v75wNguO3viAbUV15iy35t1Vj0g6vHf0WNk8C/1WbLUJZN9skO1GFnOzdSmllOQ3sX6mwDfksS2Fqwg8du0f/a4dwkVPgzfSZQzfGG/nO/fgSyOFb7V+kvs6n7fISC3u2y1AOXq8h7sYrmz3tQFR8C71rPjt3PoqWWSsdlD+dt/XUI4V4AzeTlV2Jvo/d8sJu8gwAKCbeNNGtsmumfLfV9An2/jzIL1M4Gdhe4CBl0o5kXwmJfgAayd5TTPEIjxe2y1AONZdso/6CNLlXBcFMYCZt/xY5NetvgQoeHsbw9aMdNsZlbltoH9qHjlV/3b9DuSVvY3Xw2M9o9ozCDyzMlPIHHfAHqKH7L3h6cgPp1pl1DD8pxT9sLipc+RaLuOMen6wPX6Wqm5bNpzv161dO2x2TWq570hf0I1Js8jf/SBkDXyTzi0yqHvsfD5x5TYobcL2rDKRfhrBw1U/lBG+BDoN6Wa/hI6/f3tJSzcW3e0BUpE9F3dJcH9UvXsTyKjzXT0aOizAskct0OXnhGvy97O+i4Mvj1E1m/yMCJEKP1Q58RZsc203EFfGIf0/cSaKP0/lBthDhoOdtOqkAgKc+t12IIKpEkpGuVa12WvlIjIpny/3SxDDA4hT2P6JuS7ojFGDTchmpdVCbbf29km97xq8sw6r9LHhT2YDx0XTilFczrymgdshGXXsgdOUtzH0Ag659L0c6/vZJtq/Xrc3Moyx/ejePgd+B9+dpye9qozIgl9GZ9pD0qmd2ffjnwwoDFrPICestJDvXHPzSW7HdVDHNH+zguhGUPaO/tT5fFsWw73IHiHELGEM2mZyK1OIwfFrPOFKSn9x3EZ1Xye+dGUX94pCqq6oDITSRM1ux+N4Tcps3Soy6bO27W0iU2o5IOL+drOfn5zG2XG/UN09ZT1uo0m6Fpn96pq+SsPrDmbj4z3L2JHXcpgErji+u4Q78Hg0zxZL/psB7NJ4TFAQCN5K3wx/9mI8llzShzRz+v3v108eC+AYdN4uuoOtYBvik8vHzi5/8boreSf5cCtFH+8B0E3Ty4PMv7cOC1v38zm3VRxoHXBMWz+1OAQDZFO4e4CyRcj4ffUbau/9z9/fNG9TB28hmITs/XN04vJ3lZ0KDrMvg83C1LPblXv6RtzxZil4UOXG/jFqoAvCL5e/tqhMuVJNuPKWKbPqBcx7YI/XfJlVpncVYYD+fo5ePJbSzX75nQ+0tpA5S7drDp7utmvQnMC2fZIoCO/ro9yLSO4haGDv58mDeQbgn2nS5Kibf/Lv/6yJHuCyHleS0/qieziTU65V17nsCDstTdfAbw+0qy71+OcYH+t5uDiC/UHgAE/mIF/SWFm+nidjtuis3ksrQ/vCk1vPSm3v13uy3sfj6biHZPY/7AMcXb92h6Jd5lukwZD8qz6+J8HM0KYdUGbe1Rx377wNsE1K8TUSd4Uu6NO/fLcbfbCzpDWET/ZMHsZdNoQ3DHdJn06+2mG7HtMYXp4km96nbbQ/vN5NWrHvWFfQjRQ8835i7H398f48OlNCuGoc+8PH3uMRVmSN3WfE4buArJPjFkZcaxdC0fNZ9upAttsE8B1IPJhN7sT2hMNjWqAcOQ0MfuP4cbfx7UL2obu9NiuSN04DXGNG2ljXLX37Ns3uBPnsj6RQZOhPDU17gfLkoJY+vR05Q9Hk3IPL2I9vIhbE0mB8+eINNhj4mQRw5y8PFoAucCGAiM3srB914lZUiPXCEs/TDHilKIDvaZRjN0uzilb4q1KnzozOH+gqy3nOP6LARlSSYnzh4kc024ft6gzAtj1baD/GqNQ0PbK4zM41YObltFeIBedduvY57DMtm50fzqUCaR+rVW5kWSUnSMw0+Fj/KcFMLTj5G/LkxvMBgIjE7hherD7PjJ0Ff7xZdhrX6BlOgQfPQKyhAQTUrRMR5bNOTV/bMoQWF98mqmR0RXjWNMSRg4j8PbR3stJ1/XB8e1BnZsBGFDMyQRkQAq5e/pzVR389ksPxJKrE73oD1vPDYQHmRWCJvM+7S4zwBztbxd+1LCqM/Jo3Rx93y0T9Y2idf/L2zD+qHXbCLM8iOhpH7wMboUxmNO9xZzAwnR78eti5wPViEs/Q3KHonuL1uuO74JlL03uHwcjttlqbvmJfCr1zNZdVtgf+umWmMAACAASURBVGdJmRdC+JpMDr5Xxqp5I77bJZ81ZdRbdrDe4TPt+ddakjDiXlPTj+M+EQzcV++VsX6qD20aUJZkctj5fnXF3bLUA2GPHuOFRxzaXBgIXKiXk5tHsarJg3bclJrJZakSTspTWm5oK67Uwml50hZ2M5/NhHbP6Mzs8swvfqs28NZbxa+rtAeZ41+/zrxr6HY57ml7YV4CL1h2sGrJdOrDXi9mXj6b1tyuVz1te0xeveppXzjkkVfZ5/DcI2xNJgeP78NVz9Wz5x5TYQbcL32NHH9DZeh+ypqQH0frEz6Oc+oyGH72Kw5vi9TTQ8HnrhReePswmS6eW41739ED7tYvPmt+5XT/KfgEa3uI1pesGvrsbALrlz/65ptvvhnnzxRCCOGGnmMbCU2rgUU7OFG5nsDr6sGhmHEuFnPH6t10eK2n7Lc7tNmYQgghhBBCCCGEEDcgWXEihBBToKelnC1P1QAK63+RIIMmYmpdriP7H3fTAYSlr5dBEyGEEEIIIYQQQtzQZk/1AQghxI2kMd8hdiYQ+MhBMiNlsbqYGl2HkzFmDOx8q9yVz577pkPEfiGEEEIIIYQQQoipIytOhBBiCijzwliVc5jD6aOIuS7EeJsbSPQjZZy47vaaEEIIIYQQQgghhBh/sseJEEIIIYQQQgghhBBCCCGETlacCCGEEEIIIYQQQgghhBBC6GTgRAghhBBCCCGEEEIIIYQQQicDJ0IIIYQQQgghhBBCCCGEEDoZOBFCCCGEEEIIIYQQQgghhNDJwIkQQgghhBBCCCGEEEIIIYROBk6EEEIIIYQQQgghhBBCCCF0MnAihBBCCCGEEEIIIYQQQgihk4ETIYQQQgghhBBCCCGEEEIInQycCCGEEEIIIYQQQgghhBBC6GTgRAghhBBCCCGEEEIIIYQQQicDJ0IIIYQQQgghhBBCCCGEELrZY/2Azz77bDyOQwghhBBCCCGEEEIIIYQQYtLcfPPNLn//R9988803Y/ngL7/8cixvF0IIIYQQQgghhBBCCCGEmHTf/va3Xf5eQnUJIYQQQgghhBBCCCGEEELoZOBECCGEEEIIIYQQQgghhBBCJwMnQgghhBBCCCGEEEIIIYQQOhk4EUIIIYQQQgghhBBCCCGE0MnAiRBCCCGEEEIIIYQQQgghhE4GToQQQgghhBBCCCGEEEIIIXQycCKEEEIIIYQQQgghhBBCCKGTgRMhhBBCCCGEEEIIIYQQQgidDJwIIYQQQgghhBBCCCGEEELoZOBECCGEEEIIIYQQQgghhBBCJwMnQgghhBBCCCGEEEIIIYQQOhk4EUIIIYQQQgghhBBCCCGE0E36wEn3kVSCg4MHfnY1TfYhTE9fWEidwuvRtCuY4OBCxuPbR/dZTRQ65gvnn5/GELe5kOrP1HE4wuvLeKaNEMPqtmLelogxOJjgYCMxm/dj/cKD939hZf/mGM/e32ejYm0wwRssdI/l2MV1o9tqJmOtsb9cT9tnpbvP/fdf/cRC7n0mFgUHE7zEROKzFlqvXuNNvfXkLpH2hhgLFds7haTeuYjg4GAW3ZlI7pFWrrqbd/uu0nokl8Rrvb/vKq1O35NR5tk9Im4Mk1WWXv2kmsJNDq/bZsYqFfb1rddG9a5UTEuCCQ5ehOm+XCyfXKsitevGsmG4/ppzX2WM5aaYROOYViO17aWO89DY0kV7huDqJxWLUx+t++x+0mIc6pRd1dh6x/+MprWx9IXtz/Jc/Tj3P662Ynk20aEMzsAsFevYjaluA/q6se5LI+anWroZY9LYf/ba6WI7mOjynhK6GZIus8fnY9zTtCuYxDKnX5YlEkwFLU+ETuahiPHyRRMVL18geEcS45KCC5Io2GLCZ9AvVTrPV1PxmpmMs+2oR0uImz8eXyaEAKC3icIHkzBfMZJWaCaUFiyv7iVp5QVy3Ljf1I/2k/hQEba/imFzYRbBNFGSV0TSygsUvFNCzA9cv6/11c3kfgTcPu5nJKYhtbGQB5PMdEWkUVAaCp9YML+cRNTHORzbG4fvrJHf3/1OGivTayEiie3FJny+qKZoVxZxv+2kwpJGqOLqXVepzU6j4kbr/Ilx1Xkkjbinrfjfk05JtC9dZ80UPB3HufYKLE+E4jLr9eum+omVZNSAMXk7JRE+dNYUUfh0HOc6K7D8wv5+laY9a0ksszEnIo2C3FAMX9RTsjOJqPPu3SPixjBZZanaWMja+8zY5hpJKywk1KuT+ldzSVphdattIKahvk4s6XFkWf2Je6KEmB90UX+wgKyfn8P2hoX0sJFLM/rasZ0B32WJrPzRHKc/BuPt8H9jKzfFZBrPtBq+bS91nKfGli6dtDcDt8awIcK5sPYhwGvg/7qrUonaVs+3ItIoyLTXKRnE1F3CcnQDQTdCuoyxL8y/26jHF9O6lQQZnP4W5FAyqk0UrU1k/+WgQWVwYVItrXvqKYh2LleFW8Zat6lN7F+bRNF/+BPzaAFZP4KmshyKUqK4kF9LySpv1+/7ZD+bdzYBpnE/pRlhBqXL5A2cfGGhRB80Me2sp2SNNzQWEnyfGcoSKbyzhfSwSTsa4ST0iRZanvD8fU3lieS+lUTFjrF/FgBz/VkaYcT5FjBGmIj5iQ+xSWZyDzURdwMNtI3pegrhhtbXMjDbTOTU2huGRozLgvFZnUTuC7UsL4xi2GZcnw1LfhGt85KoeCOdUC/9/UFzSIzJZe/brcRsDBr6vk/2k/7CJRQvuPHWkd2A+lo58KQZ2+05nHhZ7xxHGIkK8SE2KZe97y0fubPQW09Jdi1fLXPsXBsxzldYumE/5veSKVo59P1Xa3LIOAUKks/EKF2ppvDpenweMFPxpFF7UBFhwnhTKsuzt3MgppoNPxr+7eqZErJqvsK08xgla3y1X0YY8Z21lNR9ZmrvKyJmLvDxATLKbPgnOz4QMWL6iT+pUVlkvGWk4l7fiT5bMd1NVllq/x7/JCoqHep2kxH/R5eT9UQFxkOJSI68vlw9XkjWKR+SzBWkG/VSxp6mvzxAzLUekl7upAUIXZVG2kj5bIzlpphE45lWI7XtpY7zzFjTpe8SNiv4bkki7REX/bD+1zVhfrYe9fYcjjnWKTcbWLqhCPN7iTfEw/wx9YWBzv9oAUKJ25xG1Agv7H63hP02X6cyeBHz74shd1cFSdEbGCG1xDDGWrfZDhdQ9Ml8kt6o6H+YbzQGM+e+GHJftNC60sX7+1rZ/0QRl7wUkAl6Ls2kdJm0UF3dZ2upByCJ1DX6Y/GwJHL02Qjm9yWEhhiZYowiClA/a5ewPkKMl74mql/thHsTiXGcTeNlJO7BINR3ajk30mrKz2o58JFCYuZm/cGKzn85cbdD1/kWOp3fozZR9EQRbMwhffG4nYmYzj6qpuQSJN4XM2hGoWKM48EFKtXvnWOkbHb1TDUVvaGkPzl4RqISEUOiF5xrbR/aSf+imvSnazH+cjuJ43gq4sbSXVdNLUE8eI9x0OxO31WJJGLDUt86wruvUl9VgXprOtvXOD4QUjDFJKJwjtZ/03Ju06kSOjGRtN5pFun8GBLvhaa367GN32mJ69VklaUfn6DkEpgeShpct8/yJea+RPjIQr1kyOtMNyeqamHBg8QZHUoZe5raLNR/do2P6LRhxZeAm0Z+kDq2clNMpnFLq2u07aWO88yY08U+yHnTNQajuttp7wXj3UanOiGKRKD6Yvsoz+A6Mta+MHDJZoX5AfheY4yps70eiMK0xLEM9sf0cyNcukCLhHsahbHWba3UHmhCWZfF5rDB6bI8wQRXztFy2fk9Kk0vp1PEBnIeN47fqcwoMytdJm3gRCskgNv9HWYneRNws/5PeRjumS+0GIxarDgt1lvhO67iZXdjLcsg0R4Tbm0ulk9atfi0DrFHXe2j0X12P2k/1+MaBxuJSXGMR6fFuNVCr5lJdIjf6HJPDvtx6DE67bEzrxmb3tGVTu0BrMEwuMHl6rOHifU8OCa0Fie09a3UQfHvtH14CrFeqibjzkXauf+qXu+IarFG+2OADhcXWo/FF+dwTEkuXnf1Ewu5KfZ9IRZh+vnQmH2jv576vjG7rFz9qIIMeyzrUcTCFjPY5XZaesG0MHjIkm//wKVANU0jVGqdF8/RSRymxc7v9iZufwsXSuOcZqSqNL24nf2kUfjoUgnVcIPobG9BxUTQLUNyGQGLgXeaGKlr1tJUDQtiWPpXTn+YFUr6hy1YnUMW9HVieTYL67ICClcFjMcpiBtU+6f1wFKC/Z3+oPgTZITO8y3Dt1/7Wmh6B4Jilg6dmR+WzoUW68AydVUFAggYEtpQweAFfNxEuydtJjEjTVpZ2vcVKhBw09AwCMp3FKCVps8kQ15X9DBb/CSYocVZEEY6udA6cm/cPqva/xpha8ZUbopJNT5p5UbbXuo4j4w5Xdwc5MTLgAFo+tzp07o7aQd8DTdAT22MfWHopPMTINT/mqswFYMv0E6n8+X+vAkwaPeC8MxY67ZLLZy7BHGmoeHvvNeU0PKheUioNrVxL9v3QdquNJZKmrk2w9JlkgZOumm3FzY3BwwJwwTAGdvQWcnCJbWxiLiVSRSeUYh9ugRzaQGpQZ1UpMex9pe1DpVoN9Wbo0jadRplTQ4lpSVkLG6n4OeJ5J4f+Tuu1mQQlVJC18JUckrNmIszuONLC1k/X8v+TwDmYHzUTHo0QBTppWbMq4d5ONXXicV+HD/bTkmpmYKHgul8M4O4tUU0uRE/Rf0PK0W/yKIWfzbcZxpYKtn/2bWoizdTYP/sV5OI2myh02FwoLsqlaikQk5/J56cYjMlTyyifVccib+yuvjG0+RsKEF5pAhzYSpxEYuYg0rTrjhi0s2cm6d/xtOxKDVZxK0tpKl/KdhVardFkfRqF8GP5GAuNVPyxB2oVVnErd1Pq/2YPtnP2p9ncc4rioxiM+bSHJJ82ylKiSKjZoSWY28TRfcMdz2zqHWeqVCXw9qHLHBnBiWlBaRHKNS/mETiniYJXSPgCxtWIOAvXZTMf6L9p925deeg+3MrzPfBp89G9S77xl2LMG0qpPqzoTlMbdzL9jJI23WDxMwVgJ5PCMDXRTZTZoGrToTDu+m0ATf54NPtOGnAOOxGxZ1VueRaoyjIHHlpvRAj0/Oe0d9F2/Xb8C3gfOfw7Vf9wUOAt482caN/AoOLDXEVBeiia0j1r9LTC9Cj/1fcyCatLJ31LRSga2iGRP1vrW7v6ZVW5HVFL4+MLgbDmK2FtLR2jtwb12ZVz4eLAxtJa5P3bA59ijGWm2ISjU9audW2lzrOA2NPF22QM4g5/9dCrt72WHSni7bHHBOJG/1Ry7aTe0qvBK62UvFsLvVeJjavvgECR42xL9wfFu2voKV/E2sjMZuH9oWDVm/G5FVP7rMV/RNeu0/lsr1MxX9jIibptHhurHXbF9ogo48PgyZIL7oz1alu0/U2sfeXZthSKCEnRzLD0mVSN4cX46ETS+F+WucmYT6ajlEfSTNGxBD1k1SWZ2dQsvIc2yMU1LMlZJ0C006LQ1xtE3cEZRCVXj3Cd3Rzuqoa1ZhDwQ77bHEjRqMPPabtnLC2suFHQfjeamTRfABfFkUYh90cXottB4n769l+uz5eqMdjjnuqntrfJhNq30DuTBam4CyXn6PMM5FmzmXDrQNjjtpnq5h2nKDknoHY4VGhPsTd5xAvVbVS8mw9LMvB4hDT2XR7EBkrMhh6NWx8tdJCzr1BgAkjwMf7ySiz4fuAmWP2WKP22Kyrs0jaY+Lc00aU7tNY3lEx7iggx35MGDH+eQ9Lc05wrnUDQQugqbYEG0mY96Rh1BuZRmMwrF2LxXqO7ugol4OMnVUF7P/EhyTzsf5YgUQYiYk2ajFiS2O04+g/FV+Sagc2NTNG3IHP10YyymppfSJ02HQTN5g/cfG7+f7allrDrk7qpvPfgLkXKEoo4sK8JDJyzfj8Vz3mXWYy1p6j6w0LSfbKq9fK3ifNsMUiDY0blOKiQ+0boG3cpg6bzzrpPA8stpC+wkrXss1k7E3TN68sJOmMjaLqHKLm6i+/ZCH3aStRe+oHfifEWHwLvj3kl/qq6TNfDf++y51YAWNVOlHWLqIezaDkUWg5YmbvriROtxfx3k5tcC9ocRwKFViObybqHoc5i5eqqXhzvE9IXO8mvCz90VLivPZT8fYJNt/tENarr5PqNyrG/4TEpFFmDy3N+EEAAUD9iGNh+qzqS/vJ2BXD5o17SfTqpP5gAeb0Wk63Om1YPdpyU0y+saSVm217qeNGYQzpcsmmTQzNTe8h6YlcSh7t6W971J533ONKIfTRQ1SwgcRNJvpLd+8YCt4uIGbICqEZbFR9YfrDonXuy6Bg5WZSCxMxfKH3hVefptVxE+wfxFDyNmTcl0GcMbf/I0I3VrD/0aEz64X7Rlu3dXe2A3O48GIcRU0+JD1RiPnPu/S6LY5zX1RgSbYPIKpYX8zATBqWh26AQcVxMFPSZdJCdYlxYqvH8hEEPRjXP2hip8W8VKl4z4qKivW9ClSvRFJXDV406L0iidQRl1jPwecvFbCa2f9mE5322R9eJnI+rMfygCeZ8Srn6mphfipxtw+uChRjOtXvW0i/3WFofUESBaVmzKVmzKUFpN/tD3hjeqKC+vdL2GB0HEro5vS7tUAiiU7nqIQlkXT7QLxU9be1VPQqJD40OKYz3jEkPeR6UWWUcfB5arFZh8YaZX4cqfcqqAdrsarAHB98vcD62n4qGjv7O7DKshwuvG8haYH+1T5BQAVFL9dj69ZLjVn+JFVaqf6l60ETsFH/dtPQWIHQHyO2/zjsjFEYB6X3HAKCXC8TFcJT6tfAx/XYbjdTX5pO3DIjpjXpmGvNJM1tpXBHhT4jSqV+Vypm7+3slYaG8NBXvcCZenjyGJbCJGIijMQkF2A5moPpioWMl63azJM+GxVPZGG9t4icG2AzSzHN6eGO6k/B9qMWCpJjMEbEkFRo4dgOE1ePZFB0VquwlYhUcpYp1GfHEpdupvqslfojhSQlmGGZlJlifLhdlipGUn9pQjmTRew9GZjfsWI9ZaFwQxzm2SbZvPaG1E1P1xyUZTkce6uApJVGjMviSC+tx/yAL7ayDA58PNXHKCaX+217qeMmUzc9V7xR/JOoqDWTvsY0qO2hnsqi8Li+3KGvk9pnHyRpXzvGe7dTUGqmZGcSptm1ZKxNo/rS1J7JdaG7h665CqadA/Vqf194vg3zkwf6I46oH5tJWptBrXcMG3ZqkWPSV4XSvi+JB1+WaCBTog+glfpP78Bsv1/66zYfWnflUPEf2kvVM4WkvubN9r0SOWPCTbN0kYGT681/XaIVWBrkHCkOUIIJuh241MVVrtJ1CVjsP3igAGCWD94u3u7wQRgfLCDuR5ewPJvI8iX60s4XLVhtngYfVenpAfy98XHn5XP9WRphxBhh1Cr4vRYqkg3U70oi/YjzUq5O2q3AAoWe81asZx1/2unxAj6+RFcfXO3uBIwuY/L6zHN1MYz4D5ph0U3nJyrgi3rZ+busdPb5A+10dQOKkQd3xhF02ULufctZtHARpvsyKDpixfHy+a7KIj3iWzTtSyXGtEjbe+TZCqo/Hmk0o4dLH+MyViAoBC80AZ10/ZfDr13MVvHx0d49/KxEIYBLNuoBhq2A5uAzH3A1oOhlJOYeX/ionqZuuFqTRdqbQWzfmYi/NDSEA/seaK5mUGsMzF8ArgbJmb+cuJWgHjlHK9D66mZyP0uk6AmTzNoSE0wPQ+v1reFf8ufztQfMzhuOAr4r4ohBxXLevsGrNzF7azE/EYVytpCMlFS2W1RiXj3E9rvdakGJG9x4lqUA3qtKqDWnE6WcpjA9idQcC+rKAxzKjHKvTS+uH1+0044eTWlYoSRVW7lQ7DQJDQXjPQ8SRCeWs9faSNyNclNME9dOK8/a9lLHjQ937iFvovLruVCdTqjLibZQW3eOq8DV9/aS8ZYN404L5l8m9j/0L6k2kzS3lowNZmwTdzLT3zX7wsCtSVT/84WBCC92+ubyXNI3we5r5cC2QqxzkzC/UUCafUArvwLLTiO2fUnkvicb/YwrN+q2Od5aug2dmK5gXB2HL03UN3XDlVqyHq8g6OlcEkd8liqu6TpMl8kP1fVZO92EDp1Nf/u1N1MS1/IlfIUW93Ks5keR89Y5NrTWUv9OPbVnTlO9L4vqfbkE/cJMxcbJWkqoEPqLXDbUJbL/6VSK/C2kOYTq+qoX+NhMRop5mPdrqyo83xpYGXJ3qF8D1FKYUjvsu2xfAPPBNzoHS+QGWt+rp/pMLafPVLP/6Wr27wwi7dUKLdyYVxBJpVbibVZO1NVSX32C+jdzqX0zl5zoAt7ZEzPMqpPhffm1qh27EO76gT9GoP3zbghzynH/n/afAFfB1AFQMMxVAB+U7wz968AAXTcn3q5GBXJjgskd8ko9RF9yBS1PSPC4mcj7JiPQTvsXEOq07F8bwHUds19jwOADoDB0j8o5+PwA6P0KaKL6BRtgI3WJi1AyZYkEl4FpZz0lazwtXcWNyRtff+A1bR++wblGb3Mt9h2+/Wow4AO0ehmG1sxzfPBB3y/XbpY3xuQCKpILBr20qdYKJLrYVFfcaCanLHX4PmMSBYeSGJQjPzqBFUh0FbdaTF/evgQA5vahpRlfgwoYfa/RG+9TUVGGDs59R9HKuh6VMZebYhKNJa1G0baXOs5N43AP9amoXytDH0wqenukpwcV6LxYjUoSSc6D6V6hrH3AiDnbyoUvkpwmlM4wY+oL63pV8Br6DMbg5QO0avv3dLdwwQbGHWtdDGglkfh0PeamdnLulr6wR8ZYtymGOSiAj5dh6B/nemuTlfugu85CdS+wM4bgnUNfmrUsmCySqGhJl1D4MOPSZZIGTry5Y4VJWxp+xrECcGPTeDGYPnvxXKsNwpyG1FQbrVbgXh/m2GeCV9no7APvQQ3cLrpt4GLJwmCzFHwXxJC4IIbEJ4ErrZi3xVH4YjXW5FBMbj2fVzAYgKZuunC6ZdR6cn+6nfYnDmC+d6SPCCV15wZq1+5n/9MHWH7UvgTLl6BlQG8OJ8xxIzYeVG9fwILtEuBU8Xd1uXMxvAlYoMCZRMwX0/v3JBmR4kvQykSCViaSDlz92Ex6QiFFR608eOvAbOg5/kbi/I3EJW8HtZPaXyWT9qaZE7YYF6Om+mzB37ZgI9TpqFVsrVrD0+fP3Tg+IQDmBRDsBeaLLahrBs/St7WdA2IIvXn4twfcEgXUury3OtutQBw+fz4H/0fNmB9wfncX9S9kYCaJgi0mfHw8H+IU1wffgGAUzLR+qsIPBuUy2s8DK0NHGOD2JuBWXzjl6mGh3o5YMB8DAcSVmrVYxIO0UJFSSG10OuZ7glFukhBewn0Bt5iAc7TYINSx0tXbXL5bgodvv3oHsGg+1LuaNKTPtgr6odYhUBuLiHqkntRKy+C6v68Va5V6jXtE3CgmpywF1CaK/i6J+ocsWNYNbm22nn0H9RptAzENzQrA/3Zc9iFUWytWfEkLGqE3/lERi9buJ3THCcz3OPW6urqxAaYA7fdjKjfFpBp9Ws3B6EHbXuo4z4zpHuquJtWUQf0DZlqeNA7+2xVtU3lFf/ZmD6esfs3IqypmsjH2hZteXETivlByas39e8radV22AaZBUU96vpI9nsbVWOs2/2CigFpXD/gv2bACcd5zmOOfirk0acjbu84UkPEaJBVmYJrrI+WY3QxLl0kL1eUdEaU/zDBTckQPRdRoJuuM9s+kO2Vczi3+JuJuhdYDFqy9g//UWVVBBQpxEYtQUDDenYjSW0FJ1eAQV6q1GsuI8SpbMd8Xg/Hp+sFxFuf6EzAfQEGxD7np0xiGD/k0h6WRUXDJQrV1cNTGzqoKKnq/zdIF115TpdyaSsa9CtiKKKqyh7LyJvT2ULCaOdToFBGyt4nCmGCM91VgA5SfRJHopVLxqoVOx2PttVL9lnMIMNfsm9qZna4nfZ1YNi1i0Z251F8FPjaTGGMk69TgY5pzc4A2uKMoKHRT+2wcprVmbI7Ho/gSEDAHMAyzdM0f089D4eMDWJyup31zPWWNkUWy6ES4a1YoMQ/5QlXF4Di2vVYsB1pRVkaxdITnzHMi41zfW1frqX5T1fOjgu+t9hB8jj9L8Z/LQIi+m+WB9ox1awyp88HyZvWgfKJaLRz4WCHm7qWMlPpBKx4klHrM5U7xfz87huUM+K9Yij9z8B+Sx4wYIxZpZe/8RRgjjITOlwJSuM87MoYoWql4e3De09pc/sSZRorNHsTKh0LhjBmzUzvFdtxCPf7E/ERrAynzfQnubaXivcGhbjqriii5pJC4xjTiPSJuEJNSlgKKL743q7Qequ2PzQ7AJQtFr3airIvDJBnyOuPN8lVR8HEFFsfyqK+T6jcqwD8O00iDYT9aSpwXWF87RJNjH7SvE8u+EjqJIiZSe7gxtnJTTKbRp5VnbXup4zwzpnvIOxTTrcBbZqdnPipNr5ZQiy+pK7RnbwFBUYCFinednm/0NnHoNSvMX0TwTB/lHGNfWHtGZMV8yKle1etLomNY/gPAO5hF86H1kGVwGQp0VpmpAKKC5LG758ZYt80xEbdOQX2zZPD90neV+uoKVK84jKEKyvxQF+WdkaW3+AA++C8xYozwl3Ks38xKl1nPPPPMM2P5gK+//tq9F343GN//KcZyAT5/30xxcTHFbzdpf0uuoCJu3lgO4/r3361Uv3aKz/+fytf/2YL1t9YhP1d/uJSAPzNwi//X1L9VSmnFh/R+73vMvnKR2r1PseWV83hFP0fBhoUY/hhm+wXj21JO6asWPvyf7/E9uvnwfz1DSkELhu9f4crcO0mKDcYLuHy2GMuFRcRt+inz8OHb3RWUH6ik/t9VZv/JH3H1P5uoL80lq/IyN23JIuPHWizS2f+7CfP75+n7uG/54wAAIABJREFU3k0YvpmFzzwD3YM+C5SAhcz7pJTnX3h90HGk7TmLsiaHwrUBKFzmbLGFppsGjmmw2dz0Ix8uvnaK+nNd3HJPFAF/CoYgI/M+2c/zz9s/+yqff2ih+JkdVH52E+sKnyHmh7Nhti/B8y5SXnoAy0e9fG/ObLqbDvHMxudo+e4PuXJlLnc+GEPwd6H3k2rM79P///1H4Gdk6f/8E8/v3s/7/67wne9+xZV/qedA4T+y90wfP32qgE23GuAvvk33m+WYj9TzuTobpe8ql/+lnv07s6j8z5tIy85gibcX3//yPPtfO8BvPrrCd2Yp9HbbsP7meZ573krvygxy4wJQhqQNGPwD+Lq+gtJXB875Yu1entq6n/PfjeK5gk0sNAAjXNPhzlHcmHwC53G5cj/Fb+lliu199mZlUfnFT3mmKI3Q/hWSTRQG38nDxb38VM+PzPYl2P8y7+8rxux4bz2ay/E+E8887/h+Z720Vps5xXD3vZgx/tiHv/nLyxzcV0ylnk9sp/aStaOSS7c9Q9GmUAz2qRyNhQTf9TDF//NTNkXobYM/u4XgP7VyoLi0v/z9tHYvT207wMd+SRTviGHenwz35XpZuChu4POEcNef3sJf/+n7HCg+oOe9q1zU2zC+ycU8t2pe//Lt7iOpLInL4OJf/gMxQVqJZrg5GK/fHaDY/D6fz/4Ohv/5lNq9T7HV/DE3JReTG6u//7sB+P6/WkpfqhjcVtp9lnnJ5RT9g+8UxNcV086klaVeBPzV19SWFlPhWLc//jxnfZIofz4B32HLXDFdKQF/jdepAxS/oZdH/3WRQ3lpPP/PviS9+Byr5/eXZlg2LCH+yYvMi9f7CrN9WRR0hffLyymv/xzluwa++szeD5pFVH4RafYGnwflpphiY6zjhhqmbS91nGfGlC4GFobN5Z/fKufQEb1vd/lDLC8/w47K/+CWjcXk6G0P7TnNIQ68auGfO2ajeH3FZYdnKUn7HMuFmWssfeHZfosI/j/vU15eTr29Xv3nAzyXvpezs6Mo2JOmPZv5Yx8WLuil9lUz5VUXuWowMPvKRerNz/GPe8/StyyHl37hUIcLt42pbmM2vn8TwOX391NcPnC/HMrbQO4/9WF6Zjdptw77MEOeq43gekyX2bNdl3eTWgqGPtFCfUAqpqfrB34pMe0H+6ia/R+5/lPST9OI+itQwtKwvLMU854izDtTMffCHP8oEgtzSV0RxJz+ZZbaJmw+r+SQ80YWqWUK3mFxZBzKgLw4skY4jKBHLFTP30vRqxZyN+1HRcH7RyYSC6vZvHJghYh3dBrp721g785Uqhdsp7oyceiHzfIlbm8tvq8VUPRGLqllKsq8UKJ+WUHWPaHuj/79II6Mpy3U76ym8JU4TE8aURw+u+TtAlLLroKXN0ERiRTkpRLzo4GZxd6rSqj13k9OXhlZm8wo80KJe8JCxtc5xGW7cwAKoY8fwhJUQsmrZrJSulGZg3/EHaSXZpAUoU/HmBXEhspq5r9chPlILqn71IFjOrqZGH1kdU50AbXmIAp+baEovYKraGG77njCzIEHjMNfF69Q0t6qZanD9WSuP1H3FpC7IYYgGeYWnpobRc5RM/67iih5OhUzc/C/O5GSF9Ixzb/2273vzuHQ26EU7TJTsMnMVS9vQu9Ox/x4EsaZHBNXeGTO3Tm8Y/an4IUSsjaZ9XKrhKLHTU4bzbqi8P+zd/9xUZeJ3v9f57az02FPnLs9Uu4Rzi4D2xGoW6Q2xGrCLbS7UE+NcRKzdciSssTWJDLJzB+5oCWmCUWOSWBS5BGpo1Ir4i7ElkibQFvA2Q38ZsJ3u8N7uZ2O3J/7jxlgGAZE0fEH7+fjMY9s+Py+rrl+f64rLKmA0jE5LF/jSn/d0z31usk5FJZUQNHV68lYu57U93qXYU75/pIpDNsbpYS/upyMN9OxHXX0KrP17G8i8tFtFAQsJ+PldJI3O8t20zOLPLaT4c5XaalpbArbtgWwfHVWz3nuzqBIae7Fa0QYtjeLCHglg4xXUinpMDEyKo4l29JJHHvqVOaKW5aw7d0wstbYyV5UwnGuwDxhCsvfTcE6pncFZEjppviUb8JKedzpGlK4mBMpeC+EnJUZ5K9Mxt7hbMtJzs1h7gS3V0hcbSkhb2eT9WY2qcVdbSnJZK+bjeWfh0nIDKkufAWWZ7ZRdF0WGa9nk/recbjSTPTk5RQ9Ye3VNmOKWkTR7mi2rMlyhYuz/WfKswUk3xvpMb2+DNoQ8zaujmP5tiIiX8rAviYZ+7fO/Xu18cnpu4TC5W8MwzCGcoATJ06crWsRn6khMzwRuzqtAKhZE07iZi3kJCIiIiIiIiIiIjKcXH755V6/14tgl7C2HclY7llB6be9v3dUlVJKzwJ+w8I3RST/wsqKD473/r6jitI9wC3mAReXFxEREREREREREZHh4dKfsHAYGzkhnvCVqaQ+2M78B62EXwmtnxdhf6WEFvNcMu4cRq+dXX0r8WErSE2bTfujNqxjAuDbOopeX0/JETNz18QzjJ6GiIiIiIiIiIiIiPRDU3Vd4hxflrD+ZTu7Kupp6wDTqDAs96aS/nD08JtDsaOJkleysL9fTv3RrnVHZpL6zFytwyAiIiIiIiIiIiIyzPQ3VZc6TkREREREREREREREZNjRGiciIiIiIiIiIiIiIiKnoI4TERERERERERERERERF3WciIiIiIiIiIiIiIiIuKjjRERERERERERERERExEUdJyIiIiIiIiIiIiIiIi7qOBEREREREREREREREXFRx4mIiIiIiIiIiIiIiIiLOk5ERERERERERERERERc1HEiIiIiIiIiIiIiIiLioo4TERERERERERERERERl78xDMM43xchIiIiIiIiIiIiIiJyIdAbJyIiIiIiIiIiIiIiIi7qOBEREREREREREREREXFRx4mIiIiIiIiIiIiIiIiLOk5ERERERERERERERERc1HEiIiIiIiIiIiIiIiLioo4TERERERERERERERERF3WciIiIiIiIiIiIiIiIuKjjRERERERERERERERExEUdJyIiIiIiIiIiIiIiIi7qOBEREREREREREREREXFRx4mIiIiIiIiIiIiIiIiLOk5ERERERERERERERERc1HEiIiIiIiIiIiIiIiLict46TlrfScJsNmNOKqT1nJ2lmlVms/M83j7XT2LKI6so/sJxzq7glI4WkmQ2k/TOuXsK/ekOg4E+q6t9fl1nTXstxS8tYGZcpOt+woiOf4RVu2pp7+y9qfNZJFF49PxcqusqKEzq+5tofn8p0693hcdDxbR+sgqz2cyqT87bhcqlqLWS3IXTiTSbMZsjmfTIRioH+3vobKd21yqSJoRhNpsJmzCdBa9W0ur+O3OldZdseiOD0lqZywJrZHce/MjLHvFkIJ2tVL66oDs9jIx7hFW7GjhlDt5RxtJrFb9kKBw0eKRxS9/pW5bo11HP9HWAsufRSjY+MunM0mIZNnyVlrbXFbL0ga746CxHb/yt7+sschZ1NFC8Oonoa11hmrCUwrr2Qe/eXlfMqoeiCTObMV8bzfSFuVR6ixKd7dS+s5TpA5UN5QKhPO7CdO7DpXr1Kepm5719xIfOdV3Y634N5FnPdZvoMHHO8zZXW92Av5dVqLbpwVdlDg8Nb0w/q+nXZWfnMKen9Z0kolPLfHfC6+awbtFEAnp96aD5438n7/VcFhxo4MTuzSQE+u6SLiRRd88jpr97Dw/o5w8XgM52GsryKOxIYPGU3tfZ/H4aj6YWUmuKYur9i9n88yBMjmYqivPITZlCXs488gsXEuV3nq59sI4WsvSxPGpvmMe6+RMI+FEoAR2Hz/dVyaWmo5pViTPJ/UsMC7PyiaKW7TlrmXn7QVafMm10UJ05nemvNuB/80LWZUThf3QfG56bieXj1ezNTiBoBOAXysTH5xHh5QjthwrJ+207sf8SdG7uTy4Ijk9WMXNmLsduXsi6rVFQt53X1s/E8ge3eNKfzmYKkyeR9iFE3LeMzXeG0l63lQ0pkyirfYddaVGYvO7Yzp6nHyGv49zckwwPze88wpTUSkLvW8zmO4M49tvXWJU6hcqGgeKeS0shSXekUUYECcs3M+0n7dTmb2DBHWUcLtzF4ht69nYc2sj0WWtp+OlUFmYtI4JqNjznTIvXfbCZqaPO+a3KRcBXaWnrjiQsC8sw3TyLhVnLCPVrZt8bq1j7gIV9y3fxzsxQX9yunE2dzRSmTCGtMpSEpzczbdQx9r2xirT4Sho80iNvHJ+sYnpCLg1XxrAwax1Rfs3sy1nKzIkVHuVFB9XrpzP95WYi3NPN1TPZU7uJqqzJ+J/zm5XBUh53YfJFuASMm8e8x73sf7KZsk3F1IZEEHrlubi7C4wv6sJe1L76KEsPAbHn4J6GE5/kbSZCb5vHvOu8HOAv1RTmV9J+27WoNcONz8ocHuo28uiyas7qD8vwqYPGyuBgI9j9Y9tuHDvX5xvgHCcqVhqW4GBjzAsHz9lVDOjr7YYtONiwvX3unkJ/jr1tM4KDg42VH/v81GdHP8/uRPUaIy442BgzZ7vx1cm+u31XsdL59/m7je9c3zmfhc3Y/vW5v+zT8vFKZxhVnO8LkUvZ4fUWZ/xvdvvyrxXGylt6/068+sMGwxIcbMS9cNA44f59s/P3aX3zq4FP/vVOwxYRbIxZsq/3/nJpOXnY2HCLMz92T5edefAYI+W9AWOZ8V1xshEcPMawvd07PnXt/+wB77Hnu/dSjDERY4wxwcFG8PnK5+Xi9pedRnJwsGFZXtErjfpqm80IDo4zNtQOtPN3xs55wUZwhEf6apwwKpZbjOCIZ42KroOe/NLYek+wEXz7SuPgX902bdhqWIODDcv6w2fphuSi5qu0tJ/zGMYJY9+SMUZwcLKx8y9n55bEd5zhbzFWVrilZie/Mrbbgo3g2zcYh73Um3q2c8UJzzSqa/97thrdscpVR/NMN7/cYjWCgy2nSDfFp5THXZh8FS5enTAOvhhnBAdbja0NQ7iHi8h5qQvXbjDigscYYyLOdZvopc9neZtXx4ydc8YYwRHPGvv+OuCGw855CZeTh40NtwcbYyLGnNX2Xd9N1XW0kCTzdHJ9dsLBMcXcwWTA8UWDXo+7JDRTuGIjDX6z2JTlvXffP2Yhi38ZSuj3zTQM/i2x8+tvz/cFyCWrs5qdOc0w8wGmuffa+8WQ8GAEjl3/QeUAv5PqDzbQTCxzZnuMfAqcxgMzobqwjIZ+926lOP0pypjFpqdjBx45JRe3QzvZ0AKzHpjWK102xSQw5zoHxXsq6T+atVJWvAf8ZvHY3b3H8XTtn7ensu80M0eLWZC6h5jly5h19u5EhpnWD/+dPUQwZ0ZMrzQq6O4HmEUDhftrB9i5jH9/H0z3P+YxKspEzIw5RHTksbvSFXP/uIfcQyZmLfV4GzbkDhJi4djHtTSfvduSi5Wv0tKvGzl80kTsnRM9ytImYu+cBezhcONZvC/xgVZ279gD180hIcYtNRsRxLQHZkFjIWV/HGD3P+xmQwvEzn2odxrVtf+hQsq64kRLA2XA5Nt6p5uhtyUQQzMH61TrvlAoj7sw+SxcvHAc2kDayw1ELV3NrJCh3slF4HzUhR3VrE1ZC4//msU3nrU7GaZ8mLd5O/uOp3jqQ5i1YTGxF/psNj51PsLFQfX6J1jLPH69KObs3QrnZY2TWFZXVLH6Qnkd7dsWZyZ9xT/0TuiOVpK7cCZTXPMUms2RTHpgAbm9JlRzraGyupL2Q3ksSHDNvdbfXMPttRSmT3fN7+aaN/Fr75fVXlfMqkfc5hROWECux5zC3etyfNHgcdxcajuA9mryuuZpvDaa6el7aB7KvLKuuRsf6VozpGuOuV7zxrnm/ltdSfOOBc5run4Sq8pcuU3XvMpdz3XAZzWTSa75l8MmTOm93SerME9IowwoS43umb+usYzCQ2C6f9oACZeJ2KV72bVpDlEDvSc+qDgwiGvtejK/3cgj8a44Yo5k0gOe8/u5r3Hi+neCs6sxN8FtjlFva5wM6rmeImxkePq6gdoOiB0b0afjIvSaGKCYg18MsL/DAYQS2uf1ehP+PwQ+O0hjP1HMUbaBpz50EPvcYypoXOKaG2pxEEvEmD6xjNCfA7sODtDBBic6gRtDvXSG/wOmfwT21/bev7OZwvSnqLxtHevu1nQycuYaPi8DYojwbDwwhRARA80f1/Y/8KbzBAAxoV5e3P+hiQCgrN4Zc5v/UEEzCUz8uedvJICEzU3Ub03Q6//iu7Q0cCqbKurZPL3vlL3t3x478xuQ86ezgYYyICYCz1zRFBpx6g6NTgcOIPSnfeOE6e9NQC0H/+gq8Pn9A0FAwxGP4x1toBrw99NQmQuF8rgLk6/Cpe++Dc5BqIFzWHzfMCk/+7wu7KD6pTQ2spCX5sdo4OBQ+TJv89RRxob0Mhyxy3gsViHZy3kIF8cna0l7GRZmLSTmh0O9gd5823ESu5qqps0kXCDzVzr+XMnauU+xh1DmzY7tmWv1aDFJt89k7R8DiP3VJvK35rNu+TQCaotZNXMmuZ4J54dLmT6rEG5/hs1b17H4ZhNlL81kemZ1zwjYjmpWWaeQtsNBzPx15G99noQf7CZp1lIqPQ7XvOMRLPELyGsO57GsfPJfW8a0y8tY9YCF6a/WeoyqbSR33nTy2u/gmex81qXFwJ5VTE9JI82axO6ABNZt3cyyqVdRm/8ID746wOiEgXQ2U5xiYUpKHi3hj7Fuaz6bn5uGqWwVM2+fTm6dx6iFD5fy4CuX81hWPuvmJjBhrL9rXmULM1fvwfHzhazbms+6ueG05MzEklzY06nTWctG6xTSPvJn8tObyd+az69nB9L40kwsv9rjHEkXkkB+1hwigIikdeRvfYyYK6H1D/uoBRLGe1tJ4TQMNg4M5lqB9vcXYHlgA63/4zF+vTWf/NcWE3uikLT46Wys83YB/sQ8nk/+kskATF6S332PfQz2uXbxFjYyfB1toBIIHe1lPSPXm04NzQNkaiYTcIzWPuUJB+1/BWjnO2/rS3TWkrsyD0fIQhbefQGvpSRnReufKoFQgrwEtekygAZaBohml48AGlrp21z3HY7/H2j5rlfe2LxjKUsrJ7PuOc2jLkPRSnMTEBNK36h7OZiA3zf3P0p2xOUANLZ6aWj+q4NWoPk7Z8xt/VMlBF5FQGcDxasfcQ3GCCP6oQEW2ZVhx9dpaR+dzex+pxj8ZjHR2zzfcuFqbaYBiPHSCMFlzuSssnmAMf8jTJiAY8f6NiA5/rcz1rR3uGJPeAILbzNR9txT5HUNEjtaxtKnc3GEzOOB25QzXxiUx12YfBcuntr3bGDVIRNT0x4jari0A/u4Luz4ZC1pr8LCrHlEDLQmmQyOL/M2D7VvrCKvI5SFTyZ4+a0Oc74Ol45q1j6dC4teYl74kK7cK98tDj8qgc2bfXa23srSiDanef2TaVQsC/N/zbxxPTlDw4fbqWUyv85bx9SuhuqbY5j6P67i1mlrqfhDK3OucYsAjYHMKe9ZnCbm5liu6oxkwau7qU2LIgpo3rGK3MZQ5hS+070ITszNk4laPYXpr7r1+DsqyU3fQ3vsava/1jXVVAwxt01j4opJzFy9lMLJ7zDrJ107NOO4NZ9dS1y91TdH4d8cRlJ+IcdW7Sf/PtdIg5tDMP35VtJ+W0vzIxG9RnTkJpi9T6H28Ds0pUW5LiuXp95vJ3bVfjZ3HZMYYu+cyKo7ZrIqvZDJRbN6jtvoYNrO1cy6DrjN+ZpU+65VpH3o6H2Mm2OYHHUVUxLSeOKtGN6ZGeR8LasR5uRvYmHXG1Y3xxB+2RSmb6ugsnUykwNCifm5qzAxJoaYm53h0fWGhbMX8swNOg4M6lpbKdtRjCNmNS+t6hpNE0NMzFW03/gUuz+qZV64Z0ePiaBxMQR17gMg6H/EEHOD92ttf3+Qz7WLl7AR8TodXGCoc0mtAd5Ui/h5Aiby2P7+Qibf5xbPWnayNb///RyVhWxohMlZs1RoHEZMXsI6KNT5CuqJfuNZAONio+DDQnZWziHC7XVfR2UhuZ95bN5SyNLUSiZvqGLycFjQUs49E1ze58sAQq8BygZo8AkYx8RxULZtJ5W/jCCm+806B5XbcukZytJKSyNw5UHWTltL9Y/nsDgjn6u+3cdrL+Sy4J5KjhXuYs45qAjIxcknaWkfDqozHyStzERsxhxihkuj2iXGdFnf1IxRoYQycHJG+AQS/DaS985uFk52mw65s5mdW/M8Ng5gavZe+NV0FsRHsrTr6xvm8U7OwuHTIHuxUB53YTrn4eKpmZ2vF+MIXMhDk4dh56Yv6sIdlaz9VS4s2nVOGneHM9/kbW4clRRubIA71zFLYdkv34SLg8oXnyCXhex6eIgD6Pvhu46T8+m6OaxbNNHVC9hKbf4GVu35jti0Tax7OKrPaNTQmflUzfRynIAAvE7zGHMHMb3mj/QnJCII3neO+ooKaKby/WqIWc2sG9xLiiai7p9DzKs9nTqOyt3kdfSdu7h7TsrNSyksa2DWL3teeOo9f6yJiLGxkO/gjpvdu0eCCAoDNjvXcnH/S9Td8zyu3yW8q3PIQeWePBzM4gGPOZG75n7MXVZIWeMst3kwJxPTaySaa15lL8cw3fAQc2JzSSsso2HmLEJ/dBURQN5La5lw1QPE/DQA0wgITdpFTZKX6zwHBh0HBnWt/gQEmuCNXDbmhzLv7iiC/AC/WFYfrhrilZ7Gc+3+i2fYiJw5082P8evbClmweBJTKhfy0L0R+B/dx2svlGG6LQI+9LZXO3veysPhN4sHJg3DgrmctqDpi5m3ZTobZ0ZT+/BiHro5iPa67byW005ILDSXuTbsbCAvJY3KmZupuVNxS863IBKWzCPPupGZt9Qy5+mHmDiqndq3X2NDRwixNNMVdU90Ap+V0ZiUT1XXYJheA1Tyeg9QETkDg05L+3DQ8MYjzHy1gdCH32HTdMXEYccUw2PLYylcmMakaRUsnPtvRPg1s++NVZSZYonALfJ01JKbPJNV1UFMfXwh//pzZzzbmrORmbMgv9BjnQu5SCmPuzANPlx6+ayY3EMQtXyqBrWdhsHXhR2UvZBEbsAy9p6jxl05A6eTt7lp37uVvA4Ts+7T7AbnxGmEi6NsFUmbA1hWeu7e4hoeHSf/GErMzTHdr091v+mxeiYLfrSXzf0V/jvaaW6speVYM7WVFezbX0Yl0Gd5Fi+jAa4KcDavO0d9tdJQCTwc2rcwEBhKBHTPR9ze1gxe5y4GQiKIAXK/9nhdyevC4aY+oWvqJ7SjZixkYT9vM7iuimNHgNgIIrxcVmhEDJBL87duX/Z5tbSZLyuB60y0f1zZZ3qydj+grJnWTgj9SQLL0nYzc/VGkuI2Av6ETp7GrDsTuOPOCAIG+DGY/JzJlvP1rbMwnOlUcWBQ12oi5sF1JHy8gML06RSmg2lUFJPvTeDfpt5BTMhQktrTeK5dz83ra78iXrgW94wdMAMKYGp2OQGvr2RtzioW7DIRcEMCC/PeIaZuAbd66zg5utu5aOHD0zRiVWhuKANinVPI9McUxcKde/nZ+lWsfDONpFf9CZ38EMvem4dpi5kyV9mp9tVHWfrHWWzOi9WcwXKOtdLwBXCKufpN4xaya/fPWJu5krzUJHKvDGXy7GWUPmritZ+VuYr9/lw1GvCyECx+MUybEURu5j4Otc7yOkWTCJzdtLSXznYq188k6eVagh7O551FUUpfLzVHG2jANePMAALu3kz5qFxWrtnAqpRiTKOiSPhVPu+Mr2XBhz2Rp/aNJ1j126t6zbTAzTFMvXMCSXekMfO5a6nKUGPThU153IXpbIZLb9XvORc5n3ebuq+6ncW6cPv7T/FIfgTLSmf1tMvIuXWW87YeroXP/eYwTY0Zp+9shsu3e3jqsTwilu51G8R/9g2PjpM+TEQ9sZp5H05nY+qDrA3ZxUK3qbporyb3sSRW/bZrgbsAIqJiiJkUS/um4vNzyQCdF+j8n//l5TsvnUmODuCzXBY84HViMKCB5laIGWUi4uF8au5toPLDMnZ/uJPdB/JYuiePpc9NZt17m5jazzo5/lETiKWYwo9qWRYb1e8lt7+fxvS3TjAn7dckhHv5xQ46DgzyWgMns3pnDfPq9lC28zfs3l9G8ctpFL+8lIgn8nnn8TOvhA7+uXZfspfXfmXYGhVKDNDwp1a4waO24vpth56qFjMigJiH1/HOw+t6fV29pxKY1WexvPbqCsowMef2/n+jcmkJ+GkM0EDDUYjyiA+OkwChBJ6qsuwXytS0zUztNfNmK8WNQGwoQVTzWmYD0EDStV5erX51OuZXITajyuuCxyJ9BRBkBjY30Awegw5OgAO4MeiUI2RN10xl8WtTWez+ZWsxDUBsaBBgwv9HJiAAk5fFDHsPxpHhzDdpqZvOZgpTppD2voPYpXvZ9MtQdZpcrAKCCAVyG/qmZpx0JmcxQaduMA2ImcO6ojn0KvEd2k0lMOunAUArtR83eJlpAQhM4KH70ijbfJCGjMmoFHi+KY+7MPkqXNzVUvm+A2LvYOIFsh6xz/ikLtzK7neKcQBL48w90xd2cy0t4DZVvgySz/I2N+3VVJSB6eE7iFInmHc+CpfWD7dT3AEsm4R5Wd/90yaYSWMO7zQtHlKZw7eLw19ITFE8ljGPUBrYmJpLbXdG3c6e9Jmsqo5i2c4q6r9soulwFbu2rmPxrAlnOFI/iNBYoLKWBs8/uXrbuviPDALKqP3cSyfJn5wLV0X82Nfjc1yjRMpqqfVyWQ1fVAIRBA04l3wQ194GxKxmf1MTTV4/m0lwz6ivDCVm+hyWbdpF1af17N80i6Bv9/Danj5PsceoGCaOA8ebOynztiA1AK3sfqeQht86uPzH3qp/ZxAHBnNcsgxOAAAgAElEQVStI0wEXTeVWUvWkV9aQ9PBXSyOdVD70k4qz7hP7Ayeq4i7H4cS4Qdln9b2WRDW+dueyvXX9L+745O1RF87hbxGjz901lK5wwFTrnebJg7AQXVlMZDABE0ZN2wEhUZg8pq3NdDwMV7iSW/NO5KINC/tOxfqt5X8x4cQ9PMIAgglYWs++X0+i5kMcOdi8rfm89h4jXGVwQsdEwtUUuuZxjkaqa3sinv9aab4oUjM6WV90tf2j/6DMoK43jUtaui/TAYqaWjxcpSGSiCIq7Rmz7Dnm7TUpbOZwuRJpL1/FQkb9rJZnSYXtxGh/dZHHQ21VLqlR145qlk7IYwpb/Sth9X+thiHZ3nxfzv6pHty4VEed2HyVbh0a6xmdwtE3Bo1/Gam8Eld2J+Yx73VUdYx5zqcSwtszSf/noFycPHK13kb4KiuoBhIGK8p1/rlo3DxH/+Yl99VPuuSIoAI5mTlk781YcCy8WAM344TwDTuMRbPNEHjWtbuaHV928DBXQ4Yewex1wX0Wnyx+cPdlAGNrcdO80wBxNwWBZ/lUujRQt6wp7DXq5KmmDuY5Qd5W3fS3GvURddiXqFMi/F1gmoiZvIsTOSxdUdz7z91VFL4ei2ETCNmwFejXAtSVuaS94lHltRRzao4M5EJeTQArXuWMmXCdHK/cNtmhImg0FD8Af+ud7pGON+bcJw84bahc07P0I48Hkkp9HiG4Jyj+SmWlkHoosd6Fn7vZfBxYHDXWktuwiQiUz0KL1eGEjoawNTvNGqnNvjnKuLViCimzQ2CHVvZ6V6Zcf22TVP+JzEDtDObAoOI6Kglb2/vpQabd6xlQ4uJWffGekzF0EDtfvqd+k8uUeOm8VggFOb3ztucCxKbmDo5ZsApO4KCQnFQyL9/6D5VpYPqnA3sIYo5d0YA/oTeHENMn0+Uc1ReYBQxN8cQFaiIJ4MXcNu/Mpla8t6u7pWHN+/YSh6hJNw6UKUpiMAQB+z4d8rcpzPtqGbD+j0wbg5TXQtK+t/2b8zyc5CX41F2aS9j55sOTNMnaEFl8VFa6vou80HSPgxi1uZ8Vt+pqVsufgHccfdk+CyPQvc6Q9dCqyEJxP7LALubggga46D2zT1uAw6BlkLW5jRj+uW/EevvPE/EuKC+53Ft+9pbwJ3XDrkRQ84O5XEXJl+FS5f2Px6kFoiJGIa/TJ/UhU0EjfNWR4kh9B/pXlog5hoN7jp9vsrbejTUO6dG9bq8grj4JlxMrvp9n8+YACCA0J/HEHNz6NCnBjXOi2PGdluwERwcbATbthvHztl5DhorT3WOr7cbtuBgIzgixdj9F8MwjBNGxXNjjODgMYb16a3GzgMVRkXxVuPZOTcaYyLGGGOCg43gFw6e8vjH3rYZwcE2Y/vXri9OfmVsnzPGCA6OM5JzdhoVB3Yar82P7z6m7e2eI3z1brIxNjjYGHNXivFacYVR8cF2Y+WssUZw8Bgj/sWDxole5wg2Vn58inN3Xe0LwUZw8Erj4Cn29+rkV8bOea5rmP+asfNAhbHv7ZVGYlSwERwRb6z5uPuqnGHr7Zl3P4OxRuIL2419ByqMfW+vMVLucj6XlV3H+MtuIyUi2AiOSjSefXOnUeHaLvl293Bye/73rDR2HqgwvvxLz6m6nmFwlNVIedF5rorircazs8YawcHBxth5O42vTvb3zE4jDgzyWg+/Eud6dmuM7R9UGBUHdhpbn7YaY4KDjbhXDvf/7D5e2TeMPL8b7HMdKGxkePvLbuOpKGc8Xvn2PqOi+DVn/ImwGdub3Td0/ebc0hHDOGEcfDHOLf7tM7a/kGiMDQ424l7oSa96Nt9nPNsrHZXh4rvdTxljg4ONsbNWGts/qDB25qQY8RHBxpg523ulx11pXO84cszYOWeMERwRb6S456HBYwzb21+d4syueKs4J2focI4zrjnLP/2ncV3lKvcynfH1TsMW4Vam6zd9NYxju58y4tx+Iz3lrL7byvDlk7S0doMRFxxsBN+YaDz74hpjjZfP7j/56o7lrDl52HjtLrfw765jutcXDKOnrt67Pnmieo33NOr2lcbBv7rt/teDxsrbg43giBsNm6tusvPNZ5WeXaCUx12YfBUuhmEYX26J99p+NGz4si7ci9pnzgpf5W3OrY19SzzjgHjl03Dprb828TOljhPDML7cYjWCg4MNy/IKZ8J28itj3wvJRlyU8xrHxMQbyev3GV9+95Xzuu/Zanx1iuN7DaiTx4yK9V3HHWPceO+zxvY/7jNWemZ0hmF8V7vTWJkc52z8Dx5j3HhvivHagWNezuGjjhPDMIyT3xmHi1caybc7Ox+CI240rL96zajodZ5TJP4njxkVOSlGotsx4pNXGjtrv/O4iQrjtV8ldodBcFSckfir14wKj4N+9d6zhtW1zbP7PLKlr53HiI8Z4zxG8Fgjblbf59jzLHp3dA0uDgz2Wk8YXxavNJLvutHZ8RI8xrjxrmRjZfGXbpnpGXacDPq5KmOWARyrMF77ldWV5ow14pJXGvv6NIp4KywahnHyO+Pgmyndv8WxtycbK4sPG9+d9Nzf6O6sTtx2qsZuuRQdq3jNSLlnbHdamfzCvt4NfYbRT2Of4UqXbcaNEf3ni96p40SGypmH21zliTExViPlzYN90jivjReGYRh/2mesnOPK/72WnXp8V7vdeHaWq/x3im1l+DrXaelX2xJdZef+P4OuP8iF5a9fGjs9wn9rtUc9rJ9GDMMwjO+qt3rEvZ3GYc/dDcMw/vqVsW99ck89LCrOSFyy1TioSsgFSHnchcl34dLVTlThre42XPiqLtz7pGqfOVt8lbd1HSNxu6HWjEHwWbh4HPEsd5z8jWEYxlDfWhEREREREREREREREbkUDOs1TkRERERERERERERERNyp40RERERERERERERERMRFHSciIiIiIiIiIiIiIiIu6jgRERERERERERERERFxUceJiIiIiIiIiIiIiIiIizpOREREREREREREREREXNRxIiIiIiIiIiIiIiIi4qKOExERERERERERERERERd1nIiIiIiIiIiIiIiIiLio40RERERERERERERERMRFHSciIiIiIiIiIiIiIiIu6jgRERERERERERERERFxUceJiIiIiIiIiIiIiIiIy2VDPcCJEyfOxnWIiIiIiIiIiIiIiIj4zOWXX+71e71xIiIiIiIiIiIiIiIi4qKOExERERERERERERERERd1nIiIiIiIiIiIiIiIiLio40RERERERERERERERMRFHSciIiIiIiIiIiIiIiIu6jgRERERERERERERERFxUceJiIiIiIiIiIiIiIiIizpOREREREREREREREREXNRxIiIiIiIiIiIiIiIi4qKOExERERERERERERERERd1nIiIiIiIiIiIiIiIiLio40RERERERERERERERMRFHSciIiIiIiIiIiIiIiIuPu44aaNobjjh4e6fTGp8exEyBG3FyYwLDyd+TQ0Or1s4qFkTT3h4PJnVXrY43kT55lRs91gY54oD435hxZZmp7zpeJ/Na9Z4xhfX5wYL1vmZlHzp/Sqc56qn5OVUbPHRrv3GYbknhcz36jne6XFfO5IJD0+m6JvTeRpnm+v3MbeINrdvW/asIPEm133PK6GtOpPw8HAyq8/bhcqlqK0Ke1oi0eHhhIdHEz8/h6rB/h46j1P/XibJvxjn+k0nkrq5irZOL9t+U0XOfCuWG5xxOjrexoodfX+Tcmlqq7KTOsOVJt8UT8qmfuKJN51tVG1O7U4Po+NTyHyvyWtedPzzIlbMiXfFZ2fan1PR5mVLkcFw0OSRxp1WunW8nqLnE13p3jgs96dir/ISH08nLZVhbWhp6XHqd6wgcRDx7PjnJWTOc5XZb7CQmGbHW9SVi0hHEyVrkt3SoxUUfd63Dtaf04kTxz8vYsX9bts+X0T94E8lPjPEPO4bzzrEAHX0b6rImR9/ZvWNYcdH4eLKE7rbTG6wYB2O4aK68MXNV3lbZxtVm1KwusI6/KZ4bMrb+neJhIsPO05qyAy3kH7A83s7iee9wVoGa+TUTDLuMtG02Ubmgb4Z7/E96dg2N2FekMmiKFOvv7UdyMQ6MZ7kVz7CFJnM8lw79txsltw/DtPv15McbyHx1XovjWCBWGbOZe4jPR/b7YG0VthJnWYl69O+e7TsScc60UrqWy0ETE4lO9eOfeMSrCEtFCyyYrk3i5qOs/dczplviljxRAH1wXPJyLVjf3w8I8/3Ncmlp6OGzNk2Mg+YSMq0Y89MJrwlG9tdyRQdOdXODmpemoF1kZ1D5mQycu1kPT6OlldsxM0vosWtEOj4NIv4iTayW0KwPpONPTeD5LB2ip6xMmNlOSpvXNoc1ZnMtmWy/4dJZOTayXgwnJbX+8YTrzpbKJofh21NKY7bl5Cdayf9Hti/KB6rR0d+W3EylnvS2cV4UjKdaf+UH31E1pw4Et9qOpe3KJeolh0pWBcV0HrLIrJzs1lyp4ldz1iZ8VJ/g0jcOGrImmElvdjBrU9mO+Pj5fvJtMWRusc91Rt8WirD25DSUhzUvDID6zNFONzi8/41NuLSSnvlw47qTGbck4q9JoTkTDv2zBTGtazHdsdgygZyQepsoWiRldS3Wt3So12k3zPD+4A3D6cTJ9reS+H2e9LZdfkUlmy0k/3krTiK07HOyKLm1KcSHxpSHnekiOS7bGR+4GDSs9nYc9Oxsp/UadY+ccrxaQ7Wu2xkt4S74k8SAQezsN2VTInagvrwTbi0UTLfgvWZXXBjChm5drKfmYL/wSxsdyVSMFyKzaoLX9x8lbc5asiaZsH2egshdzvroxkPhtNenI51xgrKvz13t3hRuoTC5W8MwzCGcoATJ04Maru2HclYnikHwPZmHYuiwNmZkogdIKmAuicjh3Ip4isd5aywJFOAhYz3som/2vX9kSKSp6VTfv1y9r5iJXBEzy6OT7OwzsjhyMQlFKxOJOwKj2N2tlG+ejbJ+ZDybglzxzi/rlkTTuJmC8v3ZWO92mOfI0Ukx6VTPjmDqpfi6Tpkz7mWs2t97+sAOF6VyQybnSN3ZVGeGccVdMVPvJ/nfKrOJPx+OzZ7HYuiz/fFyKWqftMkrC+bWV6ajXW068uOKjKn2SiI7PmdeHU4h0kJWfwgqYCiJyPp7i51/T7bn91LwX2BwHFKnogm9bAN+85FRPv1HKIpP5H4lW2kFO5l7rXn6i7lvOqsJ+cOK1nm3vmDoyqTKbYCIl8qJ2Nyv7GM4++lEL2oHMvKXWTfHdj9fdf+ltyPWDLB1O95wEH58+NJfstCxu+yiL/y3N2qXGK+LSHlplTqf2ln11PR3Wlcy9vJTFra0qvM4o2zfNGEzb6LRdGuvTubKLg/nhVtKRSVziUMTiMtlWFtiGkp3xSRPDGdJo/43J0Pv7vXGZ+7zmOyUVC4iMiuPLuzhaJHJ5HevoS92xJRjLy4OPPSeo/0yBWmR1Io2jmXsBH97Hw6ccJVVyyK7l0XcxxYwfi5BVgyq8i6a4B4Kr4zpDzOVbY/YGH5Trc6BA6qfj0F29sW7L9bQrSJnnzvuEf8aSogMX4FbY8XsfeRsHN4oxcZX4WLq+xhXraX7HvdUvSu9p5berezXKpUF764+Spv83oeUDrWj4sxXC6//HKv3/vojZM29u92dppwy3JsUV3fRxKX5Prn5lJN2XWx8LOwaKONwI5y0p939aI7asiam045FpY/69lZ0ULR6hya/BLJyvTSaQIwYiSWR5OJH+VPy59bBncdo28l7hZgTz2NXs/Vt9ME4Iro+aTONGN2tNB4sXTr/+35vgC5ZHXWUPJ6C9yXSPxot+/9orHODsPxXikfDfA7qdmXTQsWbLPcCooAo+NJvA9q3i2nCcDRSOOXV8DkuF4FRQBzrJVoWjj0peb/uGR9WkL2EUi8P75XumyKtjL7WgclH3w0wCirNva/Xwp+iSRP7d1M17V/wQdVztF3Rxup6zRhueNWj/TfhGVyIlBK/X+exfuSS15bWQmlhDH73uheaVzg1EQSaaKovH7A/Vsay4E4LDe47T3CjOWeaDhyiDrXKNtBp6UyvA0pLQWONFEOxMX2js/d+XC9Kx8+vJfsI2B50NZTWQUYEUj8/YnwaRHlipAXmTb2FpfCtbOxujcsdIVpUxHlXw6w+2nEieMHSijoiGTRU73rYqYJ8ST6wUf1jaceMS8+MaQ8rm0/JXvAdF+yW+M8gInoe2cT1lFA6e9dIf1lKVs+NZG4eH7v+GOehPUWaD1YxyBbAIYFX4VLS1MdJ/wsxFk8usH9LMTdi0c7yyVKdeGLnK/yNgeNTY1cQRxx0b1n1sFswRoNLTV1KAS7XFrh4qOOk5FYc+qoq6ujLseqqYYuAabo+WQkmXHsW8GK4nqqXl5CTpOJ+JWZHhk08Pl7bPkUAh+0YvHzejinK+PJ+E0ByycPdvzaCfgeuHY0/l1fNZVT9CmY7osf4FwmLM+UULTeRuRAwye+qcKeZuuZJy88mvg5XuYlP15P0fM24m/qWbPF21zTbRU5pHSv7RJN/BzP+f3c1zhx/ft+OwD2+8N71mDxtsZJ19z/bnP69b2GGjLDw0ne0UTNJuf8neN+YRs+r+CKd0cbqesAy3XheGQ1mEPHAyXUDJSpORxACCF93tQy4e8HHK5xdlCaIkkpqfL+ZuHxNjTrx6WtpbEOBxbCrukTywi5HnivZsCKmeMkcL3ZS2e4P6YrgQP1zkrJ6HiyfnOI7Lv7ljSO/6/WM78BGbYavygHxhNu9viDyUxYNLQcHLgwbvIPBBpp8dio7c81gL8znYTBp6UyrA01LcXPn0Cg8f/ziJDfNFED+Pt1jQj8HgcQ8pO+aanphyagnpovFSEvKp2NNB0Abgynb3IW1rvjzOv+g48TdTUlcG084//ZY8MRkSz6pI6qJyP7lDnl/BhSHtfpbHyPDvFSd/+hiQCgvN5Z0Wz57CNasGK53jPkne1Eh3KteoPNja/CJXBqFuWfeJtx4zjtw6UFWHXhi5vP8jYTkY+XUFW3iL4heJw29fz2domFi48Xh/fwTRHZm13/vsWszPKiYiLy0RXYzA7KVyaSvLkJc5Kd5V6mB2irP0QLEBd1Fl9bc7RRn7+CFVUm4h+c0v1jbDtcTj1gjR7iub4pIfkuG+u/CMDyeBb2XDsZz04hoL6ETNts7F2ZZ2c9OTOspP/en7gns7Hn2ll+fyCNL/eeK/r4nlTi5mTTep1rbZeNqdx6ooj0e2aQ87m3C7iC6Eft2J+KAyDuKTv23GSi/7uXTd3n/r9+/innu256fT5zfxdNem42S+62Mu4nQ3tUcpH7pokqIOSfvHRpu950avRs8XNnMgGttPZpP3HQ3gHQ7vpvfxxU7SyihUgs16tb/VLV9ucqIIRAL0FsGgHeGpZ7bXMZ0NRG366PdhzfAkfaBx692tnC3ndLwC8RS8TpXLkMb220NAHRZi+Dfi6HHwAHWwYcJRs2bT4Wv3JWPF/QvUBh274VLNnswPxIIpauYtOQ01IZDoaaljLGyvyJJspXLqGga/DON+WseNaOwzyXxFhXhBzxA0xAa98IieOvztS2vUPvDFxU2lpoBKK9NEJwGZiAqpYBUrNBxwlXuvmTAAJciy07F4WNHnAheTkfhpjHjXA2Mze1ehmY8lcHrUBLuzNutP25CkYHENDZRMmaFNeAw3FY5g2wkPyw5btw6deRvRS9B6aZFi75iYdUF764+Sxv65+jqoSiIxA5MVovCXS5xMLlPHac1JA5MR3XBF5Y7rhVkexi4xfJ/HQbIzscOIgnZa730UPOaSosmH96picqJ31iuOutD9dnnAXrynKin93Vey5nVyeBsxfyzDXtK6KOOJa/nkHK3RaiJ0QTf98S7DkpBNJE1WG3qQyawJae1bNdUhbrnwrjB/VVfNQG0Mb+4hIc0UvIWJZI/IRooidaWfRqFla/dvZWeXvV1kTg2Giir3N2JwZeF030hEgCvdzW8d2ZpO9zYFm2i6JMG/EToolPyqDgVRuj96WT+nbvBKmlKYT0l1OIn2DB+nh8//MKyvDibTq40WYs0P278ibseismSija7ZHxHSmh4K1Tn7ZlRwrJb7RgTkrF6jkyUS45Ji/pTWCIBQBHv/FsJJG3RMKRIkqqPBYarSpiy+FTndVBzUvJpB8wYXlmNp5v8Yqc0g+g74y3Iwn5GdDx/cD7Xh1P9rsZxH22Amu0swxjmVeA/yMFbHu0p9w01LRUhpczS0sBRhK/fhcZE+tYcU+0s0w9MZmC/z6XgrwUIrsi5JjxWP2g5N29vQfgdLZQ8mbBWboLOR9Ml3mZv/vqEEJwDZzuz6DjRAstB4H2IhbdkUxJZxyp6+1kPHkrjg8ysU1Lp1QL6F5YzjSPGxmJZSy0vF1CVa+GYQdVb2+hp4bbRst/AlceIishnuWfB2JbYSd7ZSIhNXZSZyRi9zqQcJg75+HSj44aMuemU+5nYcns6OHzdpjqwhe1c5+39eNIESnz7LSYbaRO1asAni6VcLlsyEc4I26LwgPcspwVXqbVkAudg6o9Ba7XREso2j2fuHtPJ1K2UTTXQvoBz+9tFPR61SoQy8y7CPN326TjCFV7Sil/fgqJ7QXYHw47q5m6+T475fd5+UPAyN6vml0ZQBhQ8HIW0QEzif7JSEwjwPzLIqp+2bXRFQT8kwny7eS8FcLcqZEE+gF+FpZ/Uu55htPkmvufRBI95/6PsmG7xU76u+U03ZfYc923WBivhZHlLDFNSGb5xCJSl07B+vv52O4Ox/+bcuxr9mOaGAb7+t+37cAKkp8ph4nLyX5C0zZI/wLvTmXum4nk2CzUJaVimxBI++dF2F9vx3wLtPTJR7o4aMpPwba5CXNSAVl3q0ArvuU4bCd5biY1V8cz94l4xl/dTl1xAdmbbMzGTsHjzrRvKGmpyKB11GOfP5vMmkDiH0kh/npnWlrweg62B8H+ZopzLmlTNMnPWihKS2fKvVXMf9BKuF8L5fkZ7DdZCGOo5Ve56JxGnPi+AzhQDsv2UtRVN5wQTfzkaJLj0kl9JZ6PnhlGDbKXrECsaXMpmJGDLa4O25M2LFe3U7fDTnaHGQst3bHCcRI4XE7TL+2Udy92Ho1lsoXMaTYylxUQ51roV4Zq8OHSR0cTBYts2JvM2N7M6jsFu/ShuvBFbijlnbZyVnSt85yzqPdaHDI0F1i4nIeOE49OE2wUaN2Ti1JbcQopbzkwz5zL+LIcCpamUnB9AYkek9iN/Ek0UE7TEaDX3I8mQibOZe61Xf9/nPriAsr7TPBoJm5OSt+5N588TtUaK7Z1iWRe+xFLJpgw+Tl7V5yvb52FrKfjOC1NdRxpbaHu91WUH9hPFThHHgD8s5X0J0uZvSaH5Pgc4ArMt08hcbKVSXeEMXKE8z6jZ2dgPZhK0fOJFD0PplGRxN1txXrXJKLNAy20ciotNFYB15poP1hFlcdf2/2AA0do7QRz1+hEc6B+bzI4rkVkLQO+lTSS+PWlBLyRQdbrmaS+Z2JklJWU17cRXb+ISf0UFlt2pGB9ppTvJy5n13qrl7UrZLjoeivR2wjqbqZIUgpLCHklg4y30knefAXm25NIf3cuprxwyr11nHQep+qV2SRvqmd0kp1tqpDIWdVG45eA3w/636Szni1pmVRdaaPgzZ6Ce/SEeOKik5nyjI0VYeUsv/0KzjQtFekymLS0/s1FZFYEYHuzgEVRrhSxq0F7Wjq2leGUr4zjCmDk1GxKr7aTsS6bzEUlmEZFYn18C9turGPRPnWcXFK+aaQR14wzAxhcnPBn9LXA4b6Duhg9Cetd6ZTv+Ij6Z6K9zEcuF45B5HGAaWwKRTtDWL8ug4JnkrFfaSbu/nTee9iE/bpyV9PWFQSMBrwsdo5fNPH3BmJfV05NW6LXaQjF3dkMFw/Hq8j6ZTI5n4/GZt/Wk0cMZ6oLX9zOat7m4asiUmakU+qwsPzdbHUyno6LMFx83HHSRtFcj04Tr4u4yAXvSBFLni/HYbax4okUwv7n93x0v50V83MYt3Nur+mfAq8bTyBVfFTfBFHuvSpXEHlfilv4t1F02FvHST9GXEH0vbMJe2MFRQfrWTIhkisio7FQQlFVPUtu6T9mHd+Tzoy3HdieXI51jLf5r2qwPzGXzArXnHp+IwmLHM/422+l/dUStw1NhCXZqbq7iaqy/ZTuK2FvRQErPihgxao4Mt7NIv5qYHQcy9/+iLn1pZS/V07pgf2UbEqnZNMKwh63U/DImTfofd8BHLaTOsfezxbO+a6juzqeRqgQJG6uNhMNNP65DaI8aiv/5fxPyKlqMSNGEp2UQUFSRq+va0qrgMTei+W5N2bPzGZLmsXVwSiXMmcHeiON30CkRye4c1oZ73P29+JnJv7JbOKfdP+yjZL/pO86aZ0tFD1pJX3P91ieKSFrplmdJnIGRhJoBt5oogU8Bh2cgO+B6wP7HyHbVsehJoheNqPPaKfAqTYSnynHXtPI8ttd5ZXTSUtlWBpaWtpG3cEmiF7ODM8GsdFWbPemU/5GDY0r47rL5iOjbWRss9ErRn66lyog0du81XLhGhlICGBv7JuacRIcQHTgqcf7DyZO+AcAmPDvk/FeQcDVnHqKQ/GRIeZxLqafxbNoYzyL3L9sK6ERsIQEAib8rzQBAZh+2Hf/gABn+8DA0wwOJ74KFzdujY1LdmaR+LNhVGpWXfji5sO8rcvxqixmz8uhflQi2VuWYFFxqK9LLFx8usZJzRr3aZnUaXLR6myi4Ml0yjvMpKxxjqA0Rc1nRZIZmrJY9EpN70V6x9zF7LFQ/1IB5ed6YdOro7GMBcdbJQOcq4297xbRVOHAdLW3QsFxSp+3kVkzjiWF5Rz6rI66T8opys1g0YxoArwd8koz0XfbWLK+iPKqQ+xdn0jgtwpVWZoAACAASURBVKXYP2jq2WaEicBr40l8KgN7SRV1vyti0S0O6l8uoeqM18QLJGwiEL2cvXV11Hn9ZPd9W0eky6gQwv2g/LO6PotrNzV8BMQT+bP+d3dUZ2G5wUpBk8cfOuupKnbAXZGE9GxNzUszsG1qImxBEUXPqKA4XASGhGOinPov+sQyGg/iEU/6ailOJjp8BeWeu3/7EaX7IPD68J4iWWcLRfOnkL4nAOtLu8hWp4kMQcg1FuAj6jzTOEcT9VUeca8f7d+fupHw9NJSGa6GmpYC8FcHp4yRjhqyfjEOa75nhIT6ivdwnKJsIBegESGYbwF+X0ff5KyeKgIZFzZAajboODGSkLGBdHXw9eYaLX/taPw9/yTnxdDyuBZK5kUT/nx5nzrE8apSyt3iVMg1cUCVcwYKz6M0VgGBBPz3IdzIJcZX4QLAkSKS70mn9EorWTuzh1enCagufLHzWd7m2rw6kxm2HJrGpFBUqE6Tfl1i4eK7jpPqTBI3d/2PheX71GlycXJQ88p8VnwKlmXZzB3T9b2JyCcySTFD06YlrK92z3ac82yaOwpIWVRA/XEvh+08Tv2OLOz9zlPv/VqcC5yZsF4f5uVcRb0XEnLt05S/hBUHwLwgmXiva300UvOeA66Lw3LtyF5THrTsK6UcaGptBaDtgxVYf5GI/Uu33UeYCDSbuQLw/8EPgHrs98cT/YxH4eVKMyGjAUyYzvjdL9eiyVV2tlV7ZPUdNWTGhxN9f0GfxEqk24hI4h8MhOICStwrMx1VFG2px3RXHOMHmE3ONDqQ8I56Cj7ovdRgS3EW2UdMJN5toWv3lh0p2DYfwfJM0Vlfl0gucGPjSR4NRW+V9EqXnYu7m4i/fTwDTVoYGBjC9xRRUuaegTioeT2bUiKZfUdYz3cvJZO+bzSJOVtYPlmzZcvQjIyNJ456Ct7tPSikpbiAAsxYLWH97svIcMaNhvptRdR4DOZoKbZTAMSFOavTp5OWyjA2pLR0JOGRgXC4gCLPMuORIuxvA5PDnA08pkACf+agflsp9Z29t8t6vQXTTCsWRciLzEgmTY3rG/5dC62arVgG6gw7jTgRdsdsIinHnucxmO7LXRQdAPMd4/GY2VnOkyHlcQQSGPw9FJdQ/q3b1x01ZG8qhbGzucvVVnBFrJVEPwcFr3vUz4+XU/KWA9Pd0YxTxaCbr8KleyH4UYlkb1lO3HCcbkh14Yuc7/I2jhSR8rCdIxOXUPTqXMK0pskALq1wGfHcc889N5QDnDx5chBbtVH0XAr7vur6/z+z742NbNzo/ungpnk3MWooFyPnnKP6JZIX76Nj4nKyfzUef/eut/8WwA3jr+R3BTvZXfM9N/3rTYz6W+efLhs1nik3X8ZHr2Sy/o3tfHYUHP/3e45/3URVaR7rF6WSWfwZHWOsPPdqCr8Y6cxGjlZspOhQJ50n/0Ljp1VU/b7r8wFbnl7I+t99i2nic2Q8dF33tVw2ajyWoC8oys3l9bd+x587wNR5nKN/KGdLRjJPF3yJ3+QM8tJu6t6n4/MS7L+BX8yOJ/zvr+Sy/7WFnf9RzmfH/DGZOvj2D+VsyZpH+ttNXPZfnXwb/q/MmzAKvysdHMzdwpaST/j2h5dhav+Wpk+KeHHVS1Q54kl9zkrI3wVweVsBeVsKKf+Tg8v+9m84/nUN5bkrSC88yk8WpJP68wCgg/oSO/v4BbYp4fgBfF3BxndrGHfPPG76ses5e3znHxbNqM9zePHFrXzyf37EjzjOnz8pYuNzyyj88ifMzHyO+B9fBhylYmMRNeOszJugX5r0CAgdxdHCHDa+/QkdP/oRlzX9hvXp6RR+cxPPZaUQ2T0ssIbM8F/wkHt6/fchBP7fUnI3FLjiXxufbH+OlLUVjErKI+vfAp1zQn5byoqHcqj/r2u4LszBFx+7/56dn6a/jeC6H6sIeUn6bwH8yz8dJX/TRgo/7eBHV1xG0771pC8r5MjNz5E1L7InP6nOJPy2h9j4f27qSat+/C8E1uWxcet+/nzZD/H/P19Quj6dxYVfcdNKO0+Pd0XSz19nTtpuvh15Ddf9YyuHft83nh3/8XhC/uG8PAW5GP3dNfz0737Dlo1b+M2fTPzw74/z2fbnSHmpgsCkjbwwdVT3vLdtO5K5wZrKZ//0b8SH+cF/C+C6azsofd1OXvFnHPf357JvP6Pc/gK/Wl9B58TlbHjcFfcHm5bK8DbEtDQg4jo6PsjFvq2Iz9r98ec4n/1uCy8sWk9Fp4XlL//Klef7EfLPJynN3UiB6zxtNdt47okXqQiwkfdiAoF/e74egpwpU8hP8du3hY1v/saZl/6vz9i2KoUXfxeI7eUXmDa6OzWjaO4NTH/qM0ZNjyf87+G04sQ/XEP431WxZWOuK938ni9K1/N02hYOB9nYuCy+u44o59lQ8jhgVEggnxVsZMv+P2P6e3++/7KU9emLKTxyE8vtT9NVPOOyQMLNR/nNpo3Y3ePPoyvY3WnhuRfd6xviq3Cpt8/h6f/4lpFh13Fl66E+Zeaq3x8nMDrkkn9DTHXhi5tv8rbjlC63kVPXyTURYTia+oZf1X9eTsS1o9Qh5nIxhstll3mvbfmmDvbNfkpP600CuSB1lJP5sJ0mPwsZz/azgJU5kYyV5Ux5xk7qyxZ2PdWzANwVY+dS8Lu7/l979x8U1X33C/z9jLmzGXtLxrbrk2fK3ubgtg+6sermh896jV1HEW8i8ETJtpViCyUJRiIm3BjCoxJqwB+RiAbjD7aYgJuUldSyJhbS+LB9dHZrI5hG1zzV1ZvHZSYO+9xkoDcM516Z7/3jHGB/HBADHhXer5kdneWcs2f3e8731+d7vl98fOwdHHznXWz/zav4G6BMc/XIL7DZsQLLZiVqLGrZgX9z7Y9ZxMyA7yQvQM6zOchJnx33iGNi+i6cmnsKB3fuw3tHXkH+XhnAN5E070d4wbkeOfOGe3bLgLnFR7HP8Cq2H3kF6w8DhnunY8ETr+DdrUk48z+XYGPbeXRgNhKnpGB780FM37EP776+Hm9/2f99XsDBN3MwV32iZfpT7+K97+7Grl+/i1fW7Iesnv/KV9/D2sdGOeZqUiJW7P4DEt/ajn2/3Y782r8pa7LMW4ntFflYprWGC1GkKSnY3HQQSTt2Yd+/5OMgvomkxSuxr+oFLLjuyCMDZj/zDt42bsb21zcivxb4ZlIKMl99F/lLI0bSXPgY7/UAwKd478CnmkdakJiFlVYOYR2vvrl4M94/mITtVfuwcc1BYEoSUn6yD7ueWzCCBRG/g2W7jyJh5yvY8MZ6vNdjwHesKVjr3B+Vn3ec/ZPyhN1/nsLbe09pHinnvxci5b+N1beiiWB67tt49+93Y3vlbqx/X4bh3tlI2fQ2Nj5x/fXJDNYX8G7zXLy5Yxdc5fk42AN8M2ku0ja9jfwnIusvI8xLacIbVV46eTZecH+AuW+9il2HX0F+razUW1M34O1nVmJ2RPXYMKsQ77xjxOatuwY/5/HtePfpZRxleaeaNB05h96F8Y3t2B5Rlm54ZyNWzrp+LjPya8KA6blv4w/J+7F5x0FszPtPyFOSkPKT7XiF189tZzRlHP5+Gfb9NgGvbtuA3S+8B3nydzB78Voc3JszuL6m6juLN+Od387Grh0HsX3NQfxt8ncwe/ELOPhc/LakR7p04LxfmZfiP31vY79P60A5+NGzKdddT+WOx7bwnU2Psq3vvDIrDYBP398PzRR8JBFZP5nNJ8T7jaN0+TshhBjF/ujt7R3N7kRERERERERERERERLq7++67Nd/XdXF4IiIiIiIiIiIiIiKi2xkDJ0RERERERERERERERCoGToiIiIiIiIiIiIiIiFQMnBAREREREREREREREakYOCEiIiIiIiIiIiIiIlIxcEJERERERERERERERKRi4ISIiIiIiIiIiIiIiEjFwAkREREREREREREREZGKgRMiIiIiIiIiIiIiIiIVAydEREREREREREREREQqBk6IiIiIiIiIiIiIiIhUDJwQERERERERERERERGpGDghIiIiIiIiIiIiIiJSMXBCRERERERERERERESk+jshhLjVJ0FERERERERERERERHQ74BMnREREREREREREREREKgZOiIiIiIiIiIiIiIiIVAycEBERERERERERERERqRg4ISIiIiIiIiIiIiIiUjFwQkREREREREREREREpGLghIiIiIiIiIiIiIiISMXACRERERERERERERERkYqBEyIiIiIiIiIiIiIiIhUDJ0RERERERERERERERCoGToiIiIiIiIiIiIiIiFQMnBAREREREREREREREakYOCEiIiIiIiIiIiIiIlLpHjhp35qEpKSI19Z2vU/h9nLVjdwR/g7Kb1eBG//F2lGRlISkXDfCX+ccI/WF0d5YgdUZSzC7Pw0fWIK01RVwn9Y4+umK6PQeeE3H3GWrUXE0CDlqhzDcuf3brENL99CnIp8sxfSkJCQl5cJ9VWOD7gA8O9chK2V2zGcG0N0XvWm4MXfo4+hG/e4x6RQ6VorMB9Tf5EkPwupvWnH6lp0ojUdhP5xFmep9PRtLVu+Bf6T3Q183AkcrkDtvOpKSkjB9XibWHfAj3Be/aVwZMPC61fcf6SHsd2LditkDZcfq17WvE019YfgPrBvID2enaJUhGnq8KL2f9Q0aDRnBmDyutDG+LjGkq7H5awU8FzSu3P46odaL1y9F0CsvlS94UPHkXKW+ff9cZBY54R91Y4JuqZ4gPFtzMfd+tW3kKIX7/DANrhjd50d+TXSfd6PUEbHtRjcCI/8o0o1OZVzsp3qVtjzbtEPRMV2u+rFn9ZKv1w4cL3RqC0fvF0T9ijHqp5vo9CrbhuzfTEJuI1Mxjo51jkjBtzLHtH/prrE5zEiE4c6di2JvzNsHMpF0YStO1Tpg1O9kaCh93Qh66+HucaAkLTpF5Av1WPfTUrR8mQDr49koWVsGkwEI/0cr/vW3bhQ7nHBm7sWvt6TCNCn6sKZF2UifkTD4xlch+I+1wFnYAm+wEUefs8IQdzIe/P7kr5D6aELcXwAZ7cfdQ3aYhY4V45n1bgQMVqT/rAS1D5lgkEPweerhLExD/f41cLmLYJ18Yz+P7q66UVpQj8CDa1C1dh6M3zLD2HPuVp8VjTc97ahYmQXnFzYU7XLBigAa9lcia3EbtjbXwpE43M4y2l/NROaBIBLmF6FquxUJV1tR/XIWFny0FR/sc0TkByEEzwKYk441800xx5kK8+1+P9KoyKcrkJXlROf8IlTVWYHzDajZnYUFn8ReJxr6QnDnL0HxccDykzLUPmpG9/k6VBcugTfQiKPFWmUIAHSj5aXVqO+5Od+JJoZQ42qkrffD/JMS1D5qQufJGlSsT4M/ONy1p+pwI3dpMbywwLG5Fhnf60bAVY11S7045z6Kkgcj9v5fQXhhgv3n6bDEVn1msJZMCr3yUvlMJdJW7EFohgMlNRkw9wRQt7sCWQt9qPqwFun36vFtaUz1heAuTEOx3wzHS7XIuLcTrW9VoHiZH8HY/EiDfLoCmQ4nglNsKNpVBevkEFr3lyJroS+uvhg+uhophS3A/DyU1SzE1KtNqNxSjLQ/hdD4XhGsw38U6Ui3Mi7Sly14saD++oNfJjC90kU+sweZ2ZUI3peOol1lsKAd1S8r7cAJk9fr1haOFjjwDErPALDfhO80kehYtoWCAQBWpD9rQ1xvxn0s2KLomC5Rzu/BM2XtGNMbS+jlo3IhSZKQJEnkHO4UQgjReThn4L3yj3Q7k9vL5w0iR5KEtKXtJn5ImyiXJCHlNIjOEZ5PfxoNvt8kciySkBZvEq2fa+3YKy6+mSOSpWRR+H7X4NtquscdTwghrl0RDTmSkKR80fRF/5ud6nsrxIrlkpDWNouu+D2F6PWJTRZJLEtfJiQpRzREnFNv+w6RIkkiOa9BXLkWv2uXr1z5e8SxlWsx+ji3BfX3K/fd6hOh8ezc7gXK9R+KePMrnyh/JPo+0fRJtVggSSJlS5vojXw/pOQlKw5dGXzvmk+US5JY8Ma5MT1/ugNcOyeqH1HKoch8uddXLhbElhsaujz5QpKSRc7hK1Hv9++/6USv9n7vF4pkS7JIvunlLI1bXzSJfEkSCzb7ovK4K+/kCElKEdWB4XbuEk1rJCFZYvJX0St8mxcIybJJ+CIOeuWdlUKSCkXz8LcDTWS65aVXRN1ySUiPlAvfVxEbqu2EZOandyQl/ReI8siMp789trhanNNoNw1up157i8tFW+Q10b//8joxcFV91So2WeLbYr2tm0SyJIl8DzO524aOZVzkfs1rk0WyJXli9wMNR690uXZRyetj7+tgnVghSWLB7onRZtOtLRwpUC1SpGSRbBlhPx0NSbeyTQjh2ywJ6ZFqMTHujNHRM12i9lssqeXL2PXv6jZVV/uHTvV/diydr4yaM85fyuDqHUGGf/+L8PZYUbavDHbNUQcGmH9WhIIZJsgdQYzo4atJJix81A6gBecuxf7RiozlVuDo7+HXOJj8UTPcPdlwLI8dgRmC+5U9CE7Oxt5d2tH9BFsRSn5uhvn/hhC8Ux4X/y+3+gRo3OprR9P+EJC1ChmRUfvJNjh+aYE8xD3Yr/3DaoRgR94vYkY+JWZgVRbQ7vYi2P/e5yEEAMz5Xuz4DBr3zjShugPIXpURlS8bbA7kzZThafEPU26E4fW0AJOzUfB49LXTv399iz9+1OJVD9atb4Ftcxmyx+6b0AQTPv47tMCCvJ/aovI40+OrkI0g3H8MDLOzF787Bhh+VhAzKsoA20/zYOmpR7N/8MrtCPqBxO8jUetBWyJAv7w0fB5B2QjrLx2wRT4Neu9CLLUD8oUgpxW544TRfKQFmJkHhy0iN5tkQsaqbOCSG96/DrP7J82o7gDsTz8Z/cR+//5n3PCq7blu7+9Q32NFyYbotpjhkQxkTwb8gRFMs0m60LOMG9jtyDqsO27DtpdZOxuKbuny1xY4zxiQXRozE8e0pXDYgc6PAgiN3de6PenZFu4nt6OysBJ4dhtKHh6zbzJB6Ve2ASGEPgUwxxz3tAnF0jNd+slo3/0cKrEG216wjd1XgY5rnFiLL+Py5cu4fLkWDrXjvf3NYigzd9lhHvbxNwKGWOMkds64J/fAf9WvrGmiMR92Z+Rcs7FzIp+uQNI8JU286+cOzgnX7UXDWzLw6CpkTBvmBCdZsOa9D7D3KStG2ubvvSYDsMA0Jf5vlvkZsMIDX3tshUudpitrIWzfiPnTJS/cZwDDzzJgH3LaHwPspR/g6N48WIc70at+OIuykKbOVZmUNBtLVq2DM3ZSve4A3BuzsESdK3r6vDTNuabDJ/dg9TL1t0+ajSWrYuf3i1zjRP2/Qwk4Oh0Ra0BorXHSP191/7lqznetrHWT2xhE++vK/J3T52WhPi7DoQnl8yACPYB9liXukW/zD2wAPGi7MMz+sgzADHNcQNWAhG8AONuGS/2XeSgIP0z4/n3sFZxoQsEAZNhhSY67ymB+CMDRtvhGRYTePgAPmzWC4ffA8G0AfwxE798Xgnvji/AvqkLV4+ZRnz9NXMF/9wKwwRJb/zFMg8UGhD4KDN2B3NcLALCZNZpX3zDACMD7af+Vy8YYXZ9ueakxFWXvnULjz2Pyz74Qgn8G8M17hp8mhm4/fUEEvQBsFsSWigazBTaE0HZ+mHBYnwwZgPm++GkDDf/VACCAtr8qFb5AuweYmQHb92I2nGRFybnL+Ph60wyRbvQr41Qdbry40Y/U7VVIv2905z6e6ZUuoU98CMGBhQ/F3pFGOGov49M6x/ivk+jZFlZ2QPvOYuxBEXautTEvHC0dyzb0dSDoB0zJiSPu75yw9EwXlXy6EsWvA0W7iuL7iUdJ98XhAQwsfpl5AADs2OobDKbQDZDbUZmxBOsOhWFbWwVX3TY8ObkZuYtzUa+1/Z9LkemoR9fif0FtXS3KUg3w7szCglfU0WXTHHDtyoMFgCW3Cq66AtimALjQBg8A2/w5Y5dB9MkIn61H6St+GNIKtAMy37MjYw5QfzxmJLHcjubDMrIX2XBPzC7hT1oRAOD4J8vozu+qB7mLs1D5VyPsz++Fq86Fqs0ZMAY8qMjKgrO/8OwLYM+KNBT/KQGpL9XCVefCtl8k4tLOLCx4vmVg1F/3sXVYsKoa4R8WYFudC66aEth73Shelok957VOIAG2Z11wbUgFAKRucA2mR6y+ENz5C5C1tQXyQ0WoqnOh6ukZ6NifhQX5boRiAjiX9j+D3BM2/KquFmVP/BhWVlontqtB+AGYv6sxf776pFMwNEyhZjAA6EQ4biSOjO6vAKAbXer6EqH/CACYgYQvBgO4I148j+5o4c/8AMwwaVxmhrsAIIiOYS6zuycBCIbRGfeXLsj/G0BHV1Q5ETpSilJ/KqpeTmXFlkYhjNBlADazxjp8dwMGAH8ODT0ac9LdAIBL4fgrF1/JCAMIdalXbn9j7D4g8PpqdTDGyBfZpYlB77w0khwOwP1SMZw9Zqz5hZ15650mHEIQgE2jEwJ3KdmZPzTM2PJJBhgAdHbGD72W/49y1XT3yBjIN++biqnqYsvKAL/ZI17UlfSiYxkHKG3WslL4F1XhV5prmJJCv3QJf+YHEqfC2BeEZ2t/3WM65j45geoeOraFAbVz9wBQtGsNLMOtSUYjo1vZhoHZM2YkdMO9US3bbmDB8glFz3QBgJ52VL7kBF7YiTUzRnXmmm5N4KQjiME14r0ofjP+yQi6vlBjBfZcMiPvzUZUPZUO2/x05O06isanTdqNnh4LSpqOqtvakV3hwrZHAfktJdiAKWbYHlIKaGOyDbb5VmXx98+UEQkWrVELI6Q8wZI0+Pr+dMzNKIXXVoYPXhuqY8sEW7oFcLUi8ilf+aNmuJGNpTaN+Lza+apEIb++4PEGBJCKbfVVKMq0wzbfhvSsMrjeLIIJQfg+UXPGT5pRfQnI+9Xewe2e2os3NlhgOO9TM9AwvEc8kG1l2FmRjfT5NtgWOVDy5l44Jneh+U9aj9oaYJpjg+2Hym9u+uFgesTqPlaB4uMy7BUf4OiuPKTPtyH9qSo0vpkH0/FiPPeb6AwpdGkafrW/COnz7XA8l84CmxRa08ElmpXpFIcJalgecsAADxqOxRR8HU2oc8W8FfQDaEFpYRMMjm2oratC0UMyWrZqB/lo/DFo5DcmszJpZ++Q6W/EHLsV6HCjKWbKB9nvhvNszOYdbpSu9yN1+6+QqhVsJrpRBuDuuDeNMP8AQM8wHQvGOVg4Bwi90wR/T+QfZPjfcSKq9FcbY6HX16Ei+AAKdrlQu90B45+dWLc0DRWnJ0gHBo2ILnnpgHZU3p+E6XPTUNzYhfTKX6NoDsfI3qkMd8XnZrjXDDPUgdNDmTEPjsmAp7E5ur7WF0JTXeSQvRBCfwbwtwasW5iLpmtL8S/7XKgqtkNuqUDW0mK0fDkmX4XGih5lHIDQ4VIUc1DLyN30dAmj4xKAKW2ozFiCTedNyNvuQu32bJjbnVi3PBNOzQGe45QObWH0+FH5/M3r3J3Ibn7ZBnX2DKBl42o0fcOBbftcqFprU8q2hblwd4z+e4w3uqQLZPhfew5OFGHnU6McQD+EWxM4ebBEmbbLt1XJiA5kIreRIbobE4TX3Q7Y8/Dkg9GNF8vPCpCqtYvNAXvUkx0JmDPfBiCI4NWvdxbK9GGxL3VKqQimRdlY8+yaiFce0h80wnC8FEt+ugeBHu3jm+c7YEE9WgcaeMo0XXhiKaw3sc1mznLh1Lm9SI/tdDMaEfUTfmsqLADqd1bCeykMWb2pzblH8fEfypBqBIAEGBMNgN+JPa52hPq/62Q7tp47haO5o7m51fmqkY1VsfNVP/gk8uwa82raF2o/uUL0NRjmF2DbIgO8JUuQVuiE56Qf3sYKZGU4gUWR13YY3V8aYZiWh8YTLpRk2geCvR9U2CEfL0bFsTtl0SHSmymzBGumheDMmousrW54T/rhObAOmQVBTItcLK0viPrCYviz9mIbRzPSLWeCY8MamDucyHokCxWNXvhPeuAszMTq/5gWvc5fuBvhKQbYtw8OgrBnlsB1woW8xCCczzsRYHCZRmnEeWkUIxZuccFVsxVr0qaipWgJ0na2c42KicZgQ8FmOwzeYizJWAfnUT/8x92oyEmDc5IdkTU+uQeA1wtsiB7UdbR5K+xfurFut8a6ZHQHuoEy7lI9nivxI7t6Gwe13HQjT5fePgBnvbj0IxdO1ZXAsSii7vGtACo21o//NU5GaeRtYRneLblwGsvwxk3q3KWv4QbKtvCXnTBONiPPfQquYgfskWVbjxfFWz0jW+uZru9G6hzeCuTWGlG27+Y9xXVrAif97nWg4Cnlv971NeBzJzeiG6GzAH6g8QjnlETtuSg1Ri3cfdf1ow/G7yqz0gU/iw9uGeesiQqIpM/RPsa01AIUPVcU8SpBlfsUTtXlYerpSmS+OkQFepoNjpmA+49qA01uR/NhwLFIe25cw2Slo6z/8a1R6+lG6KxykzpfWYes7IqIp6UAfM+BsmIbDKf3IDdlLqZ/fzaWrC5F/dFAxNRDBth+WQXHjBDcGzPxo/vV6Yl2uuG/NNqsNYSLfgAzDej+yA//ychXEN2TAZwNRU+DlGTSeOyXSEP/04HDFkBGpO/7N7iKU2E4WYF1q3LxoltGRn0jylKNUdulVp7Cp38oiV7gC/0LHQItHw63qC2NV6GgkqvePdx1ZrCiqOkDVD1lRfBQMXJXrUb1me+j5P1aFPxgcLPAgWdQ+tds7H3JzjmD6SYLI3gBwOThrzTDnCIcba5CnjWI+vW5yCqsRpu5BH/YVxA95++cPHzQ9ilqM2NqcOripOi4ziKKNOGNZV4azQRrmvK0dNGuRtTmTkXg9eeGeUKF7jhXgwhCnXFmGMbHa/FvCzV7sQAADtVJREFUrhKkGryoKMxC7kY35HQXGkuXRrQtEmCaCWgN6kLiUvw4DZAP++KeRqDbzRiWcX0B7MkvRSBrL0rsrJ2NzljWPRIw9bsANBahx2QbMn5qAs604sxEHt88hm3h7mMvYrXLgrLt2TBzxg99jGnZBhgfrcKpcx+gJGbgOhIzsCoLwLF/hZ+dGdc3lunyZQteLKiHpXQrsodbj3uU7rp5h6Zxw/IA0uGE5y8ByJnRnVGm1CIURTze0i7vgefMyA+dMN+BvJlOlB72IVBqgzVuCzNsyy2QX21Ge7ENtrOtcMOB2rgFzNTjWefBDg/cfwqgzB5/tH7dx4qR+Zte5BVvg2OG1vxX7XAW5KLipJrzTTbCYrXBtsSO7r2eiA0NsDzlwsdPBOE/7kXz8SY0n6hHaUs9Sl9ORdX7e5F+L4DEVGxt+hhrzrfA2/SvaP6jF57Xi+F5vRSW51xofPbrL5Io9wA468S6Vc4htggiFAZs/esIjSBYRhPIvWbYoAZGH4wJqf0/5R+z1mTqkSYZYXuqCo1PVUW93d7iB5A9uFhenwz5miG+kDQkKNf/34aeW53ubMb7Bp9utMasaSZfAwAzEq8X0Z1sRnpxLdKLI98Mw3MJgN0ME9pR82oQQBC592us9HUgE0kHAPv2U6jNZPiYRsIIUxKA2iBCQMygg15ABvCw6boLpxp+kI6SmnSURL4Z9iAIwB45DWqPrNkZcs83jAACUXNk08SkT146HANsyx0w1Vai7a9hYCbz0juG0QQzAGcwPjfDNSU7s5muPy2z0ZaHqnfzEFXjO9MMP4BsdS7ze6YCgAEJcdlZAoz/gOGnGSId6VTGnalB5SUAl3IxPXbqIgBORxKcXPc2gl51DwMSvmUAYIRBYyHlqUalF3Lo6R/HCV3awmE0N3ogAyhNSUJp3AGKMTepGHiqEZeLh+7DIg06lm0AIPfIMMTV1Q1I+AYwsJ4NJz3QLV3Cxxvg6QFQtgRJZfH7F89LQjHy0Hi5RKOveeR0euIkDHeuOo1TrhuaQevrVtQpmjqa50Iw/vfs1lr0cTQfZcePf24AXNVwXxrLA4+Meb4Dlh43Ws8C7R/WDz9N1702LJwDyIea4B2ygyGM5kY3gidl3P0PWgfqRsvGLFS0W1HWdAqfXryMy+dO4WhdFUqy52k/rTHFDFtmHsr2HsWpv3yKP+7NhunLFtS0REySNckA08x0ZG+ogusPH+Ny21GU2GUEdjbB/7XbDybcvwiAbSv+ePmyMgVe3IuVUBrGP5hhmQx4/xKIC1oEL/gBpOOBIUehKgvczb0/DfWxeUNfAP4jMpD2gDKyKexB7venY/qr/viDfNmBEACD1hN0NC6YzBYY4EXg3+OuMgQ/wuB1MoTQkVzMTiqFN3b3L/34/XHA9JAFRpjhqHPBFfcqUaavfLQErjoXCv6JtVkaOXOyHYAfgdg8Tr6EgL//2htKCJ4nZyNpozcuf+3+0+/hhQkPzFD2bt85HUn3a8+P3Pn5JQB2mBNH801oPNAnLwVwxom0edOxTmsKTblXaWdwxOydZZIZZjsAfyB6Cl8AcjAAf0R+pEluR+W86Uh7K3ZvIHDSA3mgvmjENKsJ2lNBq6PlZ5rYr3Sb0KWMm+bQqJu54NqgjL5M3eCCq66AU0lH0KvuYf7HVAB+BDXqHqGgH4AJU8d7uujSFk6A7VmtNkoV8mYCmJmHqjoXXMuHK8FJk25lWxieJ5Mw/f5K+OOCid3o6AAw2QwzOzMUOqVLwj8VaJYvVbkWABbk7XLBVecYtm48EjoFTtRFrADAW4ya0+r/T1cg84DyX/ujC9lhdkPMsDusgNeJmpgFQ0PHGuAZYq/rmqRM5iVf64140wDb09tgn9yO0vxSeIdYDyV8shIVh27s4/oXozQ8MQ9DzvQ4zQbHTBn1zRVoPjT0NF0KdU7PnnqsLtRabFpG8K0XUeoFzC8UxK9hAgAIou2oDMxaCvtMY9QCnKHjzfACuBRWQlPhllKkzcuE80LE7pMMMJnNSACQYDAACMDpWILZ62MqL1PMMH8XAAwwfO1nv9SFPv1O1McuHNvTjoqUJMx21MdlVkQDJlmR8bQJOFKHpshKc48f7l8HYEj7H7AN07o1JJpg6Qmg/oPoSRdCRypR3WFA9hN2pXGsLlSI39TEdAzKaN9fjRaYUPAYR9iMW3MyUJAIuF1NUfmyUgYYkJ5qG7YTxWQyQ4Ybvzse2YnXf+1YkfeoBUACzPNtsMW9rMrAjEQrbPNtsCbyqTsaOeOif0YqAqg/HL2mQ+hIHephhuNHw81TbULiNBk48jt4IxdD7mlH9e4WYE4e0tXFQZXFRf1wHopZO6LDjcr9IeDRf8ZSDoIgXfJSADMssHbLmotyut9wQoYVC61sud1ZjFj6eCpwth7uyDZD/0Kr0xyw/+MwuxtMMCXLCBxqiV5vSc2jDD//MezqxWd5NA9WeOF8MyY/u9AEtxcwP2YbdScGjQ1dyrgpZo26mQ22HyrDZk0/VOtqrJ4N0KvukbDox8ieLKN+f0y/SbcXTYdkGDLn3dR1ZW8LurSFDTDN0Wqj2GD+NoBvq/fIDxhSvnF6lW1qvxvqUXMkeuUf+XQ1qo8BpqczYOWgEpU+6WJQ2/dxr2QjACPMD9lgm28e/WANoZs2US5JQtJ65TSITv1O5PbyeYPIkSQhLS8UO17boflq/kzZtG2LJCSpXLT179vbJnYsloRkWSYK9zcJ34kmUbN2mUhenCJSJElIW/q3VH97jd+583COkKQc0fC5iN52ebloOuETF7+I2PizJvHiYklI0iyx4vlyUefxCd8Jn2g6VC4Kl89S0tK6UlSfiPiUj8qFJEliQd6muO+1Ke9hkSxJQrLkiIbQwBmJhpyY7ymEuPjmMuX4lk3C1zvc+Suu/DZfzJIkIVlXiMLXGkTrCZ/weerEpmzlPGetaRJXrg11nF7hezlZSFKyWPFSnWjq3zfvYZFsSVbOuf+3/aJZFFqU773pUJPwnfCJ1sM7RP5iSUiWQtGs/n7n3kgRkpQslq3dIRo+9AnfiSZR99IKkSxJIuWNc9HfPTKd1N+v/KOILxf73rUroiEvWUjSLLFyi/JdWw/vEIWPJQtJShHlH/X/YGrabon8ZYmEEF80ixetynVcfrhV+Dw1yvUTdW8KMZiPR96fvaLttZSI669VNGxZKWZJkkjZ0iZ6I3cP1okVlojP+bBB7Fi7TCRLyWLZazHb0rjT1fyimCVJYlZ2uWj40Cea9heKZRZJJOc1ROXH/XlcdF7VKZrykuPLOylZ5By+cp1PZt5Ho3Nuv5pPra0RTcPkcUpdQhI5hyPqQZ83iRyLJJIfKxQ1Ht8w+WuXaN3QX1eoEU0nfKLp0Cax0ioJyZovmqK2pYlMr7y006PUpZOfUD5nsB49knyXbkvXzomaxyLS/8MGUZ49K6a9IMRgeyy6jdXbvkOkRFx7rYfLlTxqcblo+yryg3rFuf0rIvLNwes0flu61fQp4zRotXNpgF7p0tn8ovZ9PZI0HC/0agvH0ej/oRunV9l27aKoeyI5Oq1fU+tgj+1g2RZLtzpHvKH6ib8uHQMnCqXzP+I10Tsy+gMnw7z6KxNxgRMhhOg6Jxo2rBAPW5SARkp+tfB97ovpJLqRwIkQV97fJFZYlc/e1BqT1V/rEhc/rBGF2cvUz5SEZHlYLMvfJOo+vCi6rkVvPtBo03gl25aJ/C0Noi3qpLQDJyJQLRZIkkh+2adRURjihvjcJ2qeXymW2ZLVz5wlUrILRc2J+GIp7jjXrojWLfkixRpxrrtbxcWuK8r5La8TA03GTuVz+reVrCli5fM1whf1Mb3ioqdc5D+mBoukZPHwY/mi3HMx4vt8zcCJEEJc6xS+/YVi5eJZEWlSLpoCXREbsfOQhtHpEzXPr1ACjtIskZJfLlo/i91Iq7IohLjWJdoOFQ7kG7MW54tyz7n4/EAIIT73ier8/vxDuQ+qNe5JGp86fTURgfYUkb+lNbqjT4ghOvuEmi/nDF47T2jn5/GY99FoKWV4jlqfSLatEIWH2uLyOM3OCyGE+KxVlA8MFnlYrHi+Rvi06i3XusS5w5sGy3Jrili5oUGc69LYliY0vfLSrkCD2PREf911lkjJ3iQaArwg72hfXRRNMelf1x6bptqdGEII0dVeF3PtNQ2ZR3WeqB5s+1xnW7qVdCrjYjFwch36pUtXoEFsyk5R2oE3kobjiV5t4egPZeBkrOhVtl3rFL7d+QN9jEo/oU90XjetJygd6xxRRxzjwMnfCSHEaJ9aodvMVTdy5xUDXACXiIiIiIiIiIiIiOiG6LTGCd0M7VtnY8kqZ/ScbwBC3mZ4YYD5PgZNiIiIiIiIiIiIiIhuxNdekppuPUtqNnCgAlk5nSj5+UKYDDJCJ2tQccAPw6IqPPngrT5DIiIiIiIiIiIiIqI7C6fqusOF/U6U73XDezKIbgAJ02zIeLoERY9bkDDpVp8dEREREREREREREdGdhYETIiIiIiIiIiIiIiIiFdc4ISIiIiIiIiIiIiIiUjFwQkREREREREREREREpGLghIiIiIiIiIiIiIiISMXACRERERERERERERERkYqBEyIiIiIiIiIiIiIiIhUDJ0RERERERERERERERCoGToiIiIiIiIiIiIiIiFQMnBAREREREREREREREakYOCEiIiIiIiIiIiIiIlIxcEJERERERERERERERKRi4ISIiIiIiIiIiIiIiEjFwAkREREREREREREREZGKgRMiIiIiIiIiIiIiIiIVAydEREREREREREREREQqBk6IiIiIiIiIiIiIiIhUDJwQERERERERERERERGpGDghIiIiIiIiIiIiIiJSMXBCRERERERERERERESkYuCEiIiIiIiIiIiIiIhIxcAJERERERERERERERGRioETIiIiIiIiIiIiIiIiFQMnREREREREREREREREKgZOiIiIiIiIiIiIiIiIVHc5nc5bfQ5ERERERERERERERES3hbvuueeeW30OREREREREREREREREtwUGToiIiIiIiIiIiIiIiFT/HykI41+qTy3uAAAAAElFTkSuQmCC)"
      ],
      "metadata": {
        "id": "prjSY6A4INP0"
      }
    },
    {
      "cell_type": "markdown",
      "source": [
        "# We have Selected Random Forest as a best Classification Model"
      ],
      "metadata": {
        "id": "8ZbN-sPgIlhd"
      }
    },
    {
      "cell_type": "markdown",
      "source": [
        "### ***Hurrah! You have successfully completed your Machine Learning Capstone Project !!!***"
      ],
      "metadata": {
        "id": "gIfDvo9L0UH2"
      }
    }
  ]
}